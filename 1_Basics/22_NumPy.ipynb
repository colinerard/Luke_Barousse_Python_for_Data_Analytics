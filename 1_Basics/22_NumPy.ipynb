{
 "cells": [
  {
   "cell_type": "markdown",
   "metadata": {},
   "source": [
    "# 22 NumPy"
   ]
  },
  {
   "cell_type": "markdown",
   "metadata": {},
   "source": [
    "One of the most powerful and useful libraries for data analytics."
   ]
  },
  {
   "cell_type": "code",
   "execution_count": 44,
   "metadata": {},
   "outputs": [],
   "source": [
    "# create a list of 1,000,000 salaries ranging from 50,000 to 150,000\n",
    "\n",
    "import random # importing the random module to generate random values within specified parameters\n",
    "\n",
    "salary_list = [random.randint(50000, 150000) for _ in range(1_000_000)] # creating the list of salaries using list comprehension!"
   ]
  },
  {
   "cell_type": "code",
   "execution_count": 45,
   "metadata": {},
   "outputs": [],
   "source": [
    "import statistics"
   ]
  },
  {
   "cell_type": "code",
   "execution_count": 46,
   "metadata": {},
   "outputs": [
    {
     "name": "stderr",
     "output_type": "stream",
     "text": [
      "UsageError: Line magic function `%%timeit` not found.\n"
     ]
    }
   ],
   "source": [
    "# use the statistics library to define info from the list of salaries.\n",
    "\n",
    "%%timeit\n",
    "\n",
    "statistics.mean(salary_list)"
   ]
  },
  {
   "cell_type": "code",
   "execution_count": 11,
   "metadata": {},
   "outputs": [],
   "source": [
    "# now let's do a similar thing with numpy to see which one is faster"
   ]
  },
  {
   "cell_type": "code",
   "execution_count": 12,
   "metadata": {},
   "outputs": [],
   "source": [
    "import numpy as np"
   ]
  },
  {
   "cell_type": "code",
   "execution_count": 13,
   "metadata": {},
   "outputs": [
    {
     "name": "stdout",
     "output_type": "stream",
     "text": [
      "31.7 ms ± 719 μs per loop (mean ± std. dev. of 7 runs, 10 loops each)\n"
     ]
    }
   ],
   "source": [
    "%%timeit\n",
    "\n",
    "np.mean(salary_list)\n",
    "\n",
    "# numpy is using approx 1/6 of the time of the normal statistics package. The more rows we have, the more time we save!"
   ]
  },
  {
   "cell_type": "markdown",
   "metadata": {},
   "source": [
    "---\n",
    "Numpy is very useful to do arithmetics and statistics manipulations on large datasets and is a great tool integrated with other libraries such as MatPlotLyb and Pandas.\n",
    "---"
   ]
  },
  {
   "cell_type": "markdown",
   "metadata": {},
   "source": [
    "Let's see a couple of use cases for numpy."
   ]
  },
  {
   "cell_type": "code",
   "execution_count": 19,
   "metadata": {},
   "outputs": [],
   "source": [
    "# arrays are a useful case for NumPy\n",
    "\n",
    "my_array = np.array([1, 2, 3, 4])"
   ]
  },
  {
   "cell_type": "code",
   "execution_count": 21,
   "metadata": {},
   "outputs": [
    {
     "data": {
      "text/plain": [
       "np.float64(2.5)"
      ]
     },
     "execution_count": 21,
     "metadata": {},
     "output_type": "execute_result"
    }
   ],
   "source": [
    "# can then do calculations on that array\n",
    "\n",
    "my_array.mean()"
   ]
  },
  {
   "cell_type": "code",
   "execution_count": 31,
   "metadata": {},
   "outputs": [],
   "source": [
    "# let's say we have data across multiple arrays\n",
    "# we can do operations across arrays\n",
    "\n",
    "import numpy as np\n",
    "\n",
    "# Job Titles\n",
    "job_titles = np.array([\"Data Analyst\", \"Data Scientist\", \"Data Engineer\", \"Machine Learning Engineer\", \"AI Engineer\"])\n",
    "\n",
    "# Base salaries\n",
    "base_salaries = np.array([60000, 80000, 75000, 90000, np.nan])\n",
    "\n",
    "# Bonus rates\n",
    "bonus_rates = np.array([.05, .1, .08, .12, np.nan])"
   ]
  },
  {
   "cell_type": "code",
   "execution_count": 28,
   "metadata": {},
   "outputs": [
    {
     "name": "stdout",
     "output_type": "stream",
     "text": [
      "[ 63000.  88000.  81000. 100800.]\n"
     ]
    }
   ],
   "source": [
    "total_salaries = base_salaries * (1 + bonus_rates)\n",
    "\n",
    "print(total_salaries)"
   ]
  },
  {
   "cell_type": "code",
   "execution_count": 30,
   "metadata": {},
   "outputs": [
    {
     "name": "stdout",
     "output_type": "stream",
     "text": [
      "83200.0\n"
     ]
    }
   ],
   "source": [
    "print(np.mean(total_salaries))"
   ]
  },
  {
   "cell_type": "code",
   "execution_count": 33,
   "metadata": {},
   "outputs": [
    {
     "data": {
      "text/plain": [
       "np.float64(83200.0)"
      ]
     },
     "execution_count": 33,
     "metadata": {},
     "output_type": "execute_result"
    }
   ],
   "source": [
    "# what about when we have missing data?\n",
    "\n",
    "# we added an extra job in the arrays above and missing data i.e. salary and bonus rates\n",
    "\n",
    "# numpy as a specific command for these cases of numerical data np.nan . It is an empty float.as_integer_ratio\n",
    "\n",
    "# we however can't use normal np methods for calculcations\n",
    "\n",
    "np.mean(total_salaries)\n",
    "\n",
    "np.nanmean(total_salaries)"
   ]
  },
  {
   "cell_type": "markdown",
   "metadata": {},
   "source": [
    "## 22.1 Basic Operations - a copy from the course code (not part of the video)"
   ]
  },
  {
   "cell_type": "markdown",
   "metadata": {},
   "source": [
    "### Install package"
   ]
  },
  {
   "cell_type": "code",
   "execution_count": 41,
   "metadata": {},
   "outputs": [],
   "source": [
    "import numpy as np"
   ]
  },
  {
   "cell_type": "markdown",
   "metadata": {},
   "source": [
    "### Create an array"
   ]
  },
  {
   "cell_type": "code",
   "execution_count": 48,
   "metadata": {},
   "outputs": [],
   "source": [
    "# create an array representing the number of years of experience for a job\n",
    "years_of_experience = np.array([1, 2, 3, 4, 5])"
   ]
  },
  {
   "cell_type": "markdown",
   "metadata": {},
   "source": [
    "### Addition"
   ]
  },
  {
   "cell_type": "code",
   "execution_count": 49,
   "metadata": {},
   "outputs": [
    {
     "data": {
      "text/plain": [
       "array([2, 3, 4, 5, 6])"
      ]
     },
     "execution_count": 49,
     "metadata": {},
     "output_type": "execute_result"
    }
   ],
   "source": [
    "# adding 1 year to the array\n",
    "years_of_experience_plus_one = years_of_experience + 1\n",
    "years_of_experience_plus_one"
   ]
  },
  {
   "cell_type": "markdown",
   "metadata": {},
   "source": [
    "### Subtraction"
   ]
  },
  {
   "cell_type": "code",
   "execution_count": 50,
   "metadata": {},
   "outputs": [
    {
     "name": "stdout",
     "output_type": "stream",
     "text": [
      "[0 1 2 3 4]\n"
     ]
    }
   ],
   "source": [
    "# remove 1 year to the array\n",
    "years_of_experience_minus_one = years_of_experience - 1\n",
    "print(years_of_experience_minus_one)"
   ]
  },
  {
   "cell_type": "markdown",
   "metadata": {},
   "source": [
    "### Division"
   ]
  },
  {
   "cell_type": "code",
   "execution_count": 51,
   "metadata": {},
   "outputs": [
    {
     "name": "stdout",
     "output_type": "stream",
     "text": [
      "[0.5 1.  1.5 2.  2.5]\n"
     ]
    }
   ],
   "source": [
    "# divide by 2\n",
    "years_of_experience_half = years_of_experience / 2\n",
    "print(years_of_experience_half)"
   ]
  },
  {
   "cell_type": "markdown",
   "metadata": {},
   "source": [
    "### Multiplication"
   ]
  },
  {
   "cell_type": "code",
   "execution_count": 52,
   "metadata": {},
   "outputs": [
    {
     "name": "stdout",
     "output_type": "stream",
     "text": [
      "[ 2  4  6  8 10]\n"
     ]
    }
   ],
   "source": [
    "# multiply by 2\n",
    "years_of_experience_double = years_of_experience * 2\n",
    "print(years_of_experience_double)"
   ]
  },
  {
   "cell_type": "markdown",
   "metadata": {},
   "source": [
    "### Slicing"
   ]
  },
  {
   "cell_type": "code",
   "execution_count": 53,
   "metadata": {},
   "outputs": [
    {
     "name": "stdout",
     "output_type": "stream",
     "text": [
      "[2 3]\n"
     ]
    }
   ],
   "source": [
    "# only get some digits from an array using their index numbers. Only get the 2 and 3 listing in the array\n",
    "second_and_third_job_experience = years_of_experience[1:3]\n",
    "print(second_and_third_job_experience) "
   ]
  },
  {
   "cell_type": "markdown",
   "metadata": {},
   "source": [
    "### Boolean indexing"
   ]
  },
  {
   "cell_type": "code",
   "execution_count": 54,
   "metadata": {},
   "outputs": [
    {
     "name": "stdout",
     "output_type": "stream",
     "text": [
      "[3 4 5]\n"
     ]
    }
   ],
   "source": [
    "# only get items that meet a certain condition\n",
    "above_one_year_exp = years_of_experience[years_of_experience > 2]\n",
    "print(above_one_year_exp)"
   ]
  },
  {
   "cell_type": "markdown",
   "metadata": {},
   "source": [
    "## 22.2 Math Operations"
   ]
  },
  {
   "cell_type": "markdown",
   "metadata": {},
   "source": [
    "Aggregate functions:\n",
    "- sum: sum\n",
    "- prod: product\n",
    "- cumsum: cumulative sum\n",
    "- cumprod: cumulative product\n",
    "\n",
    "Mathematical operations (we won't be going into this during the course):\n",
    "- sqrt\n",
    "- exp\n",
    "- log\n",
    "- sin\n",
    "- cos"
   ]
  },
  {
   "cell_type": "code",
   "execution_count": 58,
   "metadata": {},
   "outputs": [
    {
     "name": "stdout",
     "output_type": "stream",
     "text": [
      "[119351, 112286, 105593, 111658, 145267, 148677, 111432, 140406, 112898, 102538]\n"
     ]
    }
   ],
   "source": [
    "# first let's create a random list with 10 yearly salaries.\n",
    "\n",
    "import random\n",
    "\n",
    "salary = [random.randint(100_000, 150_000) for num in range(10)]\n",
    "\n",
    "print(salary)"
   ]
  },
  {
   "cell_type": "code",
   "execution_count": 60,
   "metadata": {},
   "outputs": [
    {
     "data": {
      "text/plain": [
       "array([119351, 112286, 105593, 111658, 145267, 148677, 111432, 140406,\n",
       "       112898, 102538])"
      ]
     },
     "execution_count": 60,
     "metadata": {},
     "output_type": "execute_result"
    }
   ],
   "source": [
    "# now let's convert into an array\n",
    "\n",
    "salary_array = np.array(salary)\n",
    "\n",
    "salary_array"
   ]
  },
  {
   "cell_type": "markdown",
   "metadata": {},
   "source": [
    "### Sum"
   ]
  },
  {
   "cell_type": "code",
   "execution_count": 61,
   "metadata": {},
   "outputs": [
    {
     "data": {
      "text/plain": [
       "np.int64(1210106)"
      ]
     },
     "execution_count": 61,
     "metadata": {},
     "output_type": "execute_result"
    }
   ],
   "source": [
    "# sum all items within the array\n",
    "\n",
    "salary_array_sum = np.sum(salary_array)\n",
    "\n",
    "salary_array_sum"
   ]
  },
  {
   "cell_type": "markdown",
   "metadata": {},
   "source": [
    "### Prod"
   ]
  },
  {
   "cell_type": "code",
   "execution_count": 62,
   "metadata": {},
   "outputs": [
    {
     "data": {
      "text/plain": [
       "np.int64(-6104619559599422208)"
      ]
     },
     "execution_count": 62,
     "metadata": {},
     "output_type": "execute_result"
    }
   ],
   "source": [
    "product_salary_array = np.prod(salary_array)\n",
    "\n",
    "product_salary_array"
   ]
  },
  {
   "cell_type": "markdown",
   "metadata": {},
   "source": [
    "### Cumsum (cumulative sum)"
   ]
  },
  {
   "cell_type": "markdown",
   "metadata": {},
   "source": [
    "Calculates the cumulative sum of elements of the salary_array. It calculates the cumulative sum at each index, meaning each element in the output array is the sum of all preceding elements including the current one from the original array."
   ]
  },
  {
   "cell_type": "code",
   "execution_count": 63,
   "metadata": {},
   "outputs": [
    {
     "data": {
      "text/plain": [
       "array([ 119351,  231637,  337230,  448888,  594155,  742832,  854264,\n",
       "        994670, 1107568, 1210106])"
      ]
     },
     "execution_count": 63,
     "metadata": {},
     "output_type": "execute_result"
    }
   ],
   "source": [
    "cumsum_salary_array = np.cumsum(salary_array)\n",
    "\n",
    "cumsum_salary_array"
   ]
  },
  {
   "cell_type": "markdown",
   "metadata": {},
   "source": [
    "### Cumprod (cumulative product)"
   ]
  },
  {
   "cell_type": "markdown",
   "metadata": {},
   "source": [
    "Calculates the cumulative product of elements of the salary_array. It calculates the cumulative product at each index, meaning each element in the output array is the product of all preceding elements including the current one from the original array.\n",
    "\n",
    "**Note**: Due to the large numbers, the cumulative product values quickly escalate to the point where they exceed the numerical limit for typical data types in Python, leading to integer overflow. This is why some numbers appear as negative."
   ]
  },
  {
   "cell_type": "code",
   "execution_count": 64,
   "metadata": {},
   "outputs": [
    {
     "data": {
      "text/plain": [
       "array([              119351,          13401446386,     1415098928236898,\n",
       "       -8013580534310407660, -8571962155025265924, -4962758245959736340,\n",
       "        4863721953308057184, -2721032556523847616, -5504506944185089920,\n",
       "       -6104619559599422208])"
      ]
     },
     "execution_count": 64,
     "metadata": {},
     "output_type": "execute_result"
    }
   ],
   "source": [
    "cumprod_salary_array = np.cumprod(salary_array)\n",
    "\n",
    "cumprod_salary_array"
   ]
  },
  {
   "cell_type": "markdown",
   "metadata": {},
   "source": [
    "## 22.3 Statistic operations"
   ]
  },
  {
   "cell_type": "markdown",
   "metadata": {},
   "source": [
    "A lot of these you can also use Pandas because Pandas is built on top of NumPy. So here's a few examples but we won't be diving deep into them.\n",
    "\n",
    "- mean\n",
    "- median\n",
    "- var: variance\n",
    "- std: standard deviation\n",
    "- min\n",
    "- max"
   ]
  },
  {
   "cell_type": "markdown",
   "metadata": {},
   "source": [
    "### Mean"
   ]
  },
  {
   "cell_type": "code",
   "execution_count": 65,
   "metadata": {},
   "outputs": [
    {
     "data": {
      "text/plain": [
       "np.float64(121010.6)"
      ]
     },
     "execution_count": 65,
     "metadata": {},
     "output_type": "execute_result"
    }
   ],
   "source": [
    "average_salary = np.mean(salary_array)\n",
    "\n",
    "average_salary"
   ]
  },
  {
   "cell_type": "markdown",
   "metadata": {},
   "source": [
    "### Median"
   ]
  },
  {
   "cell_type": "code",
   "execution_count": 66,
   "metadata": {},
   "outputs": [
    {
     "data": {
      "text/plain": [
       "np.float64(112592.0)"
      ]
     },
     "execution_count": 66,
     "metadata": {},
     "output_type": "execute_result"
    }
   ],
   "source": [
    "median_salary = np.median(salary_array)\n",
    "\n",
    "median_salary"
   ]
  },
  {
   "cell_type": "markdown",
   "metadata": {},
   "source": [
    "### Var"
   ]
  },
  {
   "cell_type": "code",
   "execution_count": 67,
   "metadata": {},
   "outputs": [
    {
     "data": {
      "text/plain": [
       "np.float64(263283141.24)"
      ]
     },
     "execution_count": 67,
     "metadata": {},
     "output_type": "execute_result"
    }
   ],
   "source": [
    "var_salary = np.var(salary_array)\n",
    "\n",
    "var_salary"
   ]
  },
  {
   "cell_type": "markdown",
   "metadata": {},
   "source": [
    "### Std"
   ]
  },
  {
   "cell_type": "code",
   "execution_count": 68,
   "metadata": {},
   "outputs": [
    {
     "data": {
      "text/plain": [
       "np.float64(16226.00201035363)"
      ]
     },
     "execution_count": 68,
     "metadata": {},
     "output_type": "execute_result"
    }
   ],
   "source": [
    "std_salary = np.std(salary_array)\n",
    "\n",
    "std_salary"
   ]
  },
  {
   "cell_type": "markdown",
   "metadata": {},
   "source": [
    "### Min"
   ]
  },
  {
   "cell_type": "code",
   "execution_count": 69,
   "metadata": {},
   "outputs": [
    {
     "data": {
      "text/plain": [
       "np.int64(102538)"
      ]
     },
     "execution_count": 69,
     "metadata": {},
     "output_type": "execute_result"
    }
   ],
   "source": [
    "min_salary = np.min(salary_array)\n",
    "\n",
    "min_salary"
   ]
  },
  {
   "cell_type": "markdown",
   "metadata": {},
   "source": [
    "### Max"
   ]
  },
  {
   "cell_type": "code",
   "execution_count": 70,
   "metadata": {},
   "outputs": [
    {
     "data": {
      "text/plain": [
       "np.int64(148677)"
      ]
     },
     "execution_count": 70,
     "metadata": {},
     "output_type": "execute_result"
    }
   ],
   "source": [
    "max_salary = np.max(salary_array)\n",
    "\n",
    "max_salary"
   ]
  },
  {
   "cell_type": "markdown",
   "metadata": {},
   "source": [
    "## 22.4 NaN"
   ]
  },
  {
   "cell_type": "markdown",
   "metadata": {},
   "source": [
    "- Generate NaN values using np.nan\n",
    "- np.nan value is used in NumPy (and by extension, Pandas) to represent missing or undefined data\n",
    "- Helpful because it:\n",
    "    - Handles missing data.\n",
    "    - Helps with computations since it won't return errors but instead return np.nan.\n",
    "    - Help filter out or fill in missing data using other methods that we'll use often in the pandas library like dropna(), fillna(), isna(), or notna()."
   ]
  },
  {
   "cell_type": "markdown",
   "metadata": {},
   "source": [
    "### Insert missing values"
   ]
  },
  {
   "cell_type": "code",
   "execution_count": 73,
   "metadata": {},
   "outputs": [
    {
     "data": {
      "text/plain": [
       "array([    nan, 112286.,     nan, 111658., 145267., 148677., 111432.,\n",
       "       140406., 112898., 102538.])"
      ]
     },
     "execution_count": 73,
     "metadata": {},
     "output_type": "execute_result"
    }
   ],
   "source": [
    "# when we have missing values within an array. We add np.nan rather than 0 or None or NULL\n",
    "\n",
    "salary_nan = np.array([np.nan, 112286, np.nan, 111658, 145267, 148677, 111432, 140406, 112898, 102538])\n",
    "\n",
    "salary_nan"
   ]
  },
  {
   "cell_type": "markdown",
   "metadata": {},
   "source": [
    "### replace values with nan"
   ]
  },
  {
   "cell_type": "code",
   "execution_count": 74,
   "metadata": {},
   "outputs": [
    {
     "data": {
      "text/plain": [
       "array([    nan,     nan,     nan,     nan, 145267., 148677.,     nan,\n",
       "       140406.,     nan,     nan])"
      ]
     },
     "execution_count": 74,
     "metadata": {},
     "output_type": "execute_result"
    }
   ],
   "source": [
    "# replace all values under e.g. a certain threshold\n",
    "\n",
    "salary_nan[salary_nan < 120_000] = np.nan\n",
    "salary_nan"
   ]
  },
  {
   "cell_type": "markdown",
   "metadata": {},
   "source": [
    "## 22.5 Where"
   ]
  },
  {
   "cell_type": "markdown",
   "metadata": {},
   "source": [
    "- np.where check elements of an array against a condition and to assign a value for True and another for false.\n",
    "- Syntax: np.where(condition).\n",
    "- It's commonly used to conditionally replace array elements."
   ]
  },
  {
   "cell_type": "code",
   "execution_count": 75,
   "metadata": {},
   "outputs": [
    {
     "data": {
      "text/plain": [
       "array([120000, 120000, 120000, 120000, 145267, 148677, 120000, 140406,\n",
       "       120000, 120000])"
      ]
     },
     "execution_count": 75,
     "metadata": {},
     "output_type": "execute_result"
    }
   ],
   "source": [
    "# replace all values under 120_000 with 120_000, otherwise leave the same\n",
    "\n",
    "salary_where = np.where(salary_array < 120_000, 120_000, salary_array)\n",
    "\n",
    "salary_where"
   ]
  },
  {
   "cell_type": "markdown",
   "metadata": {},
   "source": [
    "## 22.6 Random"
   ]
  },
  {
   "cell_type": "markdown",
   "metadata": {},
   "source": [
    "- Generate a random numbers or samples.\n",
    "- np.random.normal - draws random samples from a normal (Gaussian) distribution.\n",
    "    - Specify the Arguments:\n",
    "        - loc: This is the mean (μ) of the normal distribution.\n",
    "        - scale: This is the standard deviation (σ) of the normal distribution, representing the dispersion from the mean.\n",
    "        - size: This defines the number of random samples to draw, which is set to match the number of job postings.\n",
    "    - Syntax: np.random.normal(loc=0.0, scale=1.0, size=None)\n",
    "- A few other random sampling functions:\n",
    "    - np.random.rand\n",
    "    - np.random.randn\n",
    "    - np.random.randint\n",
    "    - np.random.random\n",
    "    - np.random.uniform\n",
    "    - np.random.binomial\n",
    "    - np.random.poisson"
   ]
  },
  {
   "cell_type": "code",
   "execution_count": 77,
   "metadata": {},
   "outputs": [
    {
     "data": {
      "text/plain": [
       "array([119469.24947264, 106559.51882167, 112566.48763514, 114878.24528747,\n",
       "       149695.81032986, 155359.38678684, 110513.45435895, 141677.79729437,\n",
       "       111694.11674924, 105976.13338643])"
      ]
     },
     "execution_count": 77,
     "metadata": {},
     "output_type": "execute_result"
    }
   ],
   "source": [
    "# let's add some noise to the salary_array distribution using a random function.\n",
    "# this is a use case to simulate data for job postings in cases where actual data is nor available.\n",
    "\n",
    "# generate random variables / noise\n",
    "\n",
    "noise = np.random.normal(0, 5000, salary_array.size)\n",
    "\n",
    "# add these numbers to the salary_array\n",
    "\n",
    "salary_with_noise = salary_array + noise\n",
    "salary_with_noise"
   ]
  },
  {
   "cell_type": "markdown",
   "metadata": {},
   "source": [
    "# 22 Problems"
   ]
  },
  {
   "cell_type": "markdown",
   "metadata": {},
   "source": [
    "### 1.22.1"
   ]
  },
  {
   "cell_type": "markdown",
   "metadata": {},
   "source": [
    "Create a NumPy array representing the number of job applications received each day for a week (7 days). The array should be called applications and contain the following numbers: [10, 15, 7, 20, 25, 30, 5]. Print the array."
   ]
  },
  {
   "cell_type": "code",
   "execution_count": 79,
   "metadata": {},
   "outputs": [
    {
     "name": "stdout",
     "output_type": "stream",
     "text": [
      "[10 15  7 20 25 30  5]\n"
     ]
    }
   ],
   "source": [
    "# applications data\n",
    "applications_list = [10, 15, 7, 20, 25, 30, 5]\n",
    "\n",
    "# create an array\n",
    "\n",
    "applications_array = np.array(applications_list)\n",
    "\n",
    "# print the array\n",
    "\n",
    "print(applications_array)"
   ]
  },
  {
   "cell_type": "markdown",
   "metadata": {},
   "source": [
    "### 1.22.2"
   ]
  },
  {
   "cell_type": "markdown",
   "metadata": {},
   "source": [
    "Create a NumPy array representing the number of job postings for different job titles called postings. The array contains [10, 15, 7, 20, 25, 30, 5]. Use slicing to get the number of postings for the first three job titles."
   ]
  },
  {
   "cell_type": "code",
   "execution_count": 81,
   "metadata": {},
   "outputs": [
    {
     "name": "stdout",
     "output_type": "stream",
     "text": [
      "[10 15  7]\n"
     ]
    }
   ],
   "source": [
    "# add postings data\n",
    "\n",
    "postings_list = [10, 15, 7, 20, 25, 30, 5]\n",
    "\n",
    "# create an array\n",
    "\n",
    "postings_array = np.array(postings_list)\n",
    "\n",
    "# sliced array\n",
    "\n",
    "sliced_array = applications_array[0:3]\n",
    "\n",
    "# print\n",
    "\n",
    "print(sliced_array)"
   ]
  },
  {
   "cell_type": "markdown",
   "metadata": {},
   "source": [
    "### 1.22.3"
   ]
  },
  {
   "cell_type": "markdown",
   "metadata": {},
   "source": [
    "Create a NumPy array representing the salaries called salaries offered for five different job positions. Calculate the highest and lowest salary using NumPy functions. The array salaries contains [70000, 85000, 60000, 95000, 80000]."
   ]
  },
  {
   "cell_type": "code",
   "execution_count": 82,
   "metadata": {},
   "outputs": [
    {
     "name": "stdout",
     "output_type": "stream",
     "text": [
      "95000 60000\n"
     ]
    }
   ],
   "source": [
    "# add salaries data\n",
    "\n",
    "salaries_data = [70000, 85000, 60000, 95000, 80000]\n",
    "\n",
    "# convert to array\n",
    "\n",
    "salaries_array = np.array(salaries_data)\n",
    "\n",
    "# calculate max\n",
    "\n",
    "salaries_max = np.max(salaries_array)\n",
    "\n",
    "# calculate min\n",
    "\n",
    "salaries_min = np.min(salaries_array)\n",
    "\n",
    "# print\n",
    "\n",
    "print(salaries_max, salaries_min)"
   ]
  }
 ],
 "metadata": {
  "kernelspec": {
   "display_name": "Python 3",
   "language": "python",
   "name": "python3"
  },
  "language_info": {
   "codemirror_mode": {
    "name": "ipython",
    "version": 3
   },
   "file_extension": ".py",
   "mimetype": "text/x-python",
   "name": "python",
   "nbconvert_exporter": "python",
   "pygments_lexer": "ipython3",
   "version": "3.11.9"
  }
 },
 "nbformat": 4,
 "nbformat_minor": 2
}
