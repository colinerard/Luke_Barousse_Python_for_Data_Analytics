{
 "cells": [
  {
   "cell_type": "markdown",
   "metadata": {},
   "source": [
    "# 18 Modules"
   ]
  },
  {
   "cell_type": "markdown",
   "metadata": {},
   "source": [
    "they allow us to bring other functions and functionalities inside our notebook to use them.\n",
    "\n",
    "It's essentially a file containing a set of cuntions that we want to include in our notebook. It's the same as a code library."
   ]
  },
  {
   "cell_type": "markdown",
   "metadata": {},
   "source": [
    "## Intro to modules"
   ]
  },
  {
   "cell_type": "markdown",
   "metadata": {},
   "source": [
    "We can access a python file or other stuff from our jupyter notebook.\n",
    "\n",
    "e.g. we have created a 18_my_module.py file with one variable defined within it and want to use it in this notebook. "
   ]
  },
  {
   "cell_type": "code",
   "execution_count": 1,
   "metadata": {},
   "outputs": [],
   "source": [
    "# import the module\n",
    "\n",
    "import my_module"
   ]
  },
  {
   "cell_type": "code",
   "execution_count": 2,
   "metadata": {},
   "outputs": [
    {
     "data": {
      "text/plain": [
       "['Python', 'SQL', 'Excel']"
      ]
     },
     "execution_count": 2,
     "metadata": {},
     "output_type": "execute_result"
    }
   ],
   "source": [
    "# bring in something from the module\n",
    "\n",
    "my_module.skill_list"
   ]
  },
  {
   "cell_type": "code",
   "execution_count": 3,
   "metadata": {},
   "outputs": [
    {
     "data": {
      "text/plain": [
       "'Excel is my favourite skill!'"
      ]
     },
     "execution_count": 3,
     "metadata": {},
     "output_type": "execute_result"
    }
   ],
   "source": [
    "# it's not very common to list variables inside a notebook. It's more common to list function.\n",
    "\n",
    "my_module.skill(\"Excel\")"
   ]
  },
  {
   "cell_type": "markdown",
   "metadata": {},
   "source": [
    "Whenever you make changes to a module (e.g. a .py file), you need to restart and run all the jupyter notebook to ensure the saved changes to the module are taken into account."
   ]
  },
  {
   "cell_type": "code",
   "execution_count": 4,
   "metadata": {},
   "outputs": [],
   "source": [
    "import job_analyser"
   ]
  },
  {
   "cell_type": "code",
   "execution_count": 5,
   "metadata": {},
   "outputs": [
    {
     "data": {
      "text/plain": [
       "110000.00000000001"
      ]
     },
     "execution_count": 5,
     "metadata": {},
     "output_type": "execute_result"
    }
   ],
   "source": [
    "job_analyser.calculate_salary (100000)"
   ]
  },
  {
   "cell_type": "code",
   "execution_count": 6,
   "metadata": {},
   "outputs": [
    {
     "data": {
      "text/plain": [
       "110000.00000000001"
      ]
     },
     "execution_count": 6,
     "metadata": {},
     "output_type": "execute_result"
    }
   ],
   "source": [
    "# we can use another key word to ensure we only import a specific portion of a module\n",
    "\n",
    "from job_analyser import calculate_salary\n",
    "\n",
    "calculate_salary(100000)"
   ]
  },
  {
   "cell_type": "code",
   "execution_count": 7,
   "metadata": {},
   "outputs": [
    {
     "name": "stdout",
     "output_type": "stream",
     "text": [
      "110000.00000000001\n",
      "0.1\n"
     ]
    }
   ],
   "source": [
    "# we want to import all elements within a module\n",
    "\n",
    "from job_analyser import *\n",
    "\n",
    "print(calculate_salary(100_000))\n",
    "\n",
    "print(calculate_bonus(110_000, 100_000))"
   ]
  },
  {
   "cell_type": "code",
   "execution_count": 8,
   "metadata": {},
   "outputs": [
    {
     "name": "stdout",
     "output_type": "stream",
     "text": [
      "Help on function calculate_salary in module job_analyser:\n",
      "\n",
      "calculate_salary(base_salary, bonus_rate=0.1)\n",
      "    Calculate the total salary based on the base salary and a bonus rate.\n",
      "    \n",
      "    Args:\n",
      "        base_salary (float): the base salary\n",
      "        bonus_rate (float): the bonus rate. Default is .1\n",
      "    \n",
      "    Returns\n",
      "        float: the total salary\n",
      "\n"
     ]
    }
   ],
   "source": [
    "# we can also use help to search terms within a module to get more info. Useful if we are using a module of someone else\n",
    "\n",
    "help(calculate_salary)\n",
    "\n",
    "# you can write a description for different modules in the .py file :)"
   ]
  },
  {
   "cell_type": "markdown",
   "metadata": {},
   "source": [
    "Going to the standard python library, we have access to a variety of modules that we can use into our notebooks.\n",
    "\n",
    "[Python Library](https://docs.python.org/3/library/index.html)\n"
   ]
  },
  {
   "cell_type": "markdown",
   "metadata": {},
   "source": [
    "## Statistics Module"
   ]
  },
  {
   "cell_type": "code",
   "execution_count": 9,
   "metadata": {},
   "outputs": [],
   "source": [
    "# importing the statistics module (part of the Python Library!!)\n",
    "\n",
    "import statistics"
   ]
  },
  {
   "cell_type": "code",
   "execution_count": 10,
   "metadata": {},
   "outputs": [],
   "source": [
    "salary_list = [98000, 75000, 110000, 225000, 92000]"
   ]
  },
  {
   "cell_type": "code",
   "execution_count": 11,
   "metadata": {},
   "outputs": [
    {
     "data": {
      "text/plain": [
       "120000"
      ]
     },
     "execution_count": 11,
     "metadata": {},
     "output_type": "execute_result"
    }
   ],
   "source": [
    "statistics.mean(salary_list)"
   ]
  },
  {
   "cell_type": "code",
   "execution_count": 12,
   "metadata": {},
   "outputs": [
    {
     "name": "stdout",
     "output_type": "stream",
     "text": [
      "Mean:   120000\n",
      "Mode:   98000\n",
      "Median: 98000\n"
     ]
    }
   ],
   "source": [
    "from statistics import mean, mode, median\n",
    "\n",
    "print(f'Mean:   {mean(salary_list)}')\n",
    "print(f'Mode:   {mode(salary_list)}')\n",
    "print(f'Median: {median(salary_list)}')"
   ]
  },
  {
   "cell_type": "markdown",
   "metadata": {},
   "source": [
    "# 18 Problems"
   ]
  },
  {
   "cell_type": "markdown",
   "metadata": {},
   "source": [
    "## 1.18.1"
   ]
  },
  {
   "cell_type": "markdown",
   "metadata": {},
   "source": [
    "Create a module named salary_calculator with a function calculate_annual_salary that takes an hourly wage and hours per week, and returns the annual salary. Import this module and use the function to calculate the annual salary for an hourly wage of $50 and 40 hours per week."
   ]
  },
  {
   "cell_type": "code",
   "execution_count": 13,
   "metadata": {},
   "outputs": [],
   "source": [
    "from salary_calculator import calculate_annual_salary"
   ]
  },
  {
   "cell_type": "code",
   "execution_count": 14,
   "metadata": {},
   "outputs": [
    {
     "name": "stdout",
     "output_type": "stream",
     "text": [
      "Help on function calculate_annual_salary in module salary_calculator:\n",
      "\n",
      "calculate_annual_salary(hourly_wage, weekly_hours)\n",
      "    Calculate the total annual salary based on the hourly wage and hours per week. Assumes 52 working weeks / year.\n",
      "    \n",
      "    Args:\n",
      "        hourly_wage (float): the hourly salary, in dollars / hours\n",
      "        Weekly hours (float): hours per week\n",
      "    \n",
      "    Returns\n",
      "        float: the total yearly salary\n",
      "\n"
     ]
    }
   ],
   "source": [
    "help(calculate_annual_salary)"
   ]
  },
  {
   "cell_type": "code",
   "execution_count": 15,
   "metadata": {},
   "outputs": [
    {
     "name": "stdout",
     "output_type": "stream",
     "text": [
      "104000\n"
     ]
    }
   ],
   "source": [
    "hourly_wage = 50\n",
    "weekly_hours = 40\n",
    "\n",
    "print(calculate_annual_salary(hourly_wage, weekly_hours))"
   ]
  },
  {
   "cell_type": "markdown",
   "metadata": {},
   "source": [
    "## 1.18.2"
   ]
  },
  {
   "cell_type": "markdown",
   "metadata": {},
   "source": [
    "Create a module named job_filter with a function filter_by_location that takes a list of job postings and a location and returns a list of job postings in that location. Import this module and use the function to filter job postings in 'New York'. Use the variable of job_postings shown below."
   ]
  },
  {
   "cell_type": "code",
   "execution_count": 18,
   "metadata": {},
   "outputs": [
    {
     "data": {
      "text/plain": [
       "[{'title': 'Data Scientist', 'location': 'New York'},\n",
       " {'title': 'Machine Learning Engineer', 'location': 'New York'}]"
      ]
     },
     "execution_count": 18,
     "metadata": {},
     "output_type": "execute_result"
    }
   ],
   "source": [
    "from job_filter import filter_by_location\n",
    "\n",
    "job_postings = [\n",
    "    {'title': 'Data Scientist', 'location': 'New York'},\n",
    "    {'title': 'Data Analyst', 'location': 'San Francisco'},\n",
    "    {'title': 'Machine Learning Engineer', 'location': 'New York'}\n",
    "]\n",
    "location = \"New York\"\n",
    "\n",
    "filter_by_location(job_postings, location)"
   ]
  }
 ],
 "metadata": {
  "kernelspec": {
   "display_name": "Python 3",
   "language": "python",
   "name": "python3"
  },
  "language_info": {
   "codemirror_mode": {
    "name": "ipython",
    "version": 3
   },
   "file_extension": ".py",
   "mimetype": "text/x-python",
   "name": "python",
   "nbconvert_exporter": "python",
   "pygments_lexer": "ipython3",
   "version": "3.11.9"
  }
 },
 "nbformat": 4,
 "nbformat_minor": 2
}
