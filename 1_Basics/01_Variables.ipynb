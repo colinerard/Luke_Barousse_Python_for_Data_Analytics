{
  "cells": [
    {
      "cell_type": "markdown",
      "metadata": {
        "id": "lyOhHJCD0pcq"
      },
      "source": [
        "# 1.1 Create a Variable"
      ]
    },
    {
      "cell_type": "markdown",
      "metadata": {
        "id": "4HpdF_sj0rNw"
      },
      "source": [
        "You specify the name of the variable of the left and the value of the variable on the right of an equal sign.\n",
        "\n",
        "variable_name = value\n",
        "\n",
        "E.g. let's say that the salary variable is worth 100,000"
      ]
    },
    {
      "cell_type": "code",
      "execution_count": 36,
      "metadata": {
        "id": "ONXC2kTl0q4A"
      },
      "outputs": [],
      "source": [
        "salary = 100000"
      ]
    },
    {
      "cell_type": "markdown",
      "metadata": {
        "id": "xgCnh9K91Ht2"
      },
      "source": [
        "Every variable appears in the variable pane on the left-side navigation bar.\n",
        "\n",
        "If I want to know what are the contents of a variable, I simply write it's name and press shift+enter to see them all"
      ]
    },
    {
      "cell_type": "code",
      "execution_count": 37,
      "metadata": {
        "colab": {
          "base_uri": "https://localhost:8080/"
        },
        "id": "2NdHIp2B1WC1",
        "outputId": "42d7f0ee-25f7-4ebb-ee4a-a8de1cf9e3c2"
      },
      "outputs": [
        {
          "data": {
            "text/plain": [
              "100000"
            ]
          },
          "execution_count": 37,
          "metadata": {},
          "output_type": "execute_result"
        }
      ],
      "source": [
        "salary"
      ]
    },
    {
      "cell_type": "markdown",
      "metadata": {
        "id": "02RyRV-31fNR"
      },
      "source": [
        "# 1.2 Calculations / Manipulations with a variable"
      ]
    },
    {
      "cell_type": "markdown",
      "metadata": {
        "id": "mvL8Z25c2DUO"
      },
      "source": [
        "I want to calculate total salary according to the formula below:\n",
        "\n",
        "Total salary = (base salary) * (1 + Bonus rate)\n",
        "\n",
        "First we need to define our variables (we can do more than one at a time using multiple rows in the same cell)"
      ]
    },
    {
      "cell_type": "code",
      "execution_count": 38,
      "metadata": {
        "id": "yOPKCKua1dus"
      },
      "outputs": [],
      "source": [
        "base_salary = 100000\n",
        "bonus_rate = 0.10"
      ]
    },
    {
      "cell_type": "markdown",
      "metadata": {
        "id": "oWytyvRm2QUn"
      },
      "source": [
        "Then we define the total_salary variable as per our initial formula."
      ]
    },
    {
      "cell_type": "code",
      "execution_count": 39,
      "metadata": {
        "id": "mQLGq_GD1y0T"
      },
      "outputs": [],
      "source": [
        "total_salary = base_salary * (1 + bonus_rate)"
      ]
    },
    {
      "cell_type": "markdown",
      "metadata": {
        "id": "aaGZd89q2T1T"
      },
      "source": [
        "Then we call the variable to see the result of our operation"
      ]
    },
    {
      "cell_type": "code",
      "execution_count": 40,
      "metadata": {
        "colab": {
          "base_uri": "https://localhost:8080/"
        },
        "id": "K9VBCpzW16cE",
        "outputId": "ef23ce4a-64fb-4a69-ec0c-687bb03b25b8"
      },
      "outputs": [
        {
          "data": {
            "text/plain": [
              "110000.00000000001"
            ]
          },
          "execution_count": 40,
          "metadata": {},
          "output_type": "execute_result"
        }
      ],
      "source": [
        "total_salary"
      ]
    },
    {
      "cell_type": "markdown",
      "metadata": {
        "id": "Avkz8Squ2XyO"
      },
      "source": [
        "Varible names can only be numbers, letters or underscores. We will have an error message and an indication of where the error is if we make a mistake.\n",
        "\n",
        "e.g. **lukes salary** doesn't work, but **lukes_salary** does"
      ]
    },
    {
      "cell_type": "code",
      "execution_count": 41,
      "metadata": {
        "colab": {
          "base_uri": "https://localhost:8080/",
          "height": 106
        },
        "id": "CuU1p6jv18ZC",
        "outputId": "45f06c94-b20f-444c-b67f-fec7a3e69cc2"
      },
      "outputs": [
        {
          "ename": "SyntaxError",
          "evalue": "invalid syntax (3347595642.py, line 1)",
          "output_type": "error",
          "traceback": [
            "\u001b[1;36m  Cell \u001b[1;32mIn[41], line 1\u001b[1;36m\u001b[0m\n\u001b[1;33m    lukes salary = 100000\u001b[0m\n\u001b[1;37m          ^\u001b[0m\n\u001b[1;31mSyntaxError\u001b[0m\u001b[1;31m:\u001b[0m invalid syntax\n"
          ]
        }
      ],
      "source": [
        "lukes salary = 100000\n",
        "lukes_salary = 100000"
      ]
    },
    {
      "cell_type": "markdown",
      "metadata": {
        "id": "wLDH9OJh2-NP"
      },
      "source": [
        "# 1.3 Variables aren't only numbers"
      ]
    },
    {
      "cell_type": "markdown",
      "metadata": {
        "id": "tLl-_ho83B5J"
      },
      "source": [
        "Create variables to store the following information about a job posting\n",
        "\n",
        "* Job ID (Integer)\n",
        "* Company Name (String)\n",
        "* Salary rate (string, but consider how you might store as a numerical type for calculations)\n",
        "* Job Work From Home (boolean)"
      ]
    },
    {
      "cell_type": "code",
      "execution_count": null,
      "metadata": {
        "id": "0xXoSyRg2fdX"
      },
      "outputs": [],
      "source": [
        "company_name = \"Data Wiz Inc.\""
      ]
    },
    {
      "cell_type": "code",
      "execution_count": null,
      "metadata": {
        "colab": {
          "base_uri": "https://localhost:8080/",
          "height": 36
        },
        "id": "MTR_CGJO3gQk",
        "outputId": "983e2741-6140-4305-d8ab-d2adb97e710a"
      },
      "outputs": [
        {
          "data": {
            "application/vnd.google.colaboratory.intrinsic+json": {
              "type": "string"
            },
            "text/plain": [
              "'Data Wiz Inc.'"
            ]
          },
          "execution_count": 10,
          "metadata": {},
          "output_type": "execute_result"
        }
      ],
      "source": [
        "company_name"
      ]
    },
    {
      "cell_type": "code",
      "execution_count": null,
      "metadata": {
        "id": "nqBGUECR3hnM"
      },
      "outputs": [],
      "source": [
        "job_wfh = True"
      ]
    },
    {
      "cell_type": "code",
      "execution_count": null,
      "metadata": {
        "colab": {
          "base_uri": "https://localhost:8080/"
        },
        "id": "MuYsdvqz3m9N",
        "outputId": "b815b3c3-4e8c-4988-8192-72b1a06fa7b4"
      },
      "outputs": [
        {
          "data": {
            "text/plain": [
              "True"
            ]
          },
          "execution_count": 12,
          "metadata": {},
          "output_type": "execute_result"
        }
      ],
      "source": [
        "job_wfh"
      ]
    },
    {
      "cell_type": "code",
      "execution_count": null,
      "metadata": {
        "id": "U_mo6Yhw3n-E"
      },
      "outputs": [],
      "source": [
        "job_id = 101\n",
        "job_title = \"Data Analyst\"\n",
        "job_salary = 125000"
      ]
    },
    {
      "cell_type": "code",
      "execution_count": null,
      "metadata": {
        "colab": {
          "base_uri": "https://localhost:8080/"
        },
        "id": "J7DSeaEN36uP",
        "outputId": "899e8646-26d8-4acc-da92-1a07713a65d2"
      },
      "outputs": [
        {
          "name": "stdout",
          "output_type": "stream",
          "text": [
            "Data Job Description\n",
            "++++++++++++++++++++++\n",
            "Job ID:       101\n",
            "Company Name: Data Wiz Inc.\n",
            "Job title:    Data Analyst\n",
            "Salary:       125000\n",
            "WFH:          True\n"
          ]
        }
      ],
      "source": [
        "print(\"Data Job Description\")\n",
        "print(\"++++++++++++++++++++++\")\n",
        "print(\"Job ID:      \", job_id)\n",
        "print(\"Company Name:\", company_name)\n",
        "print(\"Job title:   \", job_title)\n",
        "print(\"Salary:      \", job_salary)\n",
        "print(\"WFH:         \", job_wfh)"
      ]
    },
    {
      "cell_type": "code",
      "execution_count": null,
      "metadata": {
        "id": "oOs5GQ7m4Ci5"
      },
      "outputs": [],
      "source": []
    },
    {
      "cell_type": "markdown",
      "metadata": {
        "id": "EITcw-ht47zo"
      },
      "source": [
        "# 1.4 Variables - Problems"
      ]
    },
    {
      "cell_type": "markdown",
      "metadata": {
        "id": "EX_Gmicm4-Bo"
      },
      "source": [
        "## 1.2.1\n",
        "\n",
        "Create a variable, called job_count to store the number 42. Print job_count once calculated."
      ]
    },
    {
      "cell_type": "code",
      "execution_count": 42,
      "metadata": {
        "id": "vdxqCKY24rXn"
      },
      "outputs": [],
      "source": [
        "job_count = 42"
      ]
    },
    {
      "cell_type": "code",
      "execution_count": null,
      "metadata": {
        "colab": {
          "base_uri": "https://localhost:8080/"
        },
        "id": "MIdt5ETj5FKC",
        "outputId": "bdcfb1b6-5ca5-4ec9-c646-77a08ad65347"
      },
      "outputs": [
        {
          "name": "stdout",
          "output_type": "stream",
          "text": [
            "42\n"
          ]
        }
      ],
      "source": [
        "print(job_count)"
      ]
    },
    {
      "cell_type": "markdown",
      "metadata": {
        "id": "esU-Zr1M5NKZ"
      },
      "source": [
        "## 1.2.2\n",
        "\n",
        "Create variables to store the job title, company name, and whether the job is remote for a Data Engineer position. Set the job title to 'Data Engineer', the company name to 'DataWorks', and the remote status to True. Print all the variables."
      ]
    },
    {
      "cell_type": "code",
      "execution_count": 43,
      "metadata": {
        "id": "9u_RZ6Sa5Gvj"
      },
      "outputs": [],
      "source": [
        "job_title = \"Data Analyst\"\n",
        "company_name = \"DataWorks\"\n",
        "is_remote = True"
      ]
    },
    {
      "cell_type": "code",
      "execution_count": null,
      "metadata": {
        "colab": {
          "base_uri": "https://localhost:8080/"
        },
        "id": "v-yIT8EZ5fr6",
        "outputId": "11f7f242-2179-48c2-fc5e-fc2b0ff746d1"
      },
      "outputs": [
        {
          "name": "stdout",
          "output_type": "stream",
          "text": [
            "Data Analyst\n",
            "DataWorks\n",
            "True\n"
          ]
        }
      ],
      "source": [
        "print(job_title)\n",
        "print(company_name)\n",
        "print(is_remote)"
      ]
    },
    {
      "cell_type": "code",
      "execution_count": null,
      "metadata": {
        "colab": {
          "base_uri": "https://localhost:8080/"
        },
        "id": "I2a46bqe5hdx",
        "outputId": "a519e6d4-2d11-4ca5-c653-f15c46151b25"
      },
      "outputs": [
        {
          "name": "stdout",
          "output_type": "stream",
          "text": [
            "Data Analyst DataWorks True\n"
          ]
        }
      ],
      "source": [
        "print(job_title, company_name, is_remote)"
      ]
    },
    {
      "cell_type": "markdown",
      "metadata": {
        "id": "sX-9OUay5zYV"
      },
      "source": [
        "## 1.2.3\n",
        "\n",
        "Calculate the total compensation for a Data Scientist by adding two variables of base_salary and bonus. The base salary is 120000 and the bonus is 20000. Store the result in a variable named total_compensation. Print total_compensation once calculated."
      ]
    },
    {
      "cell_type": "markdown",
      "metadata": {
        "id": "wRqMyiN86MyB"
      },
      "source": [
        "- Can do it in multiple stages."
      ]
    },
    {
      "cell_type": "code",
      "execution_count": null,
      "metadata": {
        "id": "BWWSRFOi5tQq"
      },
      "outputs": [],
      "source": [
        "base_salary = 120000\n",
        "bonus = 20000\n",
        "total_compensation = base_salary + bonus"
      ]
    },
    {
      "cell_type": "code",
      "execution_count": null,
      "metadata": {
        "colab": {
          "base_uri": "https://localhost:8080/"
        },
        "id": "cEw-_0L56CLC",
        "outputId": "61844eff-a9b8-46ea-87e9-75b3aa9232bb"
      },
      "outputs": [
        {
          "name": "stdout",
          "output_type": "stream",
          "text": [
            "140000\n"
          ]
        }
      ],
      "source": [
        "print(total_compensation)"
      ]
    },
    {
      "cell_type": "markdown",
      "metadata": {
        "id": "hqYSg5LH6RLB"
      },
      "source": [
        "- Or can also be done all in one cell."
      ]
    },
    {
      "cell_type": "code",
      "execution_count": null,
      "metadata": {
        "colab": {
          "base_uri": "https://localhost:8080/"
        },
        "id": "S1vyybc56EeJ",
        "outputId": "663e8c20-c810-4feb-8006-d605950b1de2"
      },
      "outputs": [
        {
          "name": "stdout",
          "output_type": "stream",
          "text": [
            "140000\n"
          ]
        }
      ],
      "source": [
        "base_salary = 120000\n",
        "bonus = 20000\n",
        "total_compensation = base_salary + bonus\n",
        "print(total_compensation)"
      ]
    },
    {
      "cell_type": "code",
      "execution_count": null,
      "metadata": {
        "id": "qyV9-H3O6LpN"
      },
      "outputs": [],
      "source": []
    },
    {
      "cell_type": "markdown",
      "metadata": {
        "id": "yiUCivHW6ans"
      },
      "source": [
        "## 1.2.4\n",
        "\n",
        "Calculate the monthly salary of a Data Analyst job by dividing the annual salary of $72K by 12 and then printing the monthly salary. Assign appropriate variable names for each."
      ]
    },
    {
      "cell_type": "code",
      "execution_count": null,
      "metadata": {
        "colab": {
          "base_uri": "https://localhost:8080/"
        },
        "id": "hddGW0KY6esq",
        "outputId": "fd6591b5-b216-488b-bab2-f63a64247ed0"
      },
      "outputs": [
        {
          "name": "stdout",
          "output_type": "stream",
          "text": [
            "6000.0\n"
          ]
        }
      ],
      "source": [
        "annual_salary = 72000\n",
        "months = 12\n",
        "monthly_salary = annual_salary / months\n",
        "print(monthly_salary)"
      ]
    },
    {
      "cell_type": "markdown",
      "metadata": {
        "id": "tml4YdlW64bO"
      },
      "source": [
        "## 1.2.5\n",
        "\n",
        "Create variables to store the job title, company name, and salary for a Data Scientist position at AI Solutions for $110K. Then, calculate the total compensation by adding a 10% bonus to the salary and print the total compensation, along with the job and company name."
      ]
    },
    {
      "cell_type": "code",
      "execution_count": null,
      "metadata": {
        "colab": {
          "base_uri": "https://localhost:8080/"
        },
        "id": "NWDrLRoB6rul",
        "outputId": "e4e01f3b-9b6e-495f-b332-3283772f4a84"
      },
      "outputs": [
        {
          "name": "stdout",
          "output_type": "stream",
          "text": [
            "Simple solution\n",
            "121000.0 Data Scientist AI Solutions\n",
            "--------\n",
            "Complicated solution\n",
            "Total compensation for Data Scientist at AI Solutions is $121000.0\n"
          ]
        }
      ],
      "source": [
        "job_title = \"Data Scientist\"\n",
        "company_name = \"AI Solutions\"\n",
        "salary = 110000\n",
        "bonus = salary * 0.1\n",
        "total_compensation = salary + bonus\n",
        "print(\"Simple solution\")\n",
        "print(total_compensation, job_title, company_name)\n",
        "print(\"--------\")\n",
        "print(\"Complicated solution\")\n",
        "print(f\"Total compensation for {job_title} at {company_name} is ${total_compensation}\")"
      ]
    },
    {
      "cell_type": "code",
      "execution_count": null,
      "metadata": {
        "id": "AWRe9eIM7qfO"
      },
      "outputs": [],
      "source": []
    }
  ],
  "metadata": {
    "colab": {
      "collapsed_sections": [
        "1-DXBCUYrhYS",
        "YS0lrvzxsTSx",
        "wS4nASEWtsOv",
        "x58xxG5LumDE",
        "8X9ooweCv3-c",
        "USVl3Ds_xhQ7"
      ],
      "provenance": []
    },
    "kernelspec": {
      "display_name": "Python 3",
      "name": "python3"
    },
    "language_info": {
      "codemirror_mode": {
        "name": "ipython",
        "version": 3
      },
      "file_extension": ".py",
      "mimetype": "text/x-python",
      "name": "python",
      "nbconvert_exporter": "python",
      "pygments_lexer": "ipython3",
      "version": "3.11.9"
    }
  },
  "nbformat": 4,
  "nbformat_minor": 0
}
