{
 "cells": [
  {
   "cell_type": "markdown",
   "metadata": {},
   "source": [
    "# 15 Exercise: Skill Investigation"
   ]
  },
  {
   "cell_type": "markdown",
   "metadata": {},
   "source": [
    "Filter what jobs to apply for based on a list of skills.\n",
    "\n",
    "We want to extract the jobs that match all our skills, even if more skills that we don't possess are mentioned."
   ]
  },
  {
   "cell_type": "code",
   "execution_count": 9,
   "metadata": {},
   "outputs": [],
   "source": [
    "# Define data science job roles and required skills\n",
    "job_roles = [\n",
    "    {'role': 'Data Analyst', 'skills': ['Python', 'SQL', 'Excel']},\n",
    "    {'role': 'Data Scientist', 'skills': ['Python', 'R', 'Machine Learning', 'Deep Learning']},\n",
    "    {'role': 'Machine Learning Engineer', 'skills': ['Python', 'TensorFlow', 'PyTorch', 'Scikit-Learn']},\n",
    "    {'role': 'Data Engineer', 'skills': ['Python', 'Apache Spark', 'Hadoop', 'SQL']},\n",
    "    {'role': 'Business Intelligence Analyst', 'skills': ['Python', 'SQL', 'Tableau', 'Power BI', 'Excel']},\n",
    "    {'role': 'Quantitative Analyst', 'skills': ['R', 'Python', 'MATLAB', 'Statistics']},\n",
    "    {'role': 'Operations Analyst', 'skills': ['Python', 'SQL', 'Data Visualization', 'Process Improvement']},\n",
    "    {'role': 'Database Administrator', 'skills': ['SQL', 'Oracle', 'MySQL', 'Database Management']},\n",
    "    {'role': 'AI Engineer', 'skills': ['Python', 'TensorFlow', 'PyTorch', 'Computer Vision']},\n",
    "    {'role': 'Statistician', 'skills': ['R', 'SAS', 'Python', 'Statistical Modeling']}\n",
    "]\n",
    "\n",
    "# list of skills\n",
    "my_skills = [\"Python\", \"SQL\", \"Excel\"]"
   ]
  },
  {
   "cell_type": "markdown",
   "metadata": {},
   "source": [
    "The logic on how to solve this:\n",
    "\n",
    "- loop through the job_roles\n",
    "- verify if my_skills are inside the each job_roles[\"skills\"]\n",
    "- If True, add to a list that prints all the job_roles[\"role\"]"
   ]
  },
  {
   "cell_type": "code",
   "execution_count": 11,
   "metadata": {},
   "outputs": [
    {
     "name": "stdout",
     "output_type": "stream",
     "text": [
      "['Data Analyst', 'Business Intelligence Analyst']\n"
     ]
    }
   ],
   "source": [
    "appropriate_role = []\n",
    "\n",
    "for job in job_roles:\n",
    "    qualified = True\n",
    "    \n",
    "    \n",
    "    for skill in my_skills:\n",
    "        if skill not in job[\"skills\"]:\n",
    "            qualified = False\n",
    "            break\n",
    "\n",
    "    if qualified:\n",
    "        appropriate_role.append(job[\"role\"])\n",
    "\n",
    "print(appropriate_role)"
   ]
  },
  {
   "cell_type": "code",
   "execution_count": 21,
   "metadata": {},
   "outputs": [
    {
     "name": "stdout",
     "output_type": "stream",
     "text": [
      "['Data Analyst', 'Business Intelligence Analyst']\n"
     ]
    }
   ],
   "source": [
    "appropriate_role = [] # creating an empty list that will collect all the role titles from the job_roles list of dictionaries where all my_skills are part of the job[\"skills\"]\n",
    "\n",
    "for job in job_roles:\n",
    "    qualified = True # creating a qualified variable that is true by default (below we define that it turns to false as soon as a skill in my_skills is not in the job[\"skills\"])\n",
    "    \n",
    "    for skill in my_skills:\n",
    "        if skill not in job[\"skills\"]: # as soon as a skill in not in the job[\"skills\"]\n",
    "            qualified = False # turn the qualified value to false\n",
    "            break # break the loop i.e. stop looking for skills listed in my_skills in the job[\"skills\"] and move to the next job[\"role\"]\n",
    "    \n",
    "    if qualified:\n",
    "        appropriate_role.append(job[\"role\"]) # add the job[\"role\"] where qualified is true (i.e. when all my_skills in the job[\"skills\"]) to the empty appropriate_role list we created\n",
    "\n",
    "print(appropriate_role)"
   ]
  }
 ],
 "metadata": {
  "kernelspec": {
   "display_name": "Python 3",
   "language": "python",
   "name": "python3"
  },
  "language_info": {
   "codemirror_mode": {
    "name": "ipython",
    "version": 3
   },
   "file_extension": ".py",
   "mimetype": "text/x-python",
   "name": "python",
   "nbconvert_exporter": "python",
   "pygments_lexer": "ipython3",
   "version": "3.11.9"
  }
 },
 "nbformat": 4,
 "nbformat_minor": 2
}
