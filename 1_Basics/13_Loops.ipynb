{
 "cells": [
  {
   "cell_type": "markdown",
   "metadata": {},
   "source": [
    "# 13 Loops"
   ]
  },
  {
   "cell_type": "markdown",
   "metadata": {},
   "source": [
    "Extremely unefficient to have repetitive lines of code = don't repeat yourself is a key principle!\n",
    "Loops helps us avoid that.\n",
    "\n",
    "'for' loops\n",
    "\n",
    "'while' loops"
   ]
  },
  {
   "cell_type": "markdown",
   "metadata": {},
   "source": [
    "## 13.1 for loops"
   ]
  },
  {
   "cell_type": "markdown",
   "metadata": {},
   "source": [
    "For loop needs an iterable object. What data types are iterables: list, dictionaries, sets and tuples. \n",
    "\n",
    "It can also be an object returned by the range function.\n",
    "\n",
    "Use for loop when the number of iterations is known in advance."
   ]
  },
  {
   "cell_type": "code",
   "execution_count": 1,
   "metadata": {},
   "outputs": [
    {
     "name": "stdout",
     "output_type": "stream",
     "text": [
      "0\n",
      "1\n",
      "2\n",
      "3\n",
      "4\n",
      "5\n"
     ]
    }
   ],
   "source": [
    "numbers = [0, 1, 2, 3, 4, 5]\n",
    "\n",
    "for number in numbers: # defining a new variable number, only used in the 'for' statement # numbers is the iterable we are iterating through\n",
    "    print(number) # the operation we want to happen. In this case, we are simply asking to print every instance of number in the iterable"
   ]
  },
  {
   "cell_type": "markdown",
   "metadata": {},
   "source": [
    "Could be done on string as well! (see below)"
   ]
  },
  {
   "cell_type": "code",
   "execution_count": 2,
   "metadata": {},
   "outputs": [
    {
     "name": "stdout",
     "output_type": "stream",
     "text": [
      "P\n",
      "Y\n",
      "T\n",
      "H\n",
      "O\n",
      "N\n"
     ]
    }
   ],
   "source": [
    "# example with string\n",
    "\n",
    "characters = \"PYTHON\"\n",
    "\n",
    "for character in characters:\n",
    "    print(character)"
   ]
  },
  {
   "cell_type": "code",
   "execution_count": 4,
   "metadata": {},
   "outputs": [],
   "source": [
    "# dictionaries of job experience - generated with a chatgpt prompt\n",
    "\n",
    "years_experience = {\n",
    " 'Alice': 7,\n",
    " 'Bob': 38,\n",
    " 'Charlie': 33,\n",
    " 'David': 5,\n",
    " 'Eve': 7,\n",
    " 'Frank': 20,\n",
    " 'Grace': 2,\n",
    " 'Hannah': 29,\n",
    " 'Ivy': 11,\n",
    " 'Jack': 12,\n",
    " 'Kara': 30,\n",
    " 'Liam': 3,\n",
    " 'Mia': 16,\n",
    " 'Noah': 28,\n",
    " 'Olivia': 23,\n",
    " 'Paul': 16,\n",
    " 'Quinn': 1,\n",
    " 'Rachel': 26,\n",
    " 'Sam': 5,\n",
    " 'Tina': 28,\n",
    " 'Uma': 39,\n",
    " 'Victor': 29,\n",
    " 'Wendy': 30,\n",
    " 'Xander': 7,\n",
    " 'Zoe': 4\n",
    "}"
   ]
  },
  {
   "cell_type": "code",
   "execution_count": 5,
   "metadata": {},
   "outputs": [
    {
     "name": "stdout",
     "output_type": "stream",
     "text": [
      "Alice\n",
      "Bob\n",
      "Charlie\n",
      "David\n",
      "Eve\n",
      "Frank\n",
      "Grace\n",
      "Hannah\n",
      "Ivy\n",
      "Jack\n",
      "Kara\n",
      "Liam\n",
      "Mia\n",
      "Noah\n",
      "Olivia\n",
      "Paul\n",
      "Quinn\n",
      "Rachel\n",
      "Sam\n",
      "Tina\n",
      "Uma\n",
      "Victor\n",
      "Wendy\n",
      "Xander\n",
      "Zoe\n"
     ]
    }
   ],
   "source": [
    "for person in years_experience:\n",
    "    print(person)\n",
    "\n",
    "# this print all the keys."
   ]
  },
  {
   "cell_type": "code",
   "execution_count": 6,
   "metadata": {},
   "outputs": [
    {
     "name": "stdout",
     "output_type": "stream",
     "text": [
      "Help on class dict in module builtins:\n",
      "\n",
      "class dict(object)\n",
      " |  dict() -> new empty dictionary\n",
      " |  dict(mapping) -> new dictionary initialized from a mapping object's\n",
      " |      (key, value) pairs\n",
      " |  dict(iterable) -> new dictionary initialized as if via:\n",
      " |      d = {}\n",
      " |      for k, v in iterable:\n",
      " |          d[k] = v\n",
      " |  dict(**kwargs) -> new dictionary initialized with the name=value pairs\n",
      " |      in the keyword argument list.  For example:  dict(one=1, two=2)\n",
      " |  \n",
      " |  Built-in subclasses:\n",
      " |      StgDict\n",
      " |  \n",
      " |  Methods defined here:\n",
      " |  \n",
      " |  __contains__(self, key, /)\n",
      " |      True if the dictionary has the specified key, else False.\n",
      " |  \n",
      " |  __delitem__(self, key, /)\n",
      " |      Delete self[key].\n",
      " |  \n",
      " |  __eq__(self, value, /)\n",
      " |      Return self==value.\n",
      " |  \n",
      " |  __ge__(self, value, /)\n",
      " |      Return self>=value.\n",
      " |  \n",
      " |  __getattribute__(self, name, /)\n",
      " |      Return getattr(self, name).\n",
      " |  \n",
      " |  __getitem__(...)\n",
      " |      x.__getitem__(y) <==> x[y]\n",
      " |  \n",
      " |  __gt__(self, value, /)\n",
      " |      Return self>value.\n",
      " |  \n",
      " |  __init__(self, /, *args, **kwargs)\n",
      " |      Initialize self.  See help(type(self)) for accurate signature.\n",
      " |  \n",
      " |  __ior__(self, value, /)\n",
      " |      Return self|=value.\n",
      " |  \n",
      " |  __iter__(self, /)\n",
      " |      Implement iter(self).\n",
      " |  \n",
      " |  __le__(self, value, /)\n",
      " |      Return self<=value.\n",
      " |  \n",
      " |  __len__(self, /)\n",
      " |      Return len(self).\n",
      " |  \n",
      " |  __lt__(self, value, /)\n",
      " |      Return self<value.\n",
      " |  \n",
      " |  __ne__(self, value, /)\n",
      " |      Return self!=value.\n",
      " |  \n",
      " |  __or__(self, value, /)\n",
      " |      Return self|value.\n",
      " |  \n",
      " |  __repr__(self, /)\n",
      " |      Return repr(self).\n",
      " |  \n",
      " |  __reversed__(self, /)\n",
      " |      Return a reverse iterator over the dict keys.\n",
      " |  \n",
      " |  __ror__(self, value, /)\n",
      " |      Return value|self.\n",
      " |  \n",
      " |  __setitem__(self, key, value, /)\n",
      " |      Set self[key] to value.\n",
      " |  \n",
      " |  __sizeof__(...)\n",
      " |      D.__sizeof__() -> size of D in memory, in bytes\n",
      " |  \n",
      " |  clear(...)\n",
      " |      D.clear() -> None.  Remove all items from D.\n",
      " |  \n",
      " |  copy(...)\n",
      " |      D.copy() -> a shallow copy of D\n",
      " |  \n",
      " |  get(self, key, default=None, /)\n",
      " |      Return the value for key if key is in the dictionary, else default.\n",
      " |  \n",
      " |  items(...)\n",
      " |      D.items() -> a set-like object providing a view on D's items\n",
      " |  \n",
      " |  keys(...)\n",
      " |      D.keys() -> a set-like object providing a view on D's keys\n",
      " |  \n",
      " |  pop(...)\n",
      " |      D.pop(k[,d]) -> v, remove specified key and return the corresponding value.\n",
      " |      \n",
      " |      If the key is not found, return the default if given; otherwise,\n",
      " |      raise a KeyError.\n",
      " |  \n",
      " |  popitem(self, /)\n",
      " |      Remove and return a (key, value) pair as a 2-tuple.\n",
      " |      \n",
      " |      Pairs are returned in LIFO (last-in, first-out) order.\n",
      " |      Raises KeyError if the dict is empty.\n",
      " |  \n",
      " |  setdefault(self, key, default=None, /)\n",
      " |      Insert key with a value of default if key is not in the dictionary.\n",
      " |      \n",
      " |      Return the value for key if key is in the dictionary, else default.\n",
      " |  \n",
      " |  update(...)\n",
      " |      D.update([E, ]**F) -> None.  Update D from dict/iterable E and F.\n",
      " |      If E is present and has a .keys() method, then does:  for k in E: D[k] = E[k]\n",
      " |      If E is present and lacks a .keys() method, then does:  for k, v in E: D[k] = v\n",
      " |      In either case, this is followed by: for k in F:  D[k] = F[k]\n",
      " |  \n",
      " |  values(...)\n",
      " |      D.values() -> an object providing a view on D's values\n",
      " |  \n",
      " |  ----------------------------------------------------------------------\n",
      " |  Class methods defined here:\n",
      " |  \n",
      " |  __class_getitem__(...)\n",
      " |      See PEP 585\n",
      " |  \n",
      " |  fromkeys(iterable, value=None, /)\n",
      " |      Create a new dictionary with keys from iterable and values set to value.\n",
      " |  \n",
      " |  ----------------------------------------------------------------------\n",
      " |  Static methods defined here:\n",
      " |  \n",
      " |  __new__(*args, **kwargs)\n",
      " |      Create and return a new object.  See help(type) for accurate signature.\n",
      " |  \n",
      " |  ----------------------------------------------------------------------\n",
      " |  Data and other attributes defined here:\n",
      " |  \n",
      " |  __hash__ = None\n",
      "\n"
     ]
    }
   ],
   "source": [
    "# but how do we print all the values.\n",
    "# Let's see using help()\n",
    "help(dict)"
   ]
  },
  {
   "cell_type": "code",
   "execution_count": 7,
   "metadata": {},
   "outputs": [
    {
     "name": "stdout",
     "output_type": "stream",
     "text": [
      "7\n",
      "38\n",
      "33\n",
      "5\n",
      "7\n",
      "20\n",
      "2\n",
      "29\n",
      "11\n",
      "12\n",
      "30\n",
      "3\n",
      "16\n",
      "28\n",
      "23\n",
      "16\n",
      "1\n",
      "26\n",
      "5\n",
      "28\n",
      "39\n",
      "29\n",
      "30\n",
      "7\n",
      "4\n"
     ]
    }
   ],
   "source": [
    "# we can do so using the .values method\n",
    "\n",
    "for value in years_experience.values():\n",
    "    print(value)"
   ]
  },
  {
   "cell_type": "code",
   "execution_count": 9,
   "metadata": {},
   "outputs": [
    {
     "name": "stdout",
     "output_type": "stream",
     "text": [
      "Alice 7\n",
      "Bob 38\n",
      "Charlie 33\n",
      "David 5\n",
      "Eve 7\n",
      "Frank 20\n",
      "Grace 2\n",
      "Hannah 29\n",
      "Ivy 11\n",
      "Jack 12\n",
      "Kara 30\n",
      "Liam 3\n",
      "Mia 16\n",
      "Noah 28\n",
      "Olivia 23\n",
      "Paul 16\n",
      "Quinn 1\n",
      "Rachel 26\n",
      "Sam 5\n",
      "Tina 28\n",
      "Uma 39\n",
      "Victor 29\n",
      "Wendy 30\n",
      "Xander 7\n",
      "Zoe 4\n"
     ]
    }
   ],
   "source": [
    "# how do we get both keys and values.\n",
    "# The .items method allows us to get both\n",
    "\n",
    "for key, value in years_experience.items():\n",
    "    print(key, value) \n"
   ]
  },
  {
   "cell_type": "code",
   "execution_count": 10,
   "metadata": {},
   "outputs": [
    {
     "name": "stdout",
     "output_type": "stream",
     "text": [
      "Alice has 7 years experience.\n",
      "Bob has 38 years experience.\n",
      "Charlie has 33 years experience.\n",
      "Eve has 7 years experience.\n",
      "Frank has 20 years experience.\n",
      "Hannah has 29 years experience.\n",
      "Ivy has 11 years experience.\n",
      "Jack has 12 years experience.\n",
      "Kara has 30 years experience.\n",
      "Mia has 16 years experience.\n",
      "Noah has 28 years experience.\n",
      "Olivia has 23 years experience.\n",
      "Paul has 16 years experience.\n",
      "Rachel has 26 years experience.\n",
      "Tina has 28 years experience.\n",
      "Uma has 39 years experience.\n",
      "Victor has 29 years experience.\n",
      "Wendy has 30 years experience.\n",
      "Xander has 7 years experience.\n"
     ]
    }
   ],
   "source": [
    "# find applicants with more than 5 years of experience\n",
    "\n",
    "for key, value in years_experience.items():\n",
    "    if value > 5:\n",
    "        print(key, \"has\", value, \"years experience.\")"
   ]
  },
  {
   "cell_type": "code",
   "execution_count": 13,
   "metadata": {},
   "outputs": [
    {
     "name": "stdout",
     "output_type": "stream",
     "text": [
      "50\n",
      "51\n",
      "52\n",
      "53\n",
      "54\n",
      "55\n",
      "56\n",
      "57\n",
      "58\n",
      "59\n",
      "60\n",
      "61\n",
      "62\n",
      "63\n",
      "64\n",
      "65\n",
      "66\n",
      "67\n",
      "68\n",
      "69\n",
      "70\n",
      "71\n",
      "72\n",
      "73\n",
      "74\n",
      "75\n",
      "76\n",
      "77\n",
      "78\n",
      "79\n",
      "80\n",
      "81\n",
      "82\n",
      "83\n",
      "84\n",
      "85\n",
      "86\n",
      "87\n",
      "88\n",
      "89\n",
      "90\n",
      "91\n",
      "92\n",
      "93\n",
      "94\n",
      "95\n",
      "96\n",
      "97\n",
      "98\n",
      "99\n"
     ]
    }
   ],
   "source": [
    "# ranges are often used within a for loop to iterate through a number of things\n",
    "# e.g. print all numbers above 50 in a range(100)\n",
    "\n",
    "for _ in range(100):\n",
    "    if _ >= 50:\n",
    "        print(_)"
   ]
  },
  {
   "cell_type": "markdown",
   "metadata": {},
   "source": [
    "## 13.2 while loops"
   ]
  },
  {
   "cell_type": "markdown",
   "metadata": {},
   "source": [
    "Are checking for a condition on whether it is true or false. It will run endlessly until the while condition is not met anymore. It doesn't need an iterable object.\n",
    "\n",
    "E.g. through a range, it'll output results until it meets the first occurence that doesn't meet the while condition.\n",
    "\n",
    "E.g. if we run the code below, it'll run endlessly because it will never meet an opposite occurence\n",
    "    while True\n",
    "        print(\"Data Nerd\")\n",
    "    \n",
    "    This would print \"Data Nerd\" endlessly!!"
   ]
  },
  {
   "cell_type": "markdown",
   "metadata": {},
   "source": [
    "While loops are much less frequent, for loops are much more frequent.\n",
    "\n",
    "while loop is used when the number of iterations is not necessarily known in advacne - it doesn't depend on a previously defined iterable."
   ]
  },
  {
   "cell_type": "code",
   "execution_count": 16,
   "metadata": {},
   "outputs": [
    {
     "name": "stdout",
     "output_type": "stream",
     "text": [
      "1\n",
      "2\n",
      "3\n",
      "4\n"
     ]
    }
   ],
   "source": [
    "count = 1\n",
    "while count < 5:\n",
    "    print(count)\n",
    "    count += 1"
   ]
  },
  {
   "cell_type": "markdown",
   "metadata": {},
   "source": [
    "For example, we only care about returning the first instance of meeting a condition. Only return the first occurrence of people with more than 5 yrs exp from the list of 25."
   ]
  },
  {
   "cell_type": "code",
   "execution_count": 18,
   "metadata": {},
   "outputs": [
    {
     "name": "stdout",
     "output_type": "stream",
     "text": [
      "Alice has 7 years of experience.\n"
     ]
    }
   ],
   "source": [
    "# only return the first occurrence that meets a certain condition\n",
    "years = 0 # define a years variable that starts at 0\n",
    "index = 0 # define an index variable that starts at 0 that we can later use to iterate through the indexes of a list \n",
    "\n",
    "years_list = list(years_experience.items()) # transforming the dict in a list that we can cycle through with indexes (because index are iterables that we can make grow consistently e.g. with a step of one)\n",
    "\n",
    "while years < 5:\n",
    "    key, years = years_list[index] # precising what it has to iterate through i.e. the index of years_list\n",
    "    if years >= 5: # the condition to be met i.e. having more five or more years of exp.\n",
    "        print(key, \"has\", years, \"years of experience.\") # what I want as output\n",
    "    index += 1 # the steps - how I want the index to go up"
   ]
  },
  {
   "cell_type": "markdown",
   "metadata": {},
   "source": [
    "## 13.3 Problems"
   ]
  },
  {
   "cell_type": "markdown",
   "metadata": {},
   "source": [
    "### 1.13.1"
   ]
  },
  {
   "cell_type": "markdown",
   "metadata": {},
   "source": [
    "Print the job titles from the list job_titles using a for loop. The list job_titles is set to ['Data Scientist', 'Data Analyst', 'Machine Learning Engineer']."
   ]
  },
  {
   "cell_type": "code",
   "execution_count": 19,
   "metadata": {},
   "outputs": [
    {
     "name": "stdout",
     "output_type": "stream",
     "text": [
      "Data Scientist\n",
      "Data Analyst\n",
      "Machine Learning Engineer\n"
     ]
    }
   ],
   "source": [
    "job_titles = [\"Data Scientist\", \"Data Analyst\", \"Machine Learning Engineer\"]\n",
    "\n",
    "for titles in job_titles:\n",
    "    print(titles)"
   ]
  },
  {
   "cell_type": "markdown",
   "metadata": {},
   "source": [
    "### 1.13.2"
   ]
  },
  {
   "cell_type": "markdown",
   "metadata": {},
   "source": [
    "Calculate the total number of job postings from a list using a while loop. The list of job postings is [5, 10, 15, 20, 25]."
   ]
  },
  {
   "cell_type": "code",
   "execution_count": 24,
   "metadata": {},
   "outputs": [
    {
     "name": "stdout",
     "output_type": "stream",
     "text": [
      "75\n"
     ]
    }
   ],
   "source": [
    "# Given job_postings list\n",
    "job_postings = [5, 10, 15, 20, 25]\n",
    "\n",
    "# Initialize variables\n",
    "total_postings = 0\n",
    "i = 0\n",
    "\n",
    "# While loop to calculate the total number of job postings\n",
    "while i < len(job_postings):\n",
    "    total_postings += job_postings[i]\n",
    "    i += 1\n",
    "\n",
    "print(total_postings)"
   ]
  },
  {
   "cell_type": "markdown",
   "metadata": {},
   "source": [
    "### 1.13.3"
   ]
  },
  {
   "cell_type": "markdown",
   "metadata": {},
   "source": [
    "Print the job titles from the list job_titles along with their index using a for loop and the enumerate() function. The list job_titles is set to ['Data Scientist', 'Data Analyst', 'Machine Learning Engineer']."
   ]
  },
  {
   "cell_type": "code",
   "execution_count": 40,
   "metadata": {},
   "outputs": [
    {
     "name": "stdout",
     "output_type": "stream",
     "text": [
      "0: Data Scientist\n",
      "1: Data Analyst\n",
      "2: Machine Learning Engineer\n"
     ]
    }
   ],
   "source": [
    "# given job_titles list\n",
    "job_titles = ['Data Scientist', 'Data Analyst', 'Machine Learning Engineer']\n",
    "\n",
    "\n",
    "for index, titles in enumerate(job_titles):\n",
    "    print(f'{index}: {titles}')"
   ]
  },
  {
   "cell_type": "code",
   "execution_count": 36,
   "metadata": {},
   "outputs": [
    {
     "name": "stdout",
     "output_type": "stream",
     "text": [
      "Help on class enumerate in module builtins:\n",
      "\n",
      "class enumerate(object)\n",
      " |  enumerate(iterable, start=0)\n",
      " |  \n",
      " |  Return an enumerate object.\n",
      " |  \n",
      " |    iterable\n",
      " |      an object supporting iteration\n",
      " |  \n",
      " |  The enumerate object yields pairs containing a count (from start, which\n",
      " |  defaults to zero) and a value yielded by the iterable argument.\n",
      " |  \n",
      " |  enumerate is useful for obtaining an indexed list:\n",
      " |      (0, seq[0]), (1, seq[1]), (2, seq[2]), ...\n",
      " |  \n",
      " |  Methods defined here:\n",
      " |  \n",
      " |  __getattribute__(self, name, /)\n",
      " |      Return getattr(self, name).\n",
      " |  \n",
      " |  __iter__(self, /)\n",
      " |      Implement iter(self).\n",
      " |  \n",
      " |  __next__(self, /)\n",
      " |      Implement next(self).\n",
      " |  \n",
      " |  __reduce__(...)\n",
      " |      Return state information for pickling.\n",
      " |  \n",
      " |  ----------------------------------------------------------------------\n",
      " |  Class methods defined here:\n",
      " |  \n",
      " |  __class_getitem__(...)\n",
      " |      See PEP 585\n",
      " |  \n",
      " |  ----------------------------------------------------------------------\n",
      " |  Static methods defined here:\n",
      " |  \n",
      " |  __new__(*args, **kwargs)\n",
      " |      Create and return a new object.  See help(type) for accurate signature.\n",
      "\n"
     ]
    }
   ],
   "source": [
    "help(enumerate)"
   ]
  },
  {
   "cell_type": "markdown",
   "metadata": {},
   "source": [
    "### 1.13.4"
   ]
  },
  {
   "cell_type": "markdown",
   "metadata": {},
   "source": [
    "Use a while loop to find the first job title that contains the word 'Engineer'. The list of job titles is ['Data Scientist', 'Data Analyst', 'Machine Learning Engineer', 'Software Engineer']."
   ]
  },
  {
   "cell_type": "code",
   "execution_count": 46,
   "metadata": {},
   "outputs": [
    {
     "name": "stdout",
     "output_type": "stream",
     "text": [
      "Machine Learning Engineer\n"
     ]
    }
   ],
   "source": [
    "# set up list of job_titles\n",
    "job_titles = [\"Data Scientist\", \"Data Analyst\", \"Machine Learning Engineer\", \"Software Engineer\"]\n",
    "\n",
    "# set up initial variables\n",
    "index = 0\n",
    "\n",
    "# while loop. \n",
    "while index < len(job_titles):\n",
    "    if \"Engineer\" in job_titles[index]:\n",
    "        print(job_titles[index])\n",
    "        break\n",
    "    index += 1"
   ]
  },
  {
   "cell_type": "markdown",
   "metadata": {},
   "source": [
    "### 1.13.5"
   ]
  },
  {
   "cell_type": "markdown",
   "metadata": {},
   "source": [
    "You have the following dictionary of positions_skills which is set to {'Data Scientist': ['Python', 'R'], 'Data Analyst': ['SQL', 'Excel'], 'Machine Learning Engineer': ['Python', 'TensorFlow']}. The keys are a data science position, and the values are a list of skills required for the position. Print a message for each individual skill required for these data science positions (e.g., \"The role of Data Scientist requires proficiency in Python\")."
   ]
  },
  {
   "cell_type": "code",
   "execution_count": 59,
   "metadata": {},
   "outputs": [
    {
     "name": "stdout",
     "output_type": "stream",
     "text": [
      "The role of Data Scientist requires proficiency in Python.\n",
      "The role of Data Scientist requires proficiency in R.\n",
      "The role of Data Analyst requires proficiency in SQL.\n",
      "The role of Data Analyst requires proficiency in Excel.\n",
      "The role of Machine Learning Engineer requires proficiency in Python.\n",
      "The role of Machine Learning Engineer requires proficiency in TensorFlow.\n"
     ]
    }
   ],
   "source": [
    "# creating position_skills dictionary\n",
    "positions_skills = {\n",
    "    'Data Scientist': ['Python', 'R'],\n",
    "    'Data Analyst': ['SQL', 'Excel'],\n",
    "    'Machine Learning Engineer': ['Python', 'TensorFlow']\n",
    "}\n",
    "\n",
    "# set up initial variables\n",
    "\n",
    "# for loop\n",
    "for position, skills in positions_skills.items():\n",
    "    for skill in skills:\n",
    "        print(f'The role of {position} requires proficiency in {skill}.')"
   ]
  }
 ],
 "metadata": {
  "kernelspec": {
   "display_name": "Python 3",
   "language": "python",
   "name": "python3"
  },
  "language_info": {
   "codemirror_mode": {
    "name": "ipython",
    "version": 3
   },
   "file_extension": ".py",
   "mimetype": "text/x-python",
   "name": "python",
   "nbconvert_exporter": "python",
   "pygments_lexer": "ipython3",
   "version": "3.11.9"
  }
 },
 "nbformat": 4,
 "nbformat_minor": 2
}
