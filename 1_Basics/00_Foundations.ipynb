{
  "cells": [
    {
      "cell_type": "markdown",
      "metadata": {
        "id": "1-DXBCUYrhYS"
      },
      "source": [
        "# 0.1 How to Run a cell"
      ]
    },
    {
      "cell_type": "markdown",
      "metadata": {
        "id": "tlVhVr4bt6xd"
      },
      "source": [
        "Easy way: Click the run button.\n",
        "\n",
        "Pro Way: With the cell selected, type Ctrl+Enter.\n",
        "\n",
        "Extra Pro Way: With the cell selected, type shift+enter and move the selection to the next cell automatically."
      ]
    },
    {
      "cell_type": "code",
      "execution_count": 2,
      "metadata": {
        "colab": {
          "base_uri": "https://localhost:8080/"
        },
        "id": "dyuWMXmRsNCP",
        "outputId": "3fa85301-6122-4718-cae7-7a8834d5a624"
      },
      "outputs": [
        {
          "data": {
            "text/plain": [
              "4"
            ]
          },
          "execution_count": 2,
          "metadata": {},
          "output_type": "execute_result"
        }
      ],
      "source": [
        "2+2"
      ]
    },
    {
      "cell_type": "code",
      "execution_count": 3,
      "metadata": {
        "colab": {
          "base_uri": "https://localhost:8080/"
        },
        "id": "0igJvJkIsPC0",
        "outputId": "a79464a3-2c76-430f-8119-778b258f9650"
      },
      "outputs": [
        {
          "data": {
            "text/plain": [
              "11"
            ]
          },
          "execution_count": 3,
          "metadata": {},
          "output_type": "execute_result"
        }
      ],
      "source": [
        "3*3+2"
      ]
    },
    {
      "cell_type": "code",
      "execution_count": null,
      "metadata": {
        "id": "annrsNpssRU0"
      },
      "outputs": [],
      "source": []
    },
    {
      "cell_type": "markdown",
      "metadata": {
        "id": "YS0lrvzxsTSx"
      },
      "source": [
        "# 0.2 Python Basics\n"
      ]
    },
    {
      "cell_type": "markdown",
      "metadata": {
        "id": "jW4BxbWnt0q6"
      },
      "source": [
        "Can't write multiple operations one after another and expect to see a result e.g.\n",
        "\n",
        "2+2\n",
        "\n",
        "3*3\n",
        "\n",
        "This will only return the result of the last operation if left as such within the same code cell."
      ]
    },
    {
      "cell_type": "code",
      "execution_count": null,
      "metadata": {
        "colab": {
          "base_uri": "https://localhost:8080/"
        },
        "id": "J6aQJfADsqqR",
        "outputId": "e48bad5d-ea77-4b20-be54-e6db0c8495e2"
      },
      "outputs": [
        {
          "data": {
            "text/plain": [
              "9"
            ]
          },
          "execution_count": 4,
          "metadata": {},
          "output_type": "execute_result"
        }
      ],
      "source": [
        "2+2\n",
        "3*3"
      ]
    },
    {
      "cell_type": "markdown",
      "metadata": {
        "id": "ccdbSTihswSa"
      },
      "source": [
        "The solution is to use the print() function.\n",
        "\n",
        "When entering a function, a pop-up appears to show us what the function does, the parameters required for input, etc.\n",
        "\n",
        "FYI - functions are case specific e.g. **P**rint doesn't work. Use **p**rint.  "
      ]
    },
    {
      "cell_type": "code",
      "execution_count": null,
      "metadata": {
        "colab": {
          "base_uri": "https://localhost:8080/"
        },
        "id": "7JfnyBn5szEv",
        "outputId": "889f2dd4-8042-426c-f6d1-18973c8fe2ae"
      },
      "outputs": [
        {
          "name": "stdout",
          "output_type": "stream",
          "text": [
            "4\n",
            "9\n"
          ]
        }
      ],
      "source": [
        "print(2+2)\n",
        "print(3*3)"
      ]
    },
    {
      "cell_type": "markdown",
      "metadata": {
        "id": "4K4MZfq8tRDq"
      },
      "source": [
        "I don't need to repeat the function. If nothing specified, it repeats the previous one"
      ]
    },
    {
      "cell_type": "code",
      "execution_count": null,
      "metadata": {
        "colab": {
          "base_uri": "https://localhost:8080/"
        },
        "id": "i6-NXbu8tFS-",
        "outputId": "71c930e2-bc01-496f-b370-2b8250c30365"
      },
      "outputs": [
        {
          "name": "stdout",
          "output_type": "stream",
          "text": [
            "4\n"
          ]
        },
        {
          "data": {
            "text/plain": [
              "9"
            ]
          },
          "execution_count": 7,
          "metadata": {},
          "output_type": "execute_result"
        }
      ],
      "source": [
        "print(2+2)\n",
        "3*3"
      ]
    },
    {
      "cell_type": "markdown",
      "metadata": {
        "id": "wS4nASEWtsOv"
      },
      "source": [
        "# 0.3 Make a comment"
      ]
    },
    {
      "cell_type": "markdown",
      "metadata": {
        "id": "ZPURPdfPt_gZ"
      },
      "source": [
        "What if you wanted to include something in your code like a note?\n",
        "\n",
        "\n",
        "* include a # before the line\n",
        "* This is called a comment\n",
        "\n"
      ]
    },
    {
      "cell_type": "code",
      "execution_count": null,
      "metadata": {
        "id": "CFDZE_W5t-pb"
      },
      "outputs": [],
      "source": [
        "# This is a comment"
      ]
    },
    {
      "cell_type": "markdown",
      "metadata": {
        "id": "U5ypzIywuTS3"
      },
      "source": [
        "It ignores everything to the right of the # sign on the same line.\n",
        "\n",
        "You can even start a comment mid-line."
      ]
    },
    {
      "cell_type": "code",
      "execution_count": null,
      "metadata": {
        "colab": {
          "base_uri": "https://localhost:8080/"
        },
        "id": "FAVCEP3zuPi9",
        "outputId": "51d9bfb5-4f0c-4a76-e67c-6677317d987b"
      },
      "outputs": [
        {
          "data": {
            "text/plain": [
              "4"
            ]
          },
          "execution_count": 11,
          "metadata": {},
          "output_type": "execute_result"
        }
      ],
      "source": [
        "# This is a comment\n",
        "2+2 # This is a comment"
      ]
    },
    {
      "cell_type": "markdown",
      "metadata": {
        "id": "x58xxG5LumDE"
      },
      "source": [
        "# 0.4 Markdown Basics"
      ]
    },
    {
      "cell_type": "markdown",
      "metadata": {
        "id": "RHyYBIHnus1E"
      },
      "source": [
        "A specific language to format the text on the screen.\n",
        "\n",
        "This is normal text\n",
        "\n",
        "## Heading (with a # at the beginning of a line)\n",
        "\n",
        "**bold** (wrap it with double *)\n",
        "\n",
        "1. one\n",
        "2. two\n",
        "3. three (using numbers)\n",
        "\n",
        "* list using a single *\n",
        "* list continuation\n",
        "\n",
        "[Here is more info on markdown](https://www.markdownguide.org/basic-syntax/) -> adding a hyperlink\n"
      ]
    },
    {
      "cell_type": "markdown",
      "metadata": {
        "id": "8X9ooweCv3-c"
      },
      "source": [
        "# 0.5 Colab Notebook Walkthrough"
      ]
    },
    {
      "cell_type": "markdown",
      "metadata": {
        "id": "483B55KLwJtu"
      },
      "source": [
        "### Sidebar Menu (left-top)\n",
        "* table of contents\n",
        "* find and replace\n",
        "* variables\n",
        "* secrets\n",
        "* files\n",
        "\n",
        "### Sidebar Menu (left-bottom)\n",
        "* Code snippets\n",
        "* Command pallette\n",
        "* Terminal\n",
        "\n",
        "### Top Menu Bar\n",
        "* Runtime: controls running cells and restarting notebook\n",
        "\n",
        "### Colab Header (top)\n",
        "* Regular commands\n",
        "* Runtime (Exécution in French) is unique and allows to run all the commands in the notebook all at once. If acting wonky, I can restart and run all, etc."
      ]
    },
    {
      "cell_type": "markdown",
      "metadata": {
        "id": "USVl3Ds_xhQ7"
      },
      "source": [
        "# 0.6 Advanced Jupyter Notebook Usage"
      ]
    },
    {
      "cell_type": "markdown",
      "metadata": {
        "id": "bI4bU0KrzYPW"
      },
      "source": [
        "! - shell command - adding a ! executes shell commands directly from teh notebook e.g. listing files, listing the database in use, etc.\n",
        "\n",
        "% - line magic - executes a line magic command, affecting only the line it is on\n",
        "\n",
        "%% - cell magic - executes a magic command to the entire cell"
      ]
    }
  ],
  "metadata": {
    "colab": {
      "collapsed_sections": [
        "1-DXBCUYrhYS",
        "YS0lrvzxsTSx",
        "wS4nASEWtsOv",
        "x58xxG5LumDE",
        "8X9ooweCv3-c",
        "USVl3Ds_xhQ7"
      ],
      "provenance": []
    },
    "kernelspec": {
      "display_name": "Python 3",
      "name": "python3"
    },
    "language_info": {
      "codemirror_mode": {
        "name": "ipython",
        "version": 3
      },
      "file_extension": ".py",
      "mimetype": "text/x-python",
      "name": "python",
      "nbconvert_exporter": "python",
      "pygments_lexer": "ipython3",
      "version": "3.11.9"
    }
  },
  "nbformat": 4,
  "nbformat_minor": 0
}
