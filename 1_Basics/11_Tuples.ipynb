{
 "cells": [
  {
   "cell_type": "markdown",
   "metadata": {},
   "source": [
    "# 11 Tuples"
   ]
  },
  {
   "cell_type": "markdown",
   "metadata": {},
   "source": [
    "## 11.1 Overview"
   ]
  },
  {
   "cell_type": "markdown",
   "metadata": {},
   "source": [
    "Tuples are very similar to list.\n",
    "\n",
    "They are defined by parentheses. Any item can be within the parenthese.\n",
    "\n",
    "Tuples are immutable. They are for fixed data. \n",
    "\n",
    "When we need unique set of items that we cannot modify.\n",
    "\n",
    "They are indexable. Can be called by an index.\n",
    "\n",
    "Mostly applicable in software engineering, but still applicable in data analysis."
   ]
  },
  {
   "cell_type": "code",
   "execution_count": 1,
   "metadata": {},
   "outputs": [
    {
     "name": "stdout",
     "output_type": "stream",
     "text": [
      "('python', 'sql', 'statistics', 'tableau')\n"
     ]
    }
   ],
   "source": [
    "# create a tuple\n",
    "lukes_skill = (\"python\", \"sql\", \"statistics\", \"tableau\")\n",
    "print(lukes_skill)"
   ]
  },
  {
   "cell_type": "code",
   "execution_count": 2,
   "metadata": {},
   "outputs": [
    {
     "data": {
      "text/plain": [
       "'python'"
      ]
     },
     "execution_count": 2,
     "metadata": {},
     "output_type": "execute_result"
    }
   ],
   "source": [
    "# find an item using the index\n",
    "lukes_skill[0]"
   ]
  },
  {
   "cell_type": "code",
   "execution_count": 3,
   "metadata": {},
   "outputs": [
    {
     "data": {
      "text/plain": [
       "('python', 'sql')"
      ]
     },
     "execution_count": 3,
     "metadata": {},
     "output_type": "execute_result"
    }
   ],
   "source": [
    "# can also slice, like a list\n",
    "lukes_skill[0:2]"
   ]
  },
  {
   "cell_type": "code",
   "execution_count": 4,
   "metadata": {},
   "outputs": [
    {
     "ename": "AttributeError",
     "evalue": "'tuple' object has no attribute 'append'",
     "output_type": "error",
     "traceback": [
      "\u001b[1;31m---------------------------------------------------------------------------\u001b[0m",
      "\u001b[1;31mAttributeError\u001b[0m                            Traceback (most recent call last)",
      "Cell \u001b[1;32mIn[4], line 2\u001b[0m\n\u001b[0;32m      1\u001b[0m \u001b[38;5;66;03m# proof that they are immutable\u001b[39;00m\n\u001b[1;32m----> 2\u001b[0m \u001b[43mlukes_skill\u001b[49m\u001b[38;5;241;43m.\u001b[39;49m\u001b[43mappend\u001b[49m(\u001b[38;5;124m\"\u001b[39m\u001b[38;5;124mr\u001b[39m\u001b[38;5;124m\"\u001b[39m)\n",
      "\u001b[1;31mAttributeError\u001b[0m: 'tuple' object has no attribute 'append'"
     ]
    }
   ],
   "source": [
    "# proof that they are immutable\n",
    "lukes_skill.append(\"r\")"
   ]
  },
  {
   "cell_type": "code",
   "execution_count": 5,
   "metadata": {},
   "outputs": [
    {
     "name": "stdout",
     "output_type": "stream",
     "text": [
      "Help on class tuple in module builtins:\n",
      "\n",
      "class tuple(object)\n",
      " |  tuple(iterable=(), /)\n",
      " |  \n",
      " |  Built-in immutable sequence.\n",
      " |  \n",
      " |  If no argument is given, the constructor returns an empty tuple.\n",
      " |  If iterable is specified the tuple is initialized from iterable's items.\n",
      " |  \n",
      " |  If the argument is a tuple, the return value is the same object.\n",
      " |  \n",
      " |  Built-in subclasses:\n",
      " |      asyncgen_hooks\n",
      " |      UnraisableHookArgs\n",
      " |  \n",
      " |  Methods defined here:\n",
      " |  \n",
      " |  __add__(self, value, /)\n",
      " |      Return self+value.\n",
      " |  \n",
      " |  __contains__(self, key, /)\n",
      " |      Return key in self.\n",
      " |  \n",
      " |  __eq__(self, value, /)\n",
      " |      Return self==value.\n",
      " |  \n",
      " |  __ge__(self, value, /)\n",
      " |      Return self>=value.\n",
      " |  \n",
      " |  __getattribute__(self, name, /)\n",
      " |      Return getattr(self, name).\n",
      " |  \n",
      " |  __getitem__(self, key, /)\n",
      " |      Return self[key].\n",
      " |  \n",
      " |  __getnewargs__(self, /)\n",
      " |  \n",
      " |  __gt__(self, value, /)\n",
      " |      Return self>value.\n",
      " |  \n",
      " |  __hash__(self, /)\n",
      " |      Return hash(self).\n",
      " |  \n",
      " |  __iter__(self, /)\n",
      " |      Implement iter(self).\n",
      " |  \n",
      " |  __le__(self, value, /)\n",
      " |      Return self<=value.\n",
      " |  \n",
      " |  __len__(self, /)\n",
      " |      Return len(self).\n",
      " |  \n",
      " |  __lt__(self, value, /)\n",
      " |      Return self<value.\n",
      " |  \n",
      " |  __mul__(self, value, /)\n",
      " |      Return self*value.\n",
      " |  \n",
      " |  __ne__(self, value, /)\n",
      " |      Return self!=value.\n",
      " |  \n",
      " |  __repr__(self, /)\n",
      " |      Return repr(self).\n",
      " |  \n",
      " |  __rmul__(self, value, /)\n",
      " |      Return value*self.\n",
      " |  \n",
      " |  count(self, value, /)\n",
      " |      Return number of occurrences of value.\n",
      " |  \n",
      " |  index(self, value, start=0, stop=9223372036854775807, /)\n",
      " |      Return first index of value.\n",
      " |      \n",
      " |      Raises ValueError if the value is not present.\n",
      " |  \n",
      " |  ----------------------------------------------------------------------\n",
      " |  Class methods defined here:\n",
      " |  \n",
      " |  __class_getitem__(...)\n",
      " |      See PEP 585\n",
      " |  \n",
      " |  ----------------------------------------------------------------------\n",
      " |  Static methods defined here:\n",
      " |  \n",
      " |  __new__(*args, **kwargs)\n",
      " |      Create and return a new object.  See help(type) for accurate signature.\n",
      "\n"
     ]
    }
   ],
   "source": [
    "help(tuple)"
   ]
  },
  {
   "cell_type": "code",
   "execution_count": 6,
   "metadata": {},
   "outputs": [
    {
     "data": {
      "text/plain": [
       "('python', 'sql', 'statistics', 'tableau', 'excel', 'power bi')"
      ]
     },
     "execution_count": 6,
     "metadata": {},
     "output_type": "execute_result"
    }
   ],
   "source": [
    "# how can we update a tuple\n",
    "\n",
    "lukes_skill = (\"python\", \"sql\", \"statistics\", \"tableau\")\n",
    "new_skill = (\"excel\", \"power bi\")\n",
    "lukes_skill + new_skill"
   ]
  },
  {
   "cell_type": "code",
   "execution_count": 10,
   "metadata": {},
   "outputs": [
    {
     "name": "stdout",
     "output_type": "stream",
     "text": [
      "2206883652576\n",
      "2206880494976\n"
     ]
    }
   ],
   "source": [
    "# there is also an add functionality for tuples\n",
    "# whenever you update a tuple, you are actually creating a new one.\n",
    "# you can confirm that with unique object IDs!\n",
    "\n",
    "lukes_skill = (\"python\", \"sql\", \"statistics\", \"tableau\")\n",
    "print(id(lukes_skill))\n",
    "new_skill = (\"excel\", \"power bi\")\n",
    "lukes_skill += new_skill\n",
    "lukes_skill\n",
    "print(id(lukes_skill))\n",
    "\n",
    "# both ids do not match! If we did the same with lists, the IDs would be the same!"
   ]
  },
  {
   "cell_type": "markdown",
   "metadata": {},
   "source": [
    "## 11.2 Ranges"
   ]
  },
  {
   "cell_type": "markdown",
   "metadata": {},
   "source": [
    "Produces a series of integers between a range and with a specific step"
   ]
  },
  {
   "cell_type": "code",
   "execution_count": 12,
   "metadata": {},
   "outputs": [
    {
     "name": "stdout",
     "output_type": "stream",
     "text": [
      "range(0, 5)\n"
     ]
    }
   ],
   "source": [
    "# how to write a range\n",
    "print(range(5))"
   ]
  },
  {
   "cell_type": "code",
   "execution_count": 14,
   "metadata": {},
   "outputs": [
    {
     "name": "stdout",
     "output_type": "stream",
     "text": [
      "(0, 1, 2, 3, 4)\n"
     ]
    }
   ],
   "source": [
    "# you can convert them to a tuple (mostly to see all the values possible)\n",
    "print(tuple(range(5)))"
   ]
  },
  {
   "cell_type": "code",
   "execution_count": 17,
   "metadata": {},
   "outputs": [
    {
     "name": "stdout",
     "output_type": "stream",
     "text": [
      "(2, 3, 4)\n"
     ]
    }
   ],
   "source": [
    "# you can decide where to start\n",
    "print(tuple(range(2, 5)))"
   ]
  },
  {
   "cell_type": "code",
   "execution_count": 22,
   "metadata": {},
   "outputs": [
    {
     "name": "stdout",
     "output_type": "stream",
     "text": [
      "(0, 5, 10, 15, 20, 25, 30, 35, 40, 45, 50, 55, 60, 65, 70, 75, 80, 85, 90, 95, 100)\n"
     ]
    }
   ],
   "source": [
    "# you can decide the step\n",
    "print(tuple(range(0, 101, 5)))"
   ]
  },
  {
   "cell_type": "markdown",
   "metadata": {},
   "source": [
    "## 11.3 Problems"
   ]
  },
  {
   "cell_type": "markdown",
   "metadata": {},
   "source": [
    "### 1.11.1"
   ]
  },
  {
   "cell_type": "markdown",
   "metadata": {},
   "source": [
    "Access the second job role from the tuple job_roles and print it. The job_roles variable is set to ('Data Scientist', 'Data Analyst', 'Machine Learning Engineer')."
   ]
  },
  {
   "cell_type": "code",
   "execution_count": 25,
   "metadata": {},
   "outputs": [
    {
     "name": "stdout",
     "output_type": "stream",
     "text": [
      "Data Analyst\n"
     ]
    }
   ],
   "source": [
    "job_roles = (\"Data Scientist\", \"Data Analyst\", \"Machine Learning Engineer\")\n",
    "print(job_roles[1])"
   ]
  },
  {
   "cell_type": "markdown",
   "metadata": {},
   "source": [
    "## 1.11.2"
   ]
  },
  {
   "cell_type": "markdown",
   "metadata": {},
   "source": [
    "Create a new tuple extended_job_roles by adding the job role 'AI Specialist' to the existing tuple job_roles. Print the new tuple. The job_roles is set to job_roles = ('Data Scientist', 'Data Analyst', 'Machine Learning Engineer')."
   ]
  },
  {
   "cell_type": "code",
   "execution_count": 30,
   "metadata": {},
   "outputs": [
    {
     "name": "stdout",
     "output_type": "stream",
     "text": [
      "('Data Scientist', 'Data Analyst', 'Machine Learning Engineer', 'AI Specialist')\n"
     ]
    }
   ],
   "source": [
    "job_roles = (\"Data Scientist\", \"Data Analyst\", \"Machine Learning Engineer\")\n",
    "extended_job_roles = job_roles + (\"AI Specialist\",)\n",
    "print(extended_job_roles)\n",
    "\n",
    "# NOTE: there must be at least one comma in the tuples parenthesis to add a new item and create a new tuple."
   ]
  },
  {
   "cell_type": "markdown",
   "metadata": {},
   "source": [
    "## 1.11.3"
   ]
  },
  {
   "cell_type": "markdown",
   "metadata": {},
   "source": [
    "Remove the job role 'Data Analyst' from the tuple job_roles by converting it to a list and then back to a tuple. Print the updated tuple. The tuple job_roles is set to ('Data Scientist', 'Data Analyst', 'Machine Learning Engineer')."
   ]
  },
  {
   "cell_type": "code",
   "execution_count": 36,
   "metadata": {},
   "outputs": [
    {
     "name": "stdout",
     "output_type": "stream",
     "text": [
      "('Data Scientist', 'Machine Learning Engineer')\n"
     ]
    }
   ],
   "source": [
    "job_roles = ('Data Scientist', 'Data Analyst', 'Machine Learning Engineer')\n",
    "job_roles_list = list(job_roles)\n",
    "job_roles_list.remove(\"Data Analyst\")\n",
    "updated_job_roles = tuple(job_roles_list)\n",
    "print(updated_job_roles)"
   ]
  },
  {
   "cell_type": "markdown",
   "metadata": {},
   "source": [
    "## 1.11.4"
   ]
  },
  {
   "cell_type": "markdown",
   "metadata": {},
   "source": [
    "Unpack the tuple job_postings into three variables data_scientist_postings, data_analyst_postings, and ml_engineer_postings. Print each variable. The variable job_postings is set to (120, 80, 50)."
   ]
  },
  {
   "cell_type": "code",
   "execution_count": 38,
   "metadata": {},
   "outputs": [
    {
     "name": "stdout",
     "output_type": "stream",
     "text": [
      "120\n",
      "80\n",
      "50\n"
     ]
    }
   ],
   "source": [
    "job_postings = (120, 80, 50)\n",
    "data_scientist_postings, data_analyst_postings, ml_engineer_postings = job_postings\n",
    "print(data_scientist_postings)\n",
    "print(data_analyst_postings)\n",
    "print(ml_engineer_postings)\n",
    "\n",
    "# skill1, skill2, skill3, skill4 = job_skills\n",
    "# print(skill1, skill2, skill3, skill4)"
   ]
  },
  {
   "cell_type": "markdown",
   "metadata": {},
   "source": [
    "## 1.11.5"
   ]
  },
  {
   "cell_type": "markdown",
   "metadata": {},
   "source": [
    "Extract and print the number of postings for 'Machine Learning Engineer' from the nested tuple job_details. The job_details is set to (('Data Scientist', 120), ('Data Analyst', 80), ('Machine Learning Engineer', 50))."
   ]
  },
  {
   "cell_type": "code",
   "execution_count": 44,
   "metadata": {},
   "outputs": [
    {
     "name": "stdout",
     "output_type": "stream",
     "text": [
      "50\n"
     ]
    }
   ],
   "source": [
    "## simple method with double indexing\n",
    "job_details = ((\"Data Scientist\", 120), (\"Data Analyst\", 80), (\"Machine Learning Engineer\", 50))\n",
    "print(job_details[2][1])"
   ]
  },
  {
   "cell_type": "code",
   "execution_count": 42,
   "metadata": {},
   "outputs": [
    {
     "name": "stdout",
     "output_type": "stream",
     "text": [
      "50\n"
     ]
    }
   ],
   "source": [
    "## multiple transformation to variables - clunky method\n",
    "\n",
    "job_details = ((\"Data Scientist\", 120), (\"Data Analyst\", 80), (\"Machine Learning Engineer\", 50))\n",
    "ds, da, ml = job_details\n",
    "ml_title, ml_postings = ml\n",
    "print(ml_postings)"
   ]
  }
 ],
 "metadata": {
  "kernelspec": {
   "display_name": "Python 3",
   "language": "python",
   "name": "python3"
  },
  "language_info": {
   "codemirror_mode": {
    "name": "ipython",
    "version": 3
   },
   "file_extension": ".py",
   "mimetype": "text/x-python",
   "name": "python",
   "nbconvert_exporter": "python",
   "pygments_lexer": "ipython3",
   "version": "3.11.9"
  }
 },
 "nbformat": 4,
 "nbformat_minor": 2
}
