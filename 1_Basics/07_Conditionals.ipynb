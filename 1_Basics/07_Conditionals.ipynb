{
 "cells": [
  {
   "cell_type": "markdown",
   "metadata": {},
   "source": [
    "# 7 Conditional"
   ]
  },
  {
   "cell_type": "markdown",
   "metadata": {},
   "source": [
    "Using the conditional operators (==, !=, >. <, >=. <=), weneed to formulate statements in a specific manner to check if they are true or not."
   ]
  },
  {
   "cell_type": "markdown",
   "metadata": {},
   "source": [
    "| Part       | Purpose                           | Condition Evaluated             | Action if True                 |\n",
    "|------------|-----------------------------------|---------------------------------|--------------------------------|\n",
    "| `if`       | First condition check             | First condition to be evaluated | Executes block if condition is true |\n",
    "| `elif`     | Subsequent condition check        | Next condition, if `if` is false| Executes block if this condition is true |\n",
    "| `else`     | Fallback if no conditions are met | None | Executes block if all above conditions are false |"
   ]
  },
  {
   "cell_type": "markdown",
   "metadata": {},
   "source": [
    "## 7.1 if keyword"
   ]
  },
  {
   "cell_type": "code",
   "execution_count": 2,
   "metadata": {},
   "outputs": [
    {
     "name": "stdout",
     "output_type": "stream",
     "text": [
      "What's up Data Nerds?\n"
     ]
    }
   ],
   "source": [
    "if True:\n",
    "    print(\"What's up Data Nerds?\")\n",
    "# the indentation is extremely important for the interpreter to read the expression!!"
   ]
  },
  {
   "cell_type": "code",
   "execution_count": 3,
   "metadata": {},
   "outputs": [],
   "source": [
    "# skill required for Job\n",
    "job_skill = \"SQL\"\n",
    "\n",
    "# Applicant skill\n",
    "applicant_skill = \"SQL\""
   ]
  },
  {
   "cell_type": "code",
   "execution_count": 5,
   "metadata": {},
   "outputs": [
    {
     "name": "stdout",
     "output_type": "stream",
     "text": [
      "Skills Match!\n"
     ]
    }
   ],
   "source": [
    "if job_skill == applicant_skill:\n",
    "    print(\"Skills Match!\")"
   ]
  },
  {
   "cell_type": "markdown",
   "metadata": {},
   "source": [
    "## 7.2 elif keyword"
   ]
  },
  {
   "cell_type": "markdown",
   "metadata": {},
   "source": [
    "To add another condition in addition to the if condition"
   ]
  },
  {
   "cell_type": "code",
   "execution_count": 10,
   "metadata": {},
   "outputs": [
    {
     "name": "stdout",
     "output_type": "stream",
     "text": [
      "Enough Experience; No SQL\n"
     ]
    }
   ],
   "source": [
    "job_skill = \"SQL\"\n",
    "applicant_skill = \"Python\"\n",
    "years_experience = 6\n",
    "\n",
    "if job_skill == applicant_skill:\n",
    "    print(\"Skills Match!\")\n",
    "elif years_experience >= 5:\n",
    "    print(\"Enough Experience; No SQL\")\n",
    "\n",
    "# we have a false for the first condition, so no result. We then move to the 2nd condition."
   ]
  },
  {
   "cell_type": "markdown",
   "metadata": {},
   "source": [
    "## 7.3 else keyword"
   ]
  },
  {
   "cell_type": "markdown",
   "metadata": {},
   "source": [
    "To define what is outputed if the condition(s) are not met."
   ]
  },
  {
   "cell_type": "code",
   "execution_count": 14,
   "metadata": {},
   "outputs": [
    {
     "name": "stdout",
     "output_type": "stream",
     "text": [
      "This applicant should no SQL\n"
     ]
    }
   ],
   "source": [
    "job_skill = \"SQL\"\n",
    "applicant_skill = \"Python\"\n",
    "years_experience = 3\n",
    "\n",
    "if job_skill == applicant_skill:\n",
    "    print(\"Skills Match!\")\n",
    "elif years_experience >= 5:\n",
    "    print(\"Enough Experience; No SQL\")\n",
    "elif applicant_skill == \"Python\":\n",
    "    print(\"This applicant should know SQL\")\n",
    "else:\n",
    "    print(\"No Skill or Experience\")"
   ]
  },
  {
   "cell_type": "markdown",
   "metadata": {},
   "source": [
    "## 7.4 pass keyword"
   ]
  },
  {
   "cell_type": "markdown",
   "metadata": {},
   "source": [
    "put in place whenever we don't know yet what value we need, but we need to skip the condition for now."
   ]
  },
  {
   "cell_type": "code",
   "execution_count": 18,
   "metadata": {},
   "outputs": [],
   "source": [
    "job_skill = \"SQL\"\n",
    "applicant_skill = \"Python\"\n",
    "years_experience = 3\n",
    "\n",
    "if job_skill == applicant_skill:\n",
    "    print(\"Skills Match!\")\n",
    "elif years_experience >= 5:\n",
    "    print(\"Enough Experience; No SQL\")\n",
    "elif applicant_skill == \"Python\":\n",
    "    pass\n",
    "else:\n",
    "    print(\"No Skill or Experience\")"
   ]
  },
  {
   "cell_type": "markdown",
   "metadata": {},
   "source": [
    "# 7.1 Problems"
   ]
  },
  {
   "cell_type": "markdown",
   "metadata": {},
   "source": [
    "## 1.7.1"
   ]
  },
  {
   "cell_type": "markdown",
   "metadata": {},
   "source": [
    "Output someone's skill level based on the number of years someone has been using Python. Use the following criteria:\n",
    "\n",
    "- Less than 2 years is 'Beginner'\n",
    "\n",
    "- 2 or more years is 'Intermediate'\n",
    "\n",
    "Set the variable python_experience to 3 and test this variable in the if statement."
   ]
  },
  {
   "cell_type": "code",
   "execution_count": 21,
   "metadata": {},
   "outputs": [
    {
     "name": "stdout",
     "output_type": "stream",
     "text": [
      "Intermediate\n"
     ]
    }
   ],
   "source": [
    "python_experience = 3\n",
    "\n",
    "if python_experience < 2:\n",
    "    print(\"Beginner\")\n",
    "elif python_experience >= 3:\n",
    "    print(\"Intermediate\")\n",
    "else:\n",
    "    print(\"N/A\")"
   ]
  },
  {
   "cell_type": "markdown",
   "metadata": {},
   "source": [
    "## 1.7.2"
   ]
  },
  {
   "cell_type": "markdown",
   "metadata": {},
   "source": [
    "Output someone's skill level based on the number of data science tools they know. Use the following criteria:\n",
    "\n",
    "- 0-1 tools is 'Beginner'\n",
    "- 2-4 tools is 'Intermediate'\n",
    "- More than 4 tools is 'Advanced'\n",
    "\n",
    "The variable tools_known is set to 3 to test with the if statement."
   ]
  },
  {
   "cell_type": "code",
   "execution_count": 22,
   "metadata": {},
   "outputs": [
    {
     "name": "stdout",
     "output_type": "stream",
     "text": [
      "Intermediate\n"
     ]
    }
   ],
   "source": [
    "tools_known = 3\n",
    "\n",
    "if tools_known <= 1:\n",
    "    print(\"Beginner\")\n",
    "elif tools_known <= 4:\n",
    "    print(\"Intermediate\")\n",
    "else:\n",
    "    print(\"Advanced\")"
   ]
  },
  {
   "cell_type": "markdown",
   "metadata": {},
   "source": [
    "## 1.7.3"
   ]
  },
  {
   "cell_type": "markdown",
   "metadata": {},
   "source": [
    "Determine the job title based on years of job experience and years of SQL experience. The variable job_experience is set to 4 and sql_experience is set to 2. Use the following criteria:\n",
    "\n",
    "- Less than 2 years of job experience is 'Junior Analyst'.\n",
    "- 2 to 5 years of job experience and 1 year of SQL experience is 'Intermediate Analyst'.\n",
    "- 2 to 5 years of job experience and 2 or more years of SQL experience is 'Senior Analyst'.\n",
    "- More than 5 years of job experience and 3 or more years of SQL experience is 'Lead Analyst'.\n",
    "- More than 5 years of job experience and less than 3 years of SQL experience is 'Data Analyst'."
   ]
  },
  {
   "cell_type": "code",
   "execution_count": 26,
   "metadata": {},
   "outputs": [
    {
     "name": "stdout",
     "output_type": "stream",
     "text": [
      "Senior Analyst\n"
     ]
    }
   ],
   "source": [
    "job_experience = 4\n",
    "sql_experience = 2\n",
    "\n",
    "if job_experience < 2:\n",
    "    print(\"Junior Analyst\")\n",
    "elif job_experience <= 5 and sql_experience < 2:\n",
    "    print(\"Intermediate Analyst\")\n",
    "elif job_experience <= 5 and sql_experience >= 2:\n",
    "    print(\"Senior Analyst\")\n",
    "elif job_experience > 5 and sql_experience >= 3:\n",
    "    print (\"Lead Analyst\")\n",
    "elif job_experience > 5 and sql_experience < 3:\n",
    "    print (\"Data Analyst\")\n",
    "else:\n",
    "    print(\"N/A\")"
   ]
  }
 ],
 "metadata": {
  "kernelspec": {
   "display_name": "Python 3",
   "language": "python",
   "name": "python3"
  },
  "language_info": {
   "codemirror_mode": {
    "name": "ipython",
    "version": 3
   },
   "file_extension": ".py",
   "mimetype": "text/x-python",
   "name": "python",
   "nbconvert_exporter": "python",
   "pygments_lexer": "ipython3",
   "version": "3.11.9"
  }
 },
 "nbformat": 4,
 "nbformat_minor": 2
}
