{
 "cells": [
  {
   "cell_type": "markdown",
   "metadata": {},
   "source": [
    "# 26 Pandas Analyzing"
   ]
  },
  {
   "cell_type": "markdown",
   "metadata": {},
   "source": [
    "Doing basic analytics using pandas e.g. mean, max, mix, etc., and also grouping results to analyse and identify trends."
   ]
  },
  {
   "cell_type": "code",
   "execution_count": 28,
   "metadata": {},
   "outputs": [],
   "source": [
    "# import pandas\n",
    "import pandas as pd\n",
    "from datasets import load_dataset\n",
    "\n",
    "# load data\n",
    "dataset = load_dataset(\"lukebarousse/data_jobs\")\n",
    "df = dataset[\"train\"].to_pandas()\n",
    "\n",
    "# Data cleaning - transform to date and time data type\n",
    "\n",
    "df[\"job_posted_date\"] = pd.to_datetime(df[\"job_posted_date\"])"
   ]
  },
  {
   "cell_type": "code",
   "execution_count": 29,
   "metadata": {},
   "outputs": [
    {
     "data": {
      "text/html": [
       "<div>\n",
       "<style scoped>\n",
       "    .dataframe tbody tr th:only-of-type {\n",
       "        vertical-align: middle;\n",
       "    }\n",
       "\n",
       "    .dataframe tbody tr th {\n",
       "        vertical-align: top;\n",
       "    }\n",
       "\n",
       "    .dataframe thead th {\n",
       "        text-align: right;\n",
       "    }\n",
       "</style>\n",
       "<table border=\"1\" class=\"dataframe\">\n",
       "  <thead>\n",
       "    <tr style=\"text-align: right;\">\n",
       "      <th></th>\n",
       "      <th>job_posted_date</th>\n",
       "      <th>salary_year_avg</th>\n",
       "      <th>salary_hour_avg</th>\n",
       "    </tr>\n",
       "  </thead>\n",
       "  <tbody>\n",
       "    <tr>\n",
       "      <th>count</th>\n",
       "      <td>785741</td>\n",
       "      <td>22003.000000</td>\n",
       "      <td>10662.000000</td>\n",
       "    </tr>\n",
       "    <tr>\n",
       "      <th>mean</th>\n",
       "      <td>2023-06-25 16:02:11.860248576</td>\n",
       "      <td>123286.274072</td>\n",
       "      <td>47.016598</td>\n",
       "    </tr>\n",
       "    <tr>\n",
       "      <th>min</th>\n",
       "      <td>2023-01-01 00:00:04</td>\n",
       "      <td>15000.000000</td>\n",
       "      <td>8.000000</td>\n",
       "    </tr>\n",
       "    <tr>\n",
       "      <th>25%</th>\n",
       "      <td>2023-03-20 10:05:48</td>\n",
       "      <td>90000.000000</td>\n",
       "      <td>27.500000</td>\n",
       "    </tr>\n",
       "    <tr>\n",
       "      <th>50%</th>\n",
       "      <td>2023-06-29 06:11:38</td>\n",
       "      <td>115000.000000</td>\n",
       "      <td>45.980000</td>\n",
       "    </tr>\n",
       "    <tr>\n",
       "      <th>75%</th>\n",
       "      <td>2023-09-27 01:01:16</td>\n",
       "      <td>150000.000000</td>\n",
       "      <td>61.159996</td>\n",
       "    </tr>\n",
       "    <tr>\n",
       "      <th>max</th>\n",
       "      <td>2023-12-31 23:59:58</td>\n",
       "      <td>960000.000000</td>\n",
       "      <td>391.000000</td>\n",
       "    </tr>\n",
       "    <tr>\n",
       "      <th>std</th>\n",
       "      <td>NaN</td>\n",
       "      <td>48312.449482</td>\n",
       "      <td>21.890738</td>\n",
       "    </tr>\n",
       "  </tbody>\n",
       "</table>\n",
       "</div>"
      ],
      "text/plain": [
       "                     job_posted_date  salary_year_avg  salary_hour_avg\n",
       "count                         785741     22003.000000     10662.000000\n",
       "mean   2023-06-25 16:02:11.860248576    123286.274072        47.016598\n",
       "min              2023-01-01 00:00:04     15000.000000         8.000000\n",
       "25%              2023-03-20 10:05:48     90000.000000        27.500000\n",
       "50%              2023-06-29 06:11:38    115000.000000        45.980000\n",
       "75%              2023-09-27 01:01:16    150000.000000        61.159996\n",
       "max              2023-12-31 23:59:58    960000.000000       391.000000\n",
       "std                              NaN     48312.449482        21.890738"
      ]
     },
     "execution_count": 29,
     "metadata": {},
     "output_type": "execute_result"
    }
   ],
   "source": [
    "# we now have the details on the date column when calling the describe method that details all numerical columns\n",
    "\n",
    "df.describe()"
   ]
  },
  {
   "cell_type": "code",
   "execution_count": 30,
   "metadata": {},
   "outputs": [
    {
     "name": "stdout",
     "output_type": "stream",
     "text": [
      "<class 'pandas.core.frame.DataFrame'>\n",
      "RangeIndex: 785741 entries, 0 to 785740\n",
      "Data columns (total 17 columns):\n",
      " #   Column                 Non-Null Count   Dtype         \n",
      "---  ------                 --------------   -----         \n",
      " 0   job_title_short        785741 non-null  object        \n",
      " 1   job_title              785740 non-null  object        \n",
      " 2   job_location           784696 non-null  object        \n",
      " 3   job_via                785733 non-null  object        \n",
      " 4   job_schedule_type      773074 non-null  object        \n",
      " 5   job_work_from_home     785741 non-null  bool          \n",
      " 6   search_location        785741 non-null  object        \n",
      " 7   job_posted_date        785741 non-null  datetime64[ns]\n",
      " 8   job_no_degree_mention  785741 non-null  bool          \n",
      " 9   job_health_insurance   785741 non-null  bool          \n",
      " 10  job_country            785692 non-null  object        \n",
      " 11  salary_rate            33067 non-null   object        \n",
      " 12  salary_year_avg        22003 non-null   float64       \n",
      " 13  salary_hour_avg        10662 non-null   float64       \n",
      " 14  company_name           785723 non-null  object        \n",
      " 15  job_skills             668704 non-null  object        \n",
      " 16  job_type_skills        668704 non-null  object        \n",
      "dtypes: bool(3), datetime64[ns](1), float64(2), object(11)\n",
      "memory usage: 86.2+ MB\n"
     ]
    }
   ],
   "source": [
    "# also check summary info\n",
    "\n",
    "df.info()"
   ]
  },
  {
   "cell_type": "code",
   "execution_count": 31,
   "metadata": {},
   "outputs": [
    {
     "data": {
      "text/plain": [
       "np.float64(115000.0)"
      ]
     },
     "execution_count": 31,
     "metadata": {},
     "output_type": "execute_result"
    }
   ],
   "source": [
    "# we can also get some additional info using additional methods\n",
    "# numerical methods will return an error the moment a column with strings is included. We need to precise the columns we want\n",
    "\n",
    "df[\"salary_year_avg\"].median()"
   ]
  },
  {
   "cell_type": "code",
   "execution_count": 32,
   "metadata": {},
   "outputs": [
    {
     "data": {
      "text/plain": [
       "np.float64(15000.0)"
      ]
     },
     "execution_count": 32,
     "metadata": {},
     "output_type": "execute_result"
    }
   ],
   "source": [
    "# we always need to investigate the min and max values to ensure there is nothing wrong with the data\n",
    "\n",
    "# the min = 15000 (as seen using the df.describe() method)\n",
    "\n",
    "df[\"salary_year_avg\"].min() # just checking we get the same min"
   ]
  },
  {
   "cell_type": "code",
   "execution_count": 33,
   "metadata": {},
   "outputs": [
    {
     "data": {
      "text/plain": [
       "job_title_short                                              Data Engineer\n",
       "job_title                                           Data Engineer - Hadoop\n",
       "job_location                                                        Brazil\n",
       "job_via                                                       via LinkedIn\n",
       "job_schedule_type                                                Full-time\n",
       "job_work_from_home                                                   False\n",
       "search_location                                                     Brazil\n",
       "job_posted_date                                        2023-12-09 10:05:30\n",
       "job_no_degree_mention                                                 True\n",
       "job_health_insurance                                                 False\n",
       "job_country                                                         Brazil\n",
       "salary_rate                                                           year\n",
       "salary_year_avg                                                    15000.0\n",
       "salary_hour_avg                                                        NaN\n",
       "company_name                                               Net2Source Inc.\n",
       "job_skills               ['java', 'python', 'oracle', 'aws', 'hadoop', ...\n",
       "job_type_skills          {'cloud': ['oracle', 'aws'], 'libraries': ['ha...\n",
       "Name: 665729, dtype: object"
      ]
     },
     "execution_count": 33,
     "metadata": {},
     "output_type": "execute_result"
    }
   ],
   "source": [
    "# we want to find the index value of the min value to investigate\n",
    "# there's a method for that! df.idxmin()\n",
    "\n",
    "min_salary = df[\"salary_year_avg\"].idxmin()\n",
    "\n",
    "df.iloc[min_salary]\n",
    "\n",
    "# we find out that the job is in brazil. Looking into it further, 15000 isn't that bad of a salary in Brazil."
   ]
  },
  {
   "cell_type": "code",
   "execution_count": 34,
   "metadata": {},
   "outputs": [
    {
     "data": {
      "text/plain": [
       "array(['Senior Data Engineer', 'Data Analyst', 'Data Engineer',\n",
       "       'Business Analyst', 'Data Scientist', 'Machine Learning Engineer',\n",
       "       'Senior Data Analyst', 'Cloud Engineer', 'Senior Data Scientist',\n",
       "       'Software Engineer'], dtype=object)"
      ]
     },
     "execution_count": 34,
     "metadata": {},
     "output_type": "execute_result"
    }
   ],
   "source": [
    "# we used the unique() method to find out the unique values.\n",
    "\n",
    "df[\"job_title_short\"].unique()"
   ]
  },
  {
   "cell_type": "code",
   "execution_count": 35,
   "metadata": {},
   "outputs": [
    {
     "data": {
      "text/plain": [
       "job_title_short\n",
       "Data Analyst                 196075\n",
       "Data Engineer                186241\n",
       "Data Scientist               172286\n",
       "Business Analyst              49063\n",
       "Software Engineer             44929\n",
       "Senior Data Engineer          44563\n",
       "Senior Data Scientist         36957\n",
       "Senior Data Analyst           29216\n",
       "Machine Learning Engineer     14080\n",
       "Cloud Engineer                12331\n",
       "Name: count, dtype: int64"
      ]
     },
     "execution_count": 35,
     "metadata": {},
     "output_type": "execute_result"
    }
   ],
   "source": [
    "# it'S cool and all, but not very useful. We want the unique value counts instead.\n",
    "\n",
    "df[\"job_title_short\"].value_counts()"
   ]
  },
  {
   "cell_type": "code",
   "execution_count": 36,
   "metadata": {},
   "outputs": [
    {
     "data": {
      "text/plain": [
       "job_title_short\n",
       "Business Analyst             16500.0\n",
       "Cloud Engineer               42000.0\n",
       "Data Analyst                 25000.0\n",
       "Data Engineer                15000.0\n",
       "Data Scientist               27000.0\n",
       "Machine Learning Engineer    30000.0\n",
       "Senior Data Analyst          30000.0\n",
       "Senior Data Engineer         35000.0\n",
       "Senior Data Scientist        45000.0\n",
       "Software Engineer            28000.0\n",
       "Name: salary_year_avg, dtype: float64"
      ]
     },
     "execution_count": 36,
     "metadata": {},
     "output_type": "execute_result"
    }
   ],
   "source": [
    "# what if we want to dive deeper and combine the analysis we've done before e.g. what are the min salaries of each of the job titles\n",
    "# we use the df.groupby() method\n",
    "\n",
    "df.groupby(\"job_title_short\")[\"salary_year_avg\"].min()"
   ]
  },
  {
   "cell_type": "code",
   "execution_count": 37,
   "metadata": {},
   "outputs": [
    {
     "data": {
      "text/plain": [
       "job_title_short\n",
       "Business Analyst              85000.0\n",
       "Cloud Engineer                90000.0\n",
       "Data Analyst                  90000.0\n",
       "Data Engineer                125000.0\n",
       "Data Scientist               127500.0\n",
       "Machine Learning Engineer    106415.0\n",
       "Senior Data Analyst          111175.0\n",
       "Senior Data Engineer         147500.0\n",
       "Senior Data Scientist        155500.0\n",
       "Software Engineer             99150.0\n",
       "Name: salary_year_avg, dtype: float64"
      ]
     },
     "execution_count": 37,
     "metadata": {},
     "output_type": "execute_result"
    }
   ],
   "source": [
    "df.groupby(\"job_title_short\")[\"salary_year_avg\"].median()"
   ]
  },
  {
   "cell_type": "code",
   "execution_count": 38,
   "metadata": {},
   "outputs": [
    {
     "data": {
      "text/plain": [
       "job_title_short    job_country\n",
       "Business Analyst   Afghanistan        NaN\n",
       "                   Albania            NaN\n",
       "                   Algeria            NaN\n",
       "                   Angola             NaN\n",
       "                   Argentina      71100.0\n",
       "                                   ...   \n",
       "Software Engineer  Venezuela          NaN\n",
       "                   Vietnam        53600.0\n",
       "                   Yemen              NaN\n",
       "                   Zambia             NaN\n",
       "                   Zimbabwe           NaN\n",
       "Name: salary_year_avg, Length: 1387, dtype: float64"
      ]
     },
     "execution_count": 38,
     "metadata": {},
     "output_type": "execute_result"
    }
   ],
   "source": [
    "# we can also group by additional info e.g. country\n",
    "\n",
    "df.groupby([\"job_title_short\", \"job_country\"])[\"salary_year_avg\"].median()"
   ]
  },
  {
   "cell_type": "code",
   "execution_count": 39,
   "metadata": {},
   "outputs": [
    {
     "data": {
      "text/html": [
       "<div>\n",
       "<style scoped>\n",
       "    .dataframe tbody tr th:only-of-type {\n",
       "        vertical-align: middle;\n",
       "    }\n",
       "\n",
       "    .dataframe tbody tr th {\n",
       "        vertical-align: top;\n",
       "    }\n",
       "\n",
       "    .dataframe thead th {\n",
       "        text-align: right;\n",
       "    }\n",
       "</style>\n",
       "<table border=\"1\" class=\"dataframe\">\n",
       "  <thead>\n",
       "    <tr style=\"text-align: right;\">\n",
       "      <th></th>\n",
       "      <th>salary_year_avg</th>\n",
       "      <th>salary_hour_avg</th>\n",
       "    </tr>\n",
       "    <tr>\n",
       "      <th>job_title_short</th>\n",
       "      <th></th>\n",
       "      <th></th>\n",
       "    </tr>\n",
       "  </thead>\n",
       "  <tbody>\n",
       "    <tr>\n",
       "      <th>Business Analyst</th>\n",
       "      <td>85000.0</td>\n",
       "      <td>40.362499</td>\n",
       "    </tr>\n",
       "    <tr>\n",
       "      <th>Cloud Engineer</th>\n",
       "      <td>90000.0</td>\n",
       "      <td>40.000000</td>\n",
       "    </tr>\n",
       "    <tr>\n",
       "      <th>Data Analyst</th>\n",
       "      <td>90000.0</td>\n",
       "      <td>32.615002</td>\n",
       "    </tr>\n",
       "    <tr>\n",
       "      <th>Data Engineer</th>\n",
       "      <td>125000.0</td>\n",
       "      <td>58.500000</td>\n",
       "    </tr>\n",
       "    <tr>\n",
       "      <th>Data Scientist</th>\n",
       "      <td>127500.0</td>\n",
       "      <td>47.500000</td>\n",
       "    </tr>\n",
       "    <tr>\n",
       "      <th>Machine Learning Engineer</th>\n",
       "      <td>106415.0</td>\n",
       "      <td>47.535000</td>\n",
       "    </tr>\n",
       "    <tr>\n",
       "      <th>Senior Data Analyst</th>\n",
       "      <td>111175.0</td>\n",
       "      <td>47.500000</td>\n",
       "    </tr>\n",
       "    <tr>\n",
       "      <th>Senior Data Engineer</th>\n",
       "      <td>147500.0</td>\n",
       "      <td>61.500000</td>\n",
       "    </tr>\n",
       "    <tr>\n",
       "      <th>Senior Data Scientist</th>\n",
       "      <td>155500.0</td>\n",
       "      <td>47.620003</td>\n",
       "    </tr>\n",
       "    <tr>\n",
       "      <th>Software Engineer</th>\n",
       "      <td>99150.0</td>\n",
       "      <td>47.560001</td>\n",
       "    </tr>\n",
       "  </tbody>\n",
       "</table>\n",
       "</div>"
      ],
      "text/plain": [
       "                           salary_year_avg  salary_hour_avg\n",
       "job_title_short                                            \n",
       "Business Analyst                   85000.0        40.362499\n",
       "Cloud Engineer                     90000.0        40.000000\n",
       "Data Analyst                       90000.0        32.615002\n",
       "Data Engineer                     125000.0        58.500000\n",
       "Data Scientist                    127500.0        47.500000\n",
       "Machine Learning Engineer         106415.0        47.535000\n",
       "Senior Data Analyst               111175.0        47.500000\n",
       "Senior Data Engineer              147500.0        61.500000\n",
       "Senior Data Scientist             155500.0        47.620003\n",
       "Software Engineer                  99150.0        47.560001"
      ]
     },
     "execution_count": 39,
     "metadata": {},
     "output_type": "execute_result"
    }
   ],
   "source": [
    "# we can perform aggregations on multiple columns. E.g. what if we also want to look at the hourly salary data\n",
    "\n",
    "df.groupby(\"job_title_short\")[[\"salary_year_avg\", \"salary_hour_avg\"]].median()\n"
   ]
  },
  {
   "cell_type": "code",
   "execution_count": 40,
   "metadata": {},
   "outputs": [
    {
     "data": {
      "text/html": [
       "<div>\n",
       "<style scoped>\n",
       "    .dataframe tbody tr th:only-of-type {\n",
       "        vertical-align: middle;\n",
       "    }\n",
       "\n",
       "    .dataframe tbody tr th {\n",
       "        vertical-align: top;\n",
       "    }\n",
       "\n",
       "    .dataframe thead tr th {\n",
       "        text-align: left;\n",
       "    }\n",
       "\n",
       "    .dataframe thead tr:last-of-type th {\n",
       "        text-align: right;\n",
       "    }\n",
       "</style>\n",
       "<table border=\"1\" class=\"dataframe\">\n",
       "  <thead>\n",
       "    <tr>\n",
       "      <th></th>\n",
       "      <th colspan=\"3\" halign=\"left\">salary_year_avg</th>\n",
       "      <th colspan=\"3\" halign=\"left\">salary_hour_avg</th>\n",
       "    </tr>\n",
       "    <tr>\n",
       "      <th></th>\n",
       "      <th>min</th>\n",
       "      <th>max</th>\n",
       "      <th>median</th>\n",
       "      <th>min</th>\n",
       "      <th>max</th>\n",
       "      <th>median</th>\n",
       "    </tr>\n",
       "    <tr>\n",
       "      <th>job_title_short</th>\n",
       "      <th></th>\n",
       "      <th></th>\n",
       "      <th></th>\n",
       "      <th></th>\n",
       "      <th></th>\n",
       "      <th></th>\n",
       "    </tr>\n",
       "  </thead>\n",
       "  <tbody>\n",
       "    <tr>\n",
       "      <th>Business Analyst</th>\n",
       "      <td>16500.0</td>\n",
       "      <td>387460.0</td>\n",
       "      <td>85000.0</td>\n",
       "      <td>10.835</td>\n",
       "      <td>132.5</td>\n",
       "      <td>40.362499</td>\n",
       "    </tr>\n",
       "    <tr>\n",
       "      <th>Cloud Engineer</th>\n",
       "      <td>42000.0</td>\n",
       "      <td>280000.0</td>\n",
       "      <td>90000.0</td>\n",
       "      <td>18.500</td>\n",
       "      <td>91.0</td>\n",
       "      <td>40.000000</td>\n",
       "    </tr>\n",
       "    <tr>\n",
       "      <th>Data Analyst</th>\n",
       "      <td>25000.0</td>\n",
       "      <td>650000.0</td>\n",
       "      <td>90000.0</td>\n",
       "      <td>8.000</td>\n",
       "      <td>391.0</td>\n",
       "      <td>32.615002</td>\n",
       "    </tr>\n",
       "    <tr>\n",
       "      <th>Data Engineer</th>\n",
       "      <td>15000.0</td>\n",
       "      <td>525000.0</td>\n",
       "      <td>125000.0</td>\n",
       "      <td>8.000</td>\n",
       "      <td>184.5</td>\n",
       "      <td>58.500000</td>\n",
       "    </tr>\n",
       "    <tr>\n",
       "      <th>Data Scientist</th>\n",
       "      <td>27000.0</td>\n",
       "      <td>960000.0</td>\n",
       "      <td>127500.0</td>\n",
       "      <td>8.000</td>\n",
       "      <td>237.5</td>\n",
       "      <td>47.500000</td>\n",
       "    </tr>\n",
       "    <tr>\n",
       "      <th>Machine Learning Engineer</th>\n",
       "      <td>30000.0</td>\n",
       "      <td>325000.0</td>\n",
       "      <td>106415.0</td>\n",
       "      <td>10.000</td>\n",
       "      <td>87.5</td>\n",
       "      <td>47.535000</td>\n",
       "    </tr>\n",
       "    <tr>\n",
       "      <th>Senior Data Analyst</th>\n",
       "      <td>30000.0</td>\n",
       "      <td>425000.0</td>\n",
       "      <td>111175.0</td>\n",
       "      <td>13.000</td>\n",
       "      <td>130.0</td>\n",
       "      <td>47.500000</td>\n",
       "    </tr>\n",
       "    <tr>\n",
       "      <th>Senior Data Engineer</th>\n",
       "      <td>35000.0</td>\n",
       "      <td>425000.0</td>\n",
       "      <td>147500.0</td>\n",
       "      <td>12.500</td>\n",
       "      <td>170.0</td>\n",
       "      <td>61.500000</td>\n",
       "    </tr>\n",
       "    <tr>\n",
       "      <th>Senior Data Scientist</th>\n",
       "      <td>45000.0</td>\n",
       "      <td>890000.0</td>\n",
       "      <td>155500.0</td>\n",
       "      <td>17.500</td>\n",
       "      <td>150.0</td>\n",
       "      <td>47.620003</td>\n",
       "    </tr>\n",
       "    <tr>\n",
       "      <th>Software Engineer</th>\n",
       "      <td>28000.0</td>\n",
       "      <td>375000.0</td>\n",
       "      <td>99150.0</td>\n",
       "      <td>11.000</td>\n",
       "      <td>102.5</td>\n",
       "      <td>47.560001</td>\n",
       "    </tr>\n",
       "  </tbody>\n",
       "</table>\n",
       "</div>"
      ],
      "text/plain": [
       "                          salary_year_avg                     salary_hour_avg  \\\n",
       "                                      min       max    median             min   \n",
       "job_title_short                                                                 \n",
       "Business Analyst                  16500.0  387460.0   85000.0          10.835   \n",
       "Cloud Engineer                    42000.0  280000.0   90000.0          18.500   \n",
       "Data Analyst                      25000.0  650000.0   90000.0           8.000   \n",
       "Data Engineer                     15000.0  525000.0  125000.0           8.000   \n",
       "Data Scientist                    27000.0  960000.0  127500.0           8.000   \n",
       "Machine Learning Engineer         30000.0  325000.0  106415.0          10.000   \n",
       "Senior Data Analyst               30000.0  425000.0  111175.0          13.000   \n",
       "Senior Data Engineer              35000.0  425000.0  147500.0          12.500   \n",
       "Senior Data Scientist             45000.0  890000.0  155500.0          17.500   \n",
       "Software Engineer                 28000.0  375000.0   99150.0          11.000   \n",
       "\n",
       "                                             \n",
       "                             max     median  \n",
       "job_title_short                              \n",
       "Business Analyst           132.5  40.362499  \n",
       "Cloud Engineer              91.0  40.000000  \n",
       "Data Analyst               391.0  32.615002  \n",
       "Data Engineer              184.5  58.500000  \n",
       "Data Scientist             237.5  47.500000  \n",
       "Machine Learning Engineer   87.5  47.535000  \n",
       "Senior Data Analyst        130.0  47.500000  \n",
       "Senior Data Engineer       170.0  61.500000  \n",
       "Senior Data Scientist      150.0  47.620003  \n",
       "Software Engineer          102.5  47.560001  "
      ]
     },
     "execution_count": 40,
     "metadata": {},
     "output_type": "execute_result"
    }
   ],
   "source": [
    "# what if I want to do multiple aggregations\n",
    "# use the agg method\n",
    "\n",
    "df.groupby(\"job_title_short\")[[\"salary_year_avg\", \"salary_hour_avg\"]].agg([\"min\", \"max\", \"median\"])"
   ]
  },
  {
   "cell_type": "markdown",
   "metadata": {},
   "source": [
    "# 26 Problem"
   ]
  },
  {
   "cell_type": "markdown",
   "metadata": {},
   "source": [
    "## 1.26.1"
   ]
  },
  {
   "cell_type": "markdown",
   "metadata": {},
   "source": [
    "Calculate the mean of the salary_year_avg column and display the result."
   ]
  },
  {
   "cell_type": "code",
   "execution_count": 45,
   "metadata": {},
   "outputs": [
    {
     "data": {
      "text/plain": [
       "np.float64(123286.27407182401)"
      ]
     },
     "execution_count": 45,
     "metadata": {},
     "output_type": "execute_result"
    }
   ],
   "source": [
    "mean_salary = df[\"salary_year_avg\"].mean()\n",
    "mean_salary"
   ]
  },
  {
   "cell_type": "markdown",
   "metadata": {},
   "source": [
    "## 1.26.2"
   ]
  },
  {
   "cell_type": "markdown",
   "metadata": {},
   "source": [
    "Calculate the median of the salary_year_avg column and display the result."
   ]
  },
  {
   "cell_type": "code",
   "execution_count": 46,
   "metadata": {},
   "outputs": [
    {
     "data": {
      "text/plain": [
       "np.float64(115000.0)"
      ]
     },
     "execution_count": 46,
     "metadata": {},
     "output_type": "execute_result"
    }
   ],
   "source": [
    "median_salary = df[\"salary_year_avg\"].median()\n",
    "median_salary"
   ]
  },
  {
   "cell_type": "markdown",
   "metadata": {},
   "source": [
    "## 1.26.3"
   ]
  },
  {
   "cell_type": "markdown",
   "metadata": {},
   "source": [
    "Group the DataFrame by job_title_short and calculate the average salary_hour_avg for each job title. Display the result."
   ]
  },
  {
   "cell_type": "code",
   "execution_count": 48,
   "metadata": {},
   "outputs": [
    {
     "data": {
      "text/plain": [
       "job_title_short\n",
       "Business Analyst             42.723415\n",
       "Cloud Engineer               45.560715\n",
       "Data Analyst                 38.106918\n",
       "Data Engineer                57.196998\n",
       "Data Scientist               49.361403\n",
       "Machine Learning Engineer    48.477935\n",
       "Senior Data Analyst          47.661218\n",
       "Senior Data Engineer         62.848496\n",
       "Senior Data Scientist        54.105631\n",
       "Software Engineer            46.452019\n",
       "Name: salary_hour_avg, dtype: float64"
      ]
     },
     "execution_count": 48,
     "metadata": {},
     "output_type": "execute_result"
    }
   ],
   "source": [
    "avg_hourly_by_job = df.groupby(\"job_title_short\")[\"salary_hour_avg\"].mean()\n",
    "avg_hourly_by_job"
   ]
  },
  {
   "cell_type": "markdown",
   "metadata": {},
   "source": [
    "## 1.26.4"
   ]
  },
  {
   "cell_type": "markdown",
   "metadata": {},
   "source": [
    "Find the job title with the lowest average hourly salary and display the job title and the salary."
   ]
  },
  {
   "cell_type": "code",
   "execution_count": 50,
   "metadata": {},
   "outputs": [
    {
     "data": {
      "text/plain": [
       "job_title_short    Data Scientist\n",
       "salary_hour_avg               8.0\n",
       "Name: 88185, dtype: object"
      ]
     },
     "execution_count": 50,
     "metadata": {},
     "output_type": "execute_result"
    }
   ],
   "source": [
    "min_salary = df[\"salary_hour_avg\"].idxmin()\n",
    "\n",
    "lowest_hourly = df.iloc[min_salary][[\"job_title_short\", \"salary_hour_avg\"]]\n",
    "\n",
    "lowest_hourly"
   ]
  },
  {
   "cell_type": "markdown",
   "metadata": {},
   "source": [
    "## 1.26.5"
   ]
  },
  {
   "cell_type": "markdown",
   "metadata": {},
   "source": [
    "Group the DataFrame by job_country and calculate the total number of job postings for each country. Display the result."
   ]
  },
  {
   "cell_type": "code",
   "execution_count": 51,
   "metadata": {},
   "outputs": [
    {
     "data": {
      "text/plain": [
       "job_country\n",
       "Afghanistan      16\n",
       "Albania         119\n",
       "Algeria         111\n",
       "Angola           11\n",
       "Argentina      8736\n",
       "               ... \n",
       "Venezuela        69\n",
       "Vietnam        2414\n",
       "Yemen            10\n",
       "Zambia          104\n",
       "Zimbabwe         81\n",
       "Length: 160, dtype: int64"
      ]
     },
     "execution_count": 51,
     "metadata": {},
     "output_type": "execute_result"
    }
   ],
   "source": [
    "job_by_country = df.groupby(\"job_country\").size()\n",
    "\n",
    "job_by_country"
   ]
  }
 ],
 "metadata": {
  "kernelspec": {
   "display_name": "Python 3",
   "language": "python",
   "name": "python3"
  },
  "language_info": {
   "codemirror_mode": {
    "name": "ipython",
    "version": 3
   },
   "file_extension": ".py",
   "mimetype": "text/x-python",
   "name": "python",
   "nbconvert_exporter": "python",
   "pygments_lexer": "ipython3",
   "version": "3.11.9"
  }
 },
 "nbformat": 4,
 "nbformat_minor": 2
}
