{
  "cells": [
    {
      "cell_type": "markdown",
      "metadata": {
        "id": "6-UBvWdq88Zh"
      },
      "source": [
        "# 2.1 Python Terms"
      ]
    },
    {
      "cell_type": "markdown",
      "metadata": {
        "id": "scFExe2l_M2e"
      },
      "source": [
        "## Objects: the data records"
      ]
    },
    {
      "cell_type": "markdown",
      "metadata": {
        "id": "oTakYDk0AJRw"
      },
      "source": [
        "Object: a data record with fields; an instance of a class.\n",
        "\n",
        "Pretty much everything in python is an object!\n",
        "\n",
        "- 100000 would be an object"
      ]
    },
    {
      "cell_type": "code",
      "execution_count": null,
      "metadata": {
        "id": "Uo7B1Kkd81Uu"
      },
      "outputs": [],
      "source": [
        "100000"
      ]
    },
    {
      "cell_type": "markdown",
      "metadata": {
        "id": "fnShD8Xz_SLe"
      },
      "source": [
        "- A salary variable would also be an object"
      ]
    },
    {
      "cell_type": "code",
      "execution_count": null,
      "metadata": {
        "colab": {
          "base_uri": "https://localhost:8080/"
        },
        "id": "5cZn8b-h_brX",
        "outputId": "88b3e5a8-ff16-4070-ba2e-daa8d700b9b7"
      },
      "outputs": [
        {
          "data": {
            "text/plain": [
              "10000"
            ]
          },
          "execution_count": 13,
          "metadata": {},
          "output_type": "execute_result"
        }
      ],
      "source": [
        "salary = 10000\n",
        "salary"
      ]
    },
    {
      "cell_type": "markdown",
      "metadata": {
        "id": "MHRoaBn8_jyi"
      },
      "source": [
        "- displaying the object through a function"
      ]
    },
    {
      "cell_type": "code",
      "execution_count": null,
      "metadata": {
        "colab": {
          "base_uri": "https://localhost:8080/"
        },
        "id": "5pp93ksJ_cq2",
        "outputId": "d8526e7e-0df3-45ad-b8cc-b8b92102c00c"
      },
      "outputs": [
        {
          "name": "stdout",
          "output_type": "stream",
          "text": [
            "10000\n"
          ]
        }
      ],
      "source": [
        "print(salary)"
      ]
    },
    {
      "cell_type": "markdown",
      "metadata": {
        "id": "nEjD5CBy_unL"
      },
      "source": [
        "- the function (print() in this case is also an object"
      ]
    },
    {
      "cell_type": "code",
      "execution_count": null,
      "metadata": {
        "colab": {
          "base_uri": "https://localhost:8080/"
        },
        "id": "zPUeFcLJ_ppZ",
        "outputId": "e0aa3804-9814-4921-b7bd-6f631dc7e927"
      },
      "outputs": [
        {
          "data": {
            "text/plain": [
              "<function print>"
            ]
          },
          "execution_count": 15,
          "metadata": {},
          "output_type": "execute_result"
        }
      ],
      "source": [
        "print"
      ]
    },
    {
      "cell_type": "markdown",
      "metadata": {
        "id": "UfogHogL_4Wo"
      },
      "source": [
        "I can use the type function to find what the object type of something"
      ]
    },
    {
      "cell_type": "code",
      "execution_count": null,
      "metadata": {
        "colab": {
          "base_uri": "https://localhost:8080/"
        },
        "id": "RLL_SDz9_1Yk",
        "outputId": "3473f369-443d-4cfc-a4d8-60710908c7ff"
      },
      "outputs": [
        {
          "data": {
            "text/plain": [
              "int"
            ]
          },
          "execution_count": 16,
          "metadata": {},
          "output_type": "execute_result"
        }
      ],
      "source": [
        "type(100000)"
      ]
    },
    {
      "cell_type": "code",
      "execution_count": null,
      "metadata": {
        "colab": {
          "base_uri": "https://localhost:8080/"
        },
        "id": "dnoTTYIIABHx",
        "outputId": "9c4b1e18-f92d-453f-81d0-f862fda60927"
      },
      "outputs": [
        {
          "data": {
            "text/plain": [
              "str"
            ]
          },
          "execution_count": 17,
          "metadata": {},
          "output_type": "execute_result"
        }
      ],
      "source": [
        "type(\"Data Analyst\")"
      ]
    },
    {
      "cell_type": "markdown",
      "metadata": {
        "id": "2b1Jjne4AaQW"
      },
      "source": [
        "## Variables: The reference to Objects"
      ]
    },
    {
      "cell_type": "markdown",
      "metadata": {
        "id": "Wu3E4SYoAdDI"
      },
      "source": [
        "**Variable**: a defined name that references an object\n",
        "\n",
        "We define it with a name, an equal sign and an object. The variable itself points to an object."
      ]
    },
    {
      "cell_type": "code",
      "execution_count": null,
      "metadata": {
        "id": "CuU-hQD8Acid"
      },
      "outputs": [],
      "source": [
        "job_title = \"Data Analyst\"\n",
        "job_location = \"United States\"\n",
        "job_salary = 90000"
      ]
    },
    {
      "cell_type": "markdown",
      "metadata": {
        "id": "Cf6UxPqxBTJ2"
      },
      "source": [
        "I can use the id() function to identify the unique key of each variable."
      ]
    },
    {
      "cell_type": "code",
      "execution_count": null,
      "metadata": {
        "colab": {
          "base_uri": "https://localhost:8080/"
        },
        "id": "kJt45hztBLeu",
        "outputId": "6a3b7be7-d389-4bee-c24e-d7ac3526efdc"
      },
      "outputs": [
        {
          "data": {
            "text/plain": [
              "139528789571952"
            ]
          },
          "execution_count": 19,
          "metadata": {},
          "output_type": "execute_result"
        }
      ],
      "source": [
        "id(job_title)"
      ]
    },
    {
      "cell_type": "markdown",
      "metadata": {
        "id": "ifzq5Iy1BY3z"
      },
      "source": [
        "Even if I define to variable as the same, they won't have the same id unless I precise that some variables are equal.\n",
        "\n",
        "In the example below, job_1 and job_3 will have the same id. job_2 will have a different one"
      ]
    },
    {
      "cell_type": "code",
      "execution_count": null,
      "metadata": {
        "colab": {
          "base_uri": "https://localhost:8080/"
        },
        "id": "4eQZ2mG9BR6N",
        "outputId": "aaf7303f-a66a-4d40-89a4-e00373fc4671"
      },
      "outputs": [
        {
          "data": {
            "text/plain": [
              "(139528789573168, 139528789564400, 139528789573168)"
            ]
          },
          "execution_count": 22,
          "metadata": {},
          "output_type": "execute_result"
        }
      ],
      "source": [
        "job_1 = \"Data Analyst\"\n",
        "job_2 = \"Data Analyst\"\n",
        "job_3 = job_1\n",
        "id(job_1), id(job_2), id(job_3)"
      ]
    },
    {
      "cell_type": "markdown",
      "metadata": {
        "id": "jciKqmMcCMQm"
      },
      "source": [
        "## Functions: The manipulators of Objects"
      ]
    },
    {
      "cell_type": "markdown",
      "metadata": {
        "id": "1fympIQzCTnn"
      },
      "source": [
        "**Function**: a reusable piece of code that performs a specific task\n",
        "\n",
        "MAnipulators of different objects. parenthese are needed to run a function."
      ]
    },
    {
      "cell_type": "code",
      "execution_count": null,
      "metadata": {
        "colab": {
          "base_uri": "https://localhost:8080/"
        },
        "id": "mQn9c9fLCTKV",
        "outputId": "bcd5bdd2-1827-4e19-94e9-7e24600a77e0"
      },
      "outputs": [
        {
          "data": {
            "text/plain": [
              "<function print>"
            ]
          },
          "execution_count": 23,
          "metadata": {},
          "output_type": "execute_result"
        }
      ],
      "source": [
        "print"
      ]
    },
    {
      "cell_type": "code",
      "execution_count": null,
      "metadata": {
        "colab": {
          "base_uri": "https://localhost:8080/"
        },
        "id": "0i18X89mCebM",
        "outputId": "4de8bb6c-4c5b-4d27-d381-ab7a0745e97a"
      },
      "outputs": [
        {
          "name": "stdout",
          "output_type": "stream",
          "text": [
            "Data Analyst\n"
          ]
        }
      ],
      "source": [
        "print(job_1)"
      ]
    },
    {
      "cell_type": "markdown",
      "metadata": {
        "id": "IU3Q60HzCoeW"
      },
      "source": [
        "When calling upon a function quite often, we can define a function.\n",
        "\n",
        "It starts with def, then we provide the name of the function, parenthese and then a colon. Everything indented under the colon is returned everytime we run the function."
      ]
    },
    {
      "cell_type": "code",
      "execution_count": null,
      "metadata": {
        "id": "ah7Ff1cWCfZi"
      },
      "outputs": [],
      "source": [
        "def greet():\n",
        "    return \"What's up, Data Nerds!\""
      ]
    },
    {
      "cell_type": "code",
      "execution_count": null,
      "metadata": {
        "colab": {
          "base_uri": "https://localhost:8080/",
          "height": 36
        },
        "id": "_xyfnqNQDKzY",
        "outputId": "7c75793a-eabe-49a3-b225-ea8d10df0894"
      },
      "outputs": [
        {
          "data": {
            "application/vnd.google.colaboratory.intrinsic+json": {
              "type": "string"
            },
            "text/plain": [
              "\"What's up, Data Nerds!\""
            ]
          },
          "execution_count": 27,
          "metadata": {},
          "output_type": "execute_result"
        }
      ],
      "source": [
        "greet()"
      ]
    },
    {
      "cell_type": "markdown",
      "metadata": {
        "id": "WFeJ-iuSDTau"
      },
      "source": [
        "Can go a bit crazy with what we define as function for things we need often!\n",
        "\n",
        "e.g."
      ]
    },
    {
      "cell_type": "code",
      "execution_count": null,
      "metadata": {
        "colab": {
          "base_uri": "https://localhost:8080/"
        },
        "id": "2fJkEv0fDLjV",
        "outputId": "80235eae-382b-4f4d-8adc-c016ddac73f0"
      },
      "outputs": [
        {
          "name": "stdout",
          "output_type": "stream",
          "text": [
            "JOB:        Data Analyst\n",
            "Location:   United States\n",
            "Salary:     $90,000\n"
          ]
        }
      ],
      "source": [
        "print(f\"JOB:        {job_title}\\nLocation:   {job_location}\\nSalary:     ${job_salary:,.0f}\")"
      ]
    },
    {
      "cell_type": "markdown",
      "metadata": {
        "id": "gPdw-yVTEl-t"
      },
      "source": [
        "And then we can define it as a function where we define the variables needed to call upon it and output a result, without having to use a complex line of code over and over again,"
      ]
    },
    {
      "cell_type": "code",
      "execution_count": null,
      "metadata": {
        "id": "MyKSsN3ODsiR"
      },
      "outputs": [],
      "source": [
        "def display_info(title, location, salary):\n",
        "    return print(f\"JOB:        {job_title}\\nLocation:   {job_location}\\nSalary:     ${job_salary:,.0f}\")"
      ]
    },
    {
      "cell_type": "code",
      "execution_count": null,
      "metadata": {
        "colab": {
          "base_uri": "https://localhost:8080/"
        },
        "id": "f2VFsrt-E1a1",
        "outputId": "dfbb0524-1cff-4c44-9af9-aae38773daec"
      },
      "outputs": [
        {
          "name": "stdout",
          "output_type": "stream",
          "text": [
            "JOB:        Data Analyst\n",
            "Location:   United States\n",
            "Salary:     $90,000\n"
          ]
        }
      ],
      "source": [
        "display_info(job_title, job_location, job_salary)"
      ]
    },
    {
      "cell_type": "markdown",
      "metadata": {
        "id": "pAA7pHVZFDYg"
      },
      "source": [
        "## Classes: The template of Objects"
      ]
    },
    {
      "cell_type": "markdown",
      "metadata": {
        "id": "lU1i14BCFGA3"
      },
      "source": [
        "**Class**: a template for creating objects (records)\n",
        "\n"
      ]
    },
    {
      "cell_type": "code",
      "execution_count": null,
      "metadata": {
        "colab": {
          "base_uri": "https://localhost:8080/"
        },
        "id": "-ZM3rQtoE6EJ",
        "outputId": "99b0c6cc-689b-4715-d249-1bb84c131fd9"
      },
      "outputs": [
        {
          "data": {
            "text/plain": [
              "int"
            ]
          },
          "execution_count": 40,
          "metadata": {},
          "output_type": "execute_result"
        }
      ],
      "source": [
        "type(900)"
      ]
    },
    {
      "cell_type": "markdown",
      "metadata": {
        "id": "SkOp8Az2FgTV"
      },
      "source": [
        "900 is an instance of int class. For more details on anything, we can use the help function."
      ]
    },
    {
      "cell_type": "code",
      "execution_count": null,
      "metadata": {
        "colab": {
          "base_uri": "https://localhost:8080/"
        },
        "id": "5WIKeCagFVEO",
        "outputId": "5bae3aef-ce0b-4c97-c995-078d354d3799"
      },
      "outputs": [
        {
          "name": "stdout",
          "output_type": "stream",
          "text": [
            "Help on class int in module builtins:\n",
            "\n",
            "class int(object)\n",
            " |  int([x]) -> integer\n",
            " |  int(x, base=10) -> integer\n",
            " |  \n",
            " |  Convert a number or string to an integer, or return 0 if no arguments\n",
            " |  are given.  If x is a number, return x.__int__().  For floating point\n",
            " |  numbers, this truncates towards zero.\n",
            " |  \n",
            " |  If x is not a number or if base is given, then x must be a string,\n",
            " |  bytes, or bytearray instance representing an integer literal in the\n",
            " |  given base.  The literal can be preceded by '+' or '-' and be surrounded\n",
            " |  by whitespace.  The base defaults to 10.  Valid bases are 0 and 2-36.\n",
            " |  Base 0 means to interpret the base from the string as an integer literal.\n",
            " |  >>> int('0b100', base=0)\n",
            " |  4\n",
            " |  \n",
            " |  Built-in subclasses:\n",
            " |      bool\n",
            " |  \n",
            " |  Methods defined here:\n",
            " |  \n",
            " |  __abs__(self, /)\n",
            " |      abs(self)\n",
            " |  \n",
            " |  __add__(self, value, /)\n",
            " |      Return self+value.\n",
            " |  \n",
            " |  __and__(self, value, /)\n",
            " |      Return self&value.\n",
            " |  \n",
            " |  __bool__(self, /)\n",
            " |      True if self else False\n",
            " |  \n",
            " |  __ceil__(...)\n",
            " |      Ceiling of an Integral returns itself.\n",
            " |  \n",
            " |  __divmod__(self, value, /)\n",
            " |      Return divmod(self, value).\n",
            " |  \n",
            " |  __eq__(self, value, /)\n",
            " |      Return self==value.\n",
            " |  \n",
            " |  __float__(self, /)\n",
            " |      float(self)\n",
            " |  \n",
            " |  __floor__(...)\n",
            " |      Flooring an Integral returns itself.\n",
            " |  \n",
            " |  __floordiv__(self, value, /)\n",
            " |      Return self//value.\n",
            " |  \n",
            " |  __format__(self, format_spec, /)\n",
            " |      Default object formatter.\n",
            " |  \n",
            " |  __ge__(self, value, /)\n",
            " |      Return self>=value.\n",
            " |  \n",
            " |  __getattribute__(self, name, /)\n",
            " |      Return getattr(self, name).\n",
            " |  \n",
            " |  __getnewargs__(self, /)\n",
            " |  \n",
            " |  __gt__(self, value, /)\n",
            " |      Return self>value.\n",
            " |  \n",
            " |  __hash__(self, /)\n",
            " |      Return hash(self).\n",
            " |  \n",
            " |  __index__(self, /)\n",
            " |      Return self converted to an integer, if self is suitable for use as an index into a list.\n",
            " |  \n",
            " |  __int__(self, /)\n",
            " |      int(self)\n",
            " |  \n",
            " |  __invert__(self, /)\n",
            " |      ~self\n",
            " |  \n",
            " |  __le__(self, value, /)\n",
            " |      Return self<=value.\n",
            " |  \n",
            " |  __lshift__(self, value, /)\n",
            " |      Return self<<value.\n",
            " |  \n",
            " |  __lt__(self, value, /)\n",
            " |      Return self<value.\n",
            " |  \n",
            " |  __mod__(self, value, /)\n",
            " |      Return self%value.\n",
            " |  \n",
            " |  __mul__(self, value, /)\n",
            " |      Return self*value.\n",
            " |  \n",
            " |  __ne__(self, value, /)\n",
            " |      Return self!=value.\n",
            " |  \n",
            " |  __neg__(self, /)\n",
            " |      -self\n",
            " |  \n",
            " |  __or__(self, value, /)\n",
            " |      Return self|value.\n",
            " |  \n",
            " |  __pos__(self, /)\n",
            " |      +self\n",
            " |  \n",
            " |  __pow__(self, value, mod=None, /)\n",
            " |      Return pow(self, value, mod).\n",
            " |  \n",
            " |  __radd__(self, value, /)\n",
            " |      Return value+self.\n",
            " |  \n",
            " |  __rand__(self, value, /)\n",
            " |      Return value&self.\n",
            " |  \n",
            " |  __rdivmod__(self, value, /)\n",
            " |      Return divmod(value, self).\n",
            " |  \n",
            " |  __repr__(self, /)\n",
            " |      Return repr(self).\n",
            " |  \n",
            " |  __rfloordiv__(self, value, /)\n",
            " |      Return value//self.\n",
            " |  \n",
            " |  __rlshift__(self, value, /)\n",
            " |      Return value<<self.\n",
            " |  \n",
            " |  __rmod__(self, value, /)\n",
            " |      Return value%self.\n",
            " |  \n",
            " |  __rmul__(self, value, /)\n",
            " |      Return value*self.\n",
            " |  \n",
            " |  __ror__(self, value, /)\n",
            " |      Return value|self.\n",
            " |  \n",
            " |  __round__(...)\n",
            " |      Rounding an Integral returns itself.\n",
            " |      \n",
            " |      Rounding with an ndigits argument also returns an integer.\n",
            " |  \n",
            " |  __rpow__(self, value, mod=None, /)\n",
            " |      Return pow(value, self, mod).\n",
            " |  \n",
            " |  __rrshift__(self, value, /)\n",
            " |      Return value>>self.\n",
            " |  \n",
            " |  __rshift__(self, value, /)\n",
            " |      Return self>>value.\n",
            " |  \n",
            " |  __rsub__(self, value, /)\n",
            " |      Return value-self.\n",
            " |  \n",
            " |  __rtruediv__(self, value, /)\n",
            " |      Return value/self.\n",
            " |  \n",
            " |  __rxor__(self, value, /)\n",
            " |      Return value^self.\n",
            " |  \n",
            " |  __sizeof__(self, /)\n",
            " |      Returns size in memory, in bytes.\n",
            " |  \n",
            " |  __sub__(self, value, /)\n",
            " |      Return self-value.\n",
            " |  \n",
            " |  __truediv__(self, value, /)\n",
            " |      Return self/value.\n",
            " |  \n",
            " |  __trunc__(...)\n",
            " |      Truncating an Integral returns itself.\n",
            " |  \n",
            " |  __xor__(self, value, /)\n",
            " |      Return self^value.\n",
            " |  \n",
            " |  as_integer_ratio(self, /)\n",
            " |      Return integer ratio.\n",
            " |      \n",
            " |      Return a pair of integers, whose ratio is exactly equal to the original int\n",
            " |      and with a positive denominator.\n",
            " |      \n",
            " |      >>> (10).as_integer_ratio()\n",
            " |      (10, 1)\n",
            " |      >>> (-10).as_integer_ratio()\n",
            " |      (-10, 1)\n",
            " |      >>> (0).as_integer_ratio()\n",
            " |      (0, 1)\n",
            " |  \n",
            " |  bit_count(self, /)\n",
            " |      Number of ones in the binary representation of the absolute value of self.\n",
            " |      \n",
            " |      Also known as the population count.\n",
            " |      \n",
            " |      >>> bin(13)\n",
            " |      '0b1101'\n",
            " |      >>> (13).bit_count()\n",
            " |      3\n",
            " |  \n",
            " |  bit_length(self, /)\n",
            " |      Number of bits necessary to represent self in binary.\n",
            " |      \n",
            " |      >>> bin(37)\n",
            " |      '0b100101'\n",
            " |      >>> (37).bit_length()\n",
            " |      6\n",
            " |  \n",
            " |  conjugate(...)\n",
            " |      Returns self, the complex conjugate of any int.\n",
            " |  \n",
            " |  to_bytes(self, /, length, byteorder, *, signed=False)\n",
            " |      Return an array of bytes representing an integer.\n",
            " |      \n",
            " |      length\n",
            " |        Length of bytes object to use.  An OverflowError is raised if the\n",
            " |        integer is not representable with the given number of bytes.\n",
            " |      byteorder\n",
            " |        The byte order used to represent the integer.  If byteorder is 'big',\n",
            " |        the most significant byte is at the beginning of the byte array.  If\n",
            " |        byteorder is 'little', the most significant byte is at the end of the\n",
            " |        byte array.  To request the native byte order of the host system, use\n",
            " |        `sys.byteorder' as the byte order value.\n",
            " |      signed\n",
            " |        Determines whether two's complement is used to represent the integer.\n",
            " |        If signed is False and a negative integer is given, an OverflowError\n",
            " |        is raised.\n",
            " |  \n",
            " |  ----------------------------------------------------------------------\n",
            " |  Class methods defined here:\n",
            " |  \n",
            " |  from_bytes(bytes, byteorder, *, signed=False) from builtins.type\n",
            " |      Return the integer represented by the given array of bytes.\n",
            " |      \n",
            " |      bytes\n",
            " |        Holds the array of bytes to convert.  The argument must either\n",
            " |        support the buffer protocol or be an iterable object producing bytes.\n",
            " |        Bytes and bytearray are examples of built-in objects that support the\n",
            " |        buffer protocol.\n",
            " |      byteorder\n",
            " |        The byte order used to represent the integer.  If byteorder is 'big',\n",
            " |        the most significant byte is at the beginning of the byte array.  If\n",
            " |        byteorder is 'little', the most significant byte is at the end of the\n",
            " |        byte array.  To request the native byte order of the host system, use\n",
            " |        `sys.byteorder' as the byte order value.\n",
            " |      signed\n",
            " |        Indicates whether two's complement is used to represent the integer.\n",
            " |  \n",
            " |  ----------------------------------------------------------------------\n",
            " |  Static methods defined here:\n",
            " |  \n",
            " |  __new__(*args, **kwargs) from builtins.type\n",
            " |      Create and return a new object.  See help(type) for accurate signature.\n",
            " |  \n",
            " |  ----------------------------------------------------------------------\n",
            " |  Data descriptors defined here:\n",
            " |  \n",
            " |  denominator\n",
            " |      the denominator of a rational number in lowest terms\n",
            " |  \n",
            " |  imag\n",
            " |      the imaginary part of a complex number\n",
            " |  \n",
            " |  numerator\n",
            " |      the numerator of a rational number in lowest terms\n",
            " |  \n",
            " |  real\n",
            " |      the real part of a complex number\n",
            "\n"
          ]
        }
      ],
      "source": [
        "help(int)"
      ]
    },
    {
      "cell_type": "code",
      "execution_count": null,
      "metadata": {
        "id": "XmIggFRaGk1j"
      },
      "outputs": [],
      "source": [
        "job_title = \"Data Analyst\"\n",
        "job_location = \"United States\"\n",
        "job_salary = 90000"
      ]
    },
    {
      "cell_type": "code",
      "execution_count": null,
      "metadata": {
        "id": "UlMsZUGIGqLb"
      },
      "outputs": [],
      "source": [
        "class JobPost:\n",
        "    def __init__(self, title, location, salary):\n",
        "        self.title = title\n",
        "        self.location = location\n",
        "        self.salary = salary"
      ]
    },
    {
      "cell_type": "code",
      "execution_count": null,
      "metadata": {
        "colab": {
          "base_uri": "https://localhost:8080/"
        },
        "id": "HLsWESu1GwLs",
        "outputId": "9cc0e092-0a8c-4691-a44e-8666276d5a9f"
      },
      "outputs": [
        {
          "data": {
            "text/plain": [
              "<__main__.JobPost at 0x7ee6a811a1a0>"
            ]
          },
          "execution_count": 44,
          "metadata": {},
          "output_type": "execute_result"
        }
      ],
      "source": [
        "JobPost(job_title, job_location, job_salary)"
      ]
    },
    {
      "cell_type": "markdown",
      "metadata": {
        "id": "RpEoIe1rGGCC"
      },
      "source": [
        "## Attributes: The variables of an Object\n",
        "\n",
        "**Attribute**: a field in a record, defined by its class.\n",
        "\n",
        "Go back to the code above where we defined the JobPost class, we have also defined the attributes of:\n",
        "- title\n",
        "- location\n",
        "- salary"
      ]
    },
    {
      "cell_type": "markdown",
      "metadata": {
        "id": "EhXu4xPaHQJM"
      },
      "source": [
        "We create a job_1 variable and assigning it to the object we just created and we can then call on the attributes of said object.\n",
        "\n",
        "We write the variable and then add a **.** to see the attributes."
      ]
    },
    {
      "cell_type": "code",
      "execution_count": null,
      "metadata": {
        "id": "uN_L7iyMFmjG"
      },
      "outputs": [],
      "source": [
        "job_1 = JobPost(job_title, job_location, job_salary)"
      ]
    },
    {
      "cell_type": "markdown",
      "metadata": {
        "id": "B7pYe1aRHPhQ"
      },
      "source": []
    },
    {
      "cell_type": "code",
      "execution_count": null,
      "metadata": {
        "colab": {
          "base_uri": "https://localhost:8080/",
          "height": 36
        },
        "id": "ZqhdiEWHHKus",
        "outputId": "e5ee85ac-7910-4a88-b8b8-b772021fa5ea"
      },
      "outputs": [
        {
          "data": {
            "application/vnd.google.colaboratory.intrinsic+json": {
              "type": "string"
            },
            "text/plain": [
              "'United States'"
            ]
          },
          "execution_count": 46,
          "metadata": {},
          "output_type": "execute_result"
        }
      ],
      "source": [
        "job_1.location"
      ]
    },
    {
      "cell_type": "markdown",
      "metadata": {
        "id": "o6FANzXTHiQD"
      },
      "source": [
        "## Methods: the functions of an object"
      ]
    },
    {
      "cell_type": "markdown",
      "metadata": {
        "id": "ZpK9tNPvHlIO"
      },
      "source": [
        "**Method**: a function defined inside a class that operates on its object.\n",
        "\n",
        "For example, we can use a function we defined earlier (the one that defines how we want our values displayed in the output) and add it within our previously created class of JobPost."
      ]
    },
    {
      "cell_type": "code",
      "execution_count": null,
      "metadata": {
        "id": "ifJ8hkJoHkrM"
      },
      "outputs": [],
      "source": [
        "class JobPost:\n",
        "    def __init__(self, title, location, salary):\n",
        "        self.title = title\n",
        "        self.location = location\n",
        "        self.salary = salary\n",
        "    def display_info(self): # Add 'self' as the first argument\n",
        "        # Access the instance attributes using 'self'\n",
        "        return print(f\"JOB:        {self.title}\\nLocation:   {self.location}\\nSalary:     ${self.salary:,.0f}\")"
      ]
    },
    {
      "cell_type": "markdown",
      "metadata": {
        "id": "18GSvMJYI3F4"
      },
      "source": [
        "We now have display_info for out jobpost class after we create a job_1 variable."
      ]
    },
    {
      "cell_type": "code",
      "execution_count": null,
      "metadata": {
        "id": "lHRRMo7NI8Pc"
      },
      "outputs": [],
      "source": [
        "job_1 = JobPost(job_title, job_location, job_salary)"
      ]
    },
    {
      "cell_type": "code",
      "execution_count": null,
      "metadata": {
        "colab": {
          "base_uri": "https://localhost:8080/"
        },
        "id": "mBNj9yGTI_iQ",
        "outputId": "aa6561c6-f712-4ff7-faa0-28847ad19c29"
      },
      "outputs": [
        {
          "name": "stdout",
          "output_type": "stream",
          "text": [
            "JOB:        Data Analyst\n",
            "Location:   United States\n",
            "Salary:     $90,000\n"
          ]
        }
      ],
      "source": [
        "job_1.display_info()"
      ]
    },
    {
      "cell_type": "markdown",
      "metadata": {
        "id": "-KlH5gCPJ3xd"
      },
      "source": [
        "Can also use a method as such, depending on the different data types. Different methods apply to different data types. To know which ones are applicable, use the help() function:"
      ]
    },
    {
      "cell_type": "code",
      "execution_count": null,
      "metadata": {
        "id": "epAZqZA_KAzA"
      },
      "outputs": [],
      "source": [
        "salary = 90000"
      ]
    },
    {
      "cell_type": "code",
      "execution_count": null,
      "metadata": {
        "colab": {
          "base_uri": "https://localhost:8080/"
        },
        "id": "NeGJuPf4KDRj",
        "outputId": "22384c77-7953-474c-a049-1ad7dbeef8a8"
      },
      "outputs": [
        {
          "data": {
            "text/plain": [
              "90001"
            ]
          },
          "execution_count": 58,
          "metadata": {},
          "output_type": "execute_result"
        }
      ],
      "source": [
        "salary.__add__(1)"
      ]
    }
  ],
  "metadata": {
    "colab": {
      "collapsed_sections": [
        "1-DXBCUYrhYS",
        "YS0lrvzxsTSx",
        "wS4nASEWtsOv",
        "x58xxG5LumDE",
        "8X9ooweCv3-c",
        "USVl3Ds_xhQ7"
      ],
      "provenance": []
    },
    "kernelspec": {
      "display_name": "Python 3",
      "name": "python3"
    },
    "language_info": {
      "codemirror_mode": {
        "name": "ipython",
        "version": 3
      },
      "file_extension": ".py",
      "mimetype": "text/x-python",
      "name": "python",
      "nbconvert_exporter": "python",
      "pygments_lexer": "ipython3",
      "version": "3.11.9"
    }
  },
  "nbformat": 4,
  "nbformat_minor": 0
}
