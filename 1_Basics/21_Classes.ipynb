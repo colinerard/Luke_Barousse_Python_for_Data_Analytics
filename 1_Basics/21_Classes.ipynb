{
 "cells": [
  {
   "cell_type": "markdown",
   "metadata": {},
   "source": [
    "# 21 Classes"
   ]
  },
  {
   "cell_type": "markdown",
   "metadata": {},
   "source": [
    "**Notes**\n",
    "\n",
    "Python is an object oriented programming language.\n",
    "\n",
    "Almost everything is an object, with properties and methods.\n",
    "\n",
    "A class is like an object constructor.\n",
    "\n",
    "In our course we'll briefly go over classes, but it won't be covered in detail.\n",
    "\n",
    "**Importance**\n",
    "\n",
    "Classes are the basis for Object-Oriented Programming in Python. While not directly used in pandas or matplotlib operations, understanding them is vital for extending these libraries or customizing functionalities."
   ]
  },
  {
   "cell_type": "markdown",
   "metadata": {},
   "source": [
    "We'll create a class related to the calculate_base_salary and calculate_bonus module in order to be able to access them directly and apply methods to them."
   ]
  },
  {
   "cell_type": "code",
   "execution_count": 20,
   "metadata": {},
   "outputs": [],
   "source": [
    "# useful shortcut to select a word and update all simultaneously - select a word and do CTRL + SHIFT + L\n"
   ]
  },
  {
   "cell_type": "code",
   "execution_count": 31,
   "metadata": {},
   "outputs": [],
   "source": [
    "class BaseSalary:\n",
    "    def __init__(self, base_salary, bonus_rate=.1, symbol=\"$\"): # __init__ is the standard syntax in python to indicate that this is where we add the original variables we need to run\n",
    "        self.base_salary = base_salary\n",
    "        self.bonus_rate = bonus_rate\n",
    "        self.symbol = symbol\n",
    "        self.total_salary = base_salary * (1 + bonus_rate)\n",
    "        self.bonus = self.total_salary - self.base_salary\n",
    "    \n",
    "    def __repr__(self): # we are defining the formatting that we want to see when we call upon this class\n",
    "        return f'{self.symbol}{self.base_salary:,.0f}'\n",
    "    \n",
    "    def show_salary(self): # a function\n",
    "        return f'{self.symbol}{self.total_salary:,.0f}'\n",
    "\n",
    "    def show_bonus(self):\n",
    "        return f'{self.symbol}{self.bonus:,.0f}'"
   ]
  },
  {
   "cell_type": "code",
   "execution_count": 32,
   "metadata": {},
   "outputs": [
    {
     "data": {
      "text/plain": [
       "$100,000"
      ]
     },
     "execution_count": 32,
     "metadata": {},
     "output_type": "execute_result"
    }
   ],
   "source": [
    "salary = BaseSalary(100000)\n",
    "\n",
    "salary"
   ]
  },
  {
   "cell_type": "code",
   "execution_count": 33,
   "metadata": {},
   "outputs": [
    {
     "data": {
      "text/plain": [
       "'$110,000'"
      ]
     },
     "execution_count": 33,
     "metadata": {},
     "output_type": "execute_result"
    }
   ],
   "source": [
    "salary.show_salary()"
   ]
  },
  {
   "cell_type": "code",
   "execution_count": 34,
   "metadata": {},
   "outputs": [
    {
     "data": {
      "text/plain": [
       "'$10,000'"
      ]
     },
     "execution_count": 34,
     "metadata": {},
     "output_type": "execute_result"
    }
   ],
   "source": [
    "salary.show_bonus()"
   ]
  },
  {
   "cell_type": "code",
   "execution_count": 25,
   "metadata": {},
   "outputs": [
    {
     "data": {
      "text/plain": [
       "'1,000,000'"
      ]
     },
     "execution_count": 25,
     "metadata": {},
     "output_type": "execute_result"
    }
   ],
   "source": [
    "# example on how to customise a number into a formatted text string\n",
    "value = 1000000\n",
    "f'{value:,.0f}' "
   ]
  },
  {
   "cell_type": "markdown",
   "metadata": {},
   "source": [
    "# 21 Problems"
   ]
  },
  {
   "cell_type": "markdown",
   "metadata": {},
   "source": [
    "## 1.21.1"
   ]
  },
  {
   "cell_type": "markdown",
   "metadata": {},
   "source": [
    "- Create a class named JobPosting with attributes title, company, and location.\n",
    "- Create an instance of an object (called job) of this class with the title 'Data Scientist', company 'Tech Innovations', and location 'New York'.\n",
    "- Print the attributes of the object."
   ]
  },
  {
   "cell_type": "code",
   "execution_count": 5,
   "metadata": {},
   "outputs": [
    {
     "name": "stdout",
     "output_type": "stream",
     "text": [
      "Data Scientist\n",
      "Tech Innovations\n",
      "New York\n"
     ]
    }
   ],
   "source": [
    "class JobPosting:\n",
    "    def __init__(self, title, company, location):\n",
    "        self.title = title\n",
    "        self.company = company\n",
    "        self.location = location\n",
    "\n",
    "instance = JobPosting(\"Data Scientist\", \"Tech Innovations\", \"New York\")\n",
    "\n",
    "print(instance.title)\n",
    "print(instance.company)\n",
    "print(instance.location)"
   ]
  },
  {
   "cell_type": "markdown",
   "metadata": {},
   "source": [
    "## 1.21.2"
   ]
  },
  {
   "cell_type": "markdown",
   "metadata": {},
   "source": [
    "- Create a class named JobPosting with a method to_dict that converts the job posting details to a dictionary.\n",
    "- Instantiate an object (called job) of this class with the title 'Data Scientist', company 'Tech Innovations', location 'New York', and salary as 120000.\n",
    "- Convert its details to a dictionary using the to_dict method.\n",
    "- Print the dictionary."
   ]
  },
  {
   "cell_type": "code",
   "execution_count": 12,
   "metadata": {},
   "outputs": [
    {
     "name": "stdout",
     "output_type": "stream",
     "text": [
      "{'Title': 'Data Scientist', 'Company': 'Tech Innovations', 'Location': 'New York', 'Salary': 120000}\n"
     ]
    }
   ],
   "source": [
    "class JobPosting:\n",
    "    def __init__(self, title, company, location, salary):\n",
    "        self.title = title\n",
    "        self.company = company\n",
    "        self.location = location\n",
    "        self.salary = salary\n",
    "\n",
    "    def to_dict(self):\n",
    "        return {\n",
    "            \"Title\": self.title,\n",
    "            \"Company\": self.company,\n",
    "            \"Location\": self.location,\n",
    "            \"Salary\": self.salary\n",
    "        }\n",
    "    \n",
    "job = JobPosting(\"Data Scientist\", \"Tech Innovations\", \"New York\", 120_000)\n",
    "\n",
    "print(job.to_dict()) # always use parantheses when entering a method!!! "
   ]
  },
  {
   "cell_type": "markdown",
   "metadata": {},
   "source": [
    "## 1.21.3"
   ]
  },
  {
   "cell_type": "markdown",
   "metadata": {},
   "source": [
    "- Create a class named JobPosting with a method compare_salary that compares the salary of two job postings and returns the title of the job with the higher salary.\n",
    "- Instantiate two objects called job1 and job2 of this class and compare their salaries using the compare_salary method.\n",
    "- The two objects are defined below in the code needed."
   ]
  },
  {
   "cell_type": "code",
   "execution_count": 15,
   "metadata": {},
   "outputs": [
    {
     "name": "stdout",
     "output_type": "stream",
     "text": [
      "Data Scientist\n",
      "Data Scientist\n"
     ]
    }
   ],
   "source": [
    "class JobPosting:\n",
    "    def __init__(self, title, company, location, salary):\n",
    "        self.title = title\n",
    "        self.company = company\n",
    "        self.location = location\n",
    "        self.salary = salary\n",
    "\n",
    "    def compare_salary(self, other_job):\n",
    "        if self.salary >  other_job.salary:\n",
    "            return self.title\n",
    "        else:\n",
    "            return other_job.title\n",
    "\n",
    "job1 = JobPosting('Data Scientist', 'Tech Innovations', 'New York', 120000)\n",
    "job2 = JobPosting('Data Analyst', 'Data Driven Co', 'San Francisco', 100000)\n",
    "\n",
    "print(JobPosting.compare_salary(job1, job2))\n",
    "\n",
    "# or other approach\n",
    "\n",
    "print(job1.compare_salary(job2))\n"
   ]
  }
 ],
 "metadata": {
  "kernelspec": {
   "display_name": "Python 3",
   "language": "python",
   "name": "python3"
  },
  "language_info": {
   "codemirror_mode": {
    "name": "ipython",
    "version": 3
   },
   "file_extension": ".py",
   "mimetype": "text/x-python",
   "name": "python",
   "nbconvert_exporter": "python",
   "pygments_lexer": "ipython3",
   "version": "3.11.9"
  }
 },
 "nbformat": 4,
 "nbformat_minor": 2
}
