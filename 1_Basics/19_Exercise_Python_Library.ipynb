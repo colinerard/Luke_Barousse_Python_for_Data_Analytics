{
 "cells": [
  {
   "cell_type": "markdown",
   "metadata": {},
   "source": [
    "# 19 Exercise Python Library"
   ]
  },
  {
   "cell_type": "markdown",
   "metadata": {},
   "source": [
    "An exercise to prepare us for the data cleaning that will come later down the line using modules from the python library.\n",
    "\n",
    "In the dataset on hugmyface, there's a couple of things we need to clean. We'll do some exercise work below to correct the following things:\n",
    "\n",
    "- turn the 'job_date' from a string value to a date time object\n",
    "- turn the 'job_skills' from a string value to a list object\n",
    "\n",
    "We'll be using the dummy data below, which is a list of dictionaries."
   ]
  },
  {
   "cell_type": "code",
   "execution_count": 33,
   "metadata": {},
   "outputs": [],
   "source": [
    "data_science_jobs = [\n",
    "    {'job_title': 'Data Scientist', 'job_skills': \"['Python', 'SQL', 'Machine Learning']\", 'job_date': '2023-05-12'},\n",
    "    {'job_title': 'Machine Learning Engineer', 'job_skills': \"['Python', 'TensorFlow', 'Deep Learning']\", 'job_date': '2023-05-15'},\n",
    "    {'job_title': 'Data Analyst', 'job_skills': \"['SQL', 'R', 'Tableau']\", 'job_date': '2023-05-10'},\n",
    "    {'job_title': 'Business Intelligence Developer', 'job_skills': \"['SQL', 'PowerBI', 'Data Warehousing']\", 'job_date': '2023-05-08'},\n",
    "    {'job_title': 'Data Engineer', 'job_skills': \"['Python', 'Spark', 'Hadoop']\", 'job_date': '2023-05-18'},\n",
    "    {'job_title': 'AI Specialist', 'job_skills': \"['Python', 'PyTorch', 'AI Ethics']\", 'job_date': '2023-05-20'}\n",
    "]"
   ]
  },
  {
   "cell_type": "code",
   "execution_count": 34,
   "metadata": {},
   "outputs": [],
   "source": [
    "# cleaning date-time with the python standard library.\n",
    "\n",
    "from datetime import datetime"
   ]
  },
  {
   "cell_type": "code",
   "execution_count": 35,
   "metadata": {},
   "outputs": [
    {
     "data": {
      "text/plain": [
       "datetime.datetime(2024, 10, 18, 10, 49, 28, 627129)"
      ]
     },
     "execution_count": 35,
     "metadata": {},
     "output_type": "execute_result"
    }
   ],
   "source": [
    "datetime.now()"
   ]
  },
  {
   "cell_type": "code",
   "execution_count": 36,
   "metadata": {},
   "outputs": [
    {
     "data": {
      "text/plain": [
       "str"
      ]
     },
     "execution_count": 36,
     "metadata": {},
     "output_type": "execute_result"
    }
   ],
   "source": [
    "# verifying the type we currently have for \"job date\"\n",
    "type(data_science_jobs[0][\"job_date\"])"
   ]
  },
  {
   "cell_type": "code",
   "execution_count": 37,
   "metadata": {},
   "outputs": [
    {
     "name": "stdout",
     "output_type": "stream",
     "text": [
      "2023-05-12 00:00:00\n"
     ]
    }
   ],
   "source": [
    "# changing the type\n",
    "# for method # fomarting codes, go to the python library in the datetime section.\n",
    "\n",
    "test_date = data_science_jobs[0][\"job_date\"]\n",
    "\n",
    "print(datetime.strptime(test_date, \"%Y-%m-%d\"))"
   ]
  },
  {
   "cell_type": "code",
   "execution_count": 38,
   "metadata": {},
   "outputs": [
    {
     "data": {
      "text/plain": [
       "[{'job_title': 'Data Scientist',\n",
       "  'job_skills': \"['Python', 'SQL', 'Machine Learning']\",\n",
       "  'job_date': datetime.datetime(2023, 5, 12, 0, 0)},\n",
       " {'job_title': 'Machine Learning Engineer',\n",
       "  'job_skills': \"['Python', 'TensorFlow', 'Deep Learning']\",\n",
       "  'job_date': datetime.datetime(2023, 5, 15, 0, 0)},\n",
       " {'job_title': 'Data Analyst',\n",
       "  'job_skills': \"['SQL', 'R', 'Tableau']\",\n",
       "  'job_date': datetime.datetime(2023, 5, 10, 0, 0)},\n",
       " {'job_title': 'Business Intelligence Developer',\n",
       "  'job_skills': \"['SQL', 'PowerBI', 'Data Warehousing']\",\n",
       "  'job_date': datetime.datetime(2023, 5, 8, 0, 0)},\n",
       " {'job_title': 'Data Engineer',\n",
       "  'job_skills': \"['Python', 'Spark', 'Hadoop']\",\n",
       "  'job_date': datetime.datetime(2023, 5, 18, 0, 0)},\n",
       " {'job_title': 'AI Specialist',\n",
       "  'job_skills': \"['Python', 'PyTorch', 'AI Ethics']\",\n",
       "  'job_date': datetime.datetime(2023, 5, 20, 0, 0)}]"
      ]
     },
     "execution_count": 38,
     "metadata": {},
     "output_type": "execute_result"
    }
   ],
   "source": [
    "# how do we apply it to all items in the list of dict. -» Using a for loop!!\n",
    "\n",
    "for job in data_science_jobs:\n",
    "    job[\"job_date\"] = datetime.strptime(job[\"job_date\"], \"%Y-%m-%d\")\n",
    "\n",
    "data_science_jobs"
   ]
  },
  {
   "cell_type": "code",
   "execution_count": 39,
   "metadata": {},
   "outputs": [],
   "source": [
    "# clean the list of skills. They are recognised as a string because they are between double quotes.\n",
    "# we will use ast in the python library. Use chatgpt to understand which module to use.\n",
    "# we will use the ast.literal_eval method\n",
    "\n",
    "import ast \n",
    "\n",
    "for job in data_science_jobs:\n",
    "    job[\"job_skills\"] = ast.literal_eval(job[\"job_skills\"])"
   ]
  },
  {
   "cell_type": "code",
   "execution_count": 40,
   "metadata": {},
   "outputs": [
    {
     "data": {
      "text/plain": [
       "[{'job_title': 'Data Scientist',\n",
       "  'job_skills': ['Python', 'SQL', 'Machine Learning'],\n",
       "  'job_date': datetime.datetime(2023, 5, 12, 0, 0)},\n",
       " {'job_title': 'Machine Learning Engineer',\n",
       "  'job_skills': ['Python', 'TensorFlow', 'Deep Learning'],\n",
       "  'job_date': datetime.datetime(2023, 5, 15, 0, 0)},\n",
       " {'job_title': 'Data Analyst',\n",
       "  'job_skills': ['SQL', 'R', 'Tableau'],\n",
       "  'job_date': datetime.datetime(2023, 5, 10, 0, 0)},\n",
       " {'job_title': 'Business Intelligence Developer',\n",
       "  'job_skills': ['SQL', 'PowerBI', 'Data Warehousing'],\n",
       "  'job_date': datetime.datetime(2023, 5, 8, 0, 0)},\n",
       " {'job_title': 'Data Engineer',\n",
       "  'job_skills': ['Python', 'Spark', 'Hadoop'],\n",
       "  'job_date': datetime.datetime(2023, 5, 18, 0, 0)},\n",
       " {'job_title': 'AI Specialist',\n",
       "  'job_skills': ['Python', 'PyTorch', 'AI Ethics'],\n",
       "  'job_date': datetime.datetime(2023, 5, 20, 0, 0)}]"
      ]
     },
     "execution_count": 40,
     "metadata": {},
     "output_type": "execute_result"
    }
   ],
   "source": [
    "data_science_jobs"
   ]
  },
  {
   "cell_type": "code",
   "execution_count": null,
   "metadata": {},
   "outputs": [],
   "source": [
    "# if we wanted, we could do both cleaning operations in one for loop :)"
   ]
  }
 ],
 "metadata": {
  "kernelspec": {
   "display_name": "Python 3",
   "language": "python",
   "name": "python3"
  },
  "language_info": {
   "codemirror_mode": {
    "name": "ipython",
    "version": 3
   },
   "file_extension": ".py",
   "mimetype": "text/x-python",
   "name": "python",
   "nbconvert_exporter": "python",
   "pygments_lexer": "ipython3",
   "version": "3.11.9"
  }
 },
 "nbformat": 4,
 "nbformat_minor": 2
}
