{
 "cells": [
  {
   "cell_type": "markdown",
   "metadata": {},
   "source": [
    "# 12 Operators"
   ]
  },
  {
   "cell_type": "markdown",
   "metadata": {},
   "source": [
    "## 12.1 Logical operators: and, or, not"
   ]
  },
  {
   "cell_type": "markdown",
   "metadata": {},
   "source": [
    "| Operator | Name     | Example |\n",
    "|----------|----------|---------|\n",
    "| and      | Logical AND | x and y |\n",
    "| or       | Logical OR  | x or y  |\n",
    "| not      | Logical NOT | not x   |"
   ]
  },
  {
   "cell_type": "code",
   "execution_count": 1,
   "metadata": {},
   "outputs": [
    {
     "data": {
      "text/plain": [
       "True"
      ]
     },
     "execution_count": 1,
     "metadata": {},
     "output_type": "execute_result"
    }
   ],
   "source": [
    "# both of these are true -» returns me true as a result using and.\n",
    "job_work_from_home = True\n",
    "job_health_insurance = True\n",
    "\n",
    "job_work_from_home and job_health_insurance"
   ]
  },
  {
   "cell_type": "code",
   "execution_count": 2,
   "metadata": {},
   "outputs": [
    {
     "data": {
      "text/plain": [
       "False"
      ]
     },
     "execution_count": 2,
     "metadata": {},
     "output_type": "execute_result"
    }
   ],
   "source": [
    "# both of these are true -» returns me false as a result using and when one is False.\n",
    "job_work_from_home = True\n",
    "job_health_insurance = False\n",
    "\n",
    "job_work_from_home and job_health_insurance"
   ]
  },
  {
   "cell_type": "code",
   "execution_count": 3,
   "metadata": {},
   "outputs": [
    {
     "data": {
      "text/plain": [
       "True"
      ]
     },
     "execution_count": 3,
     "metadata": {},
     "output_type": "execute_result"
    }
   ],
   "source": [
    "# we can compare more than 2 variables\n",
    "job_work_from_home = True\n",
    "job_health_insurance = True\n",
    "job_no_degree_mentioned = True\n",
    "\n",
    "job_work_from_home and job_health_insurance and job_no_degree_mentioned"
   ]
  },
  {
   "cell_type": "code",
   "execution_count": 5,
   "metadata": {},
   "outputs": [
    {
     "data": {
      "text/plain": [
       "True"
      ]
     },
     "execution_count": 5,
     "metadata": {},
     "output_type": "execute_result"
    }
   ],
   "source": [
    "# only meet one of the conditions using or. Only when both are false do we get false as a result.\n",
    "job_work_from_home = True\n",
    "job_health_insurance = False\n",
    "\n",
    "job_work_from_home or job_health_insurance"
   ]
  },
  {
   "cell_type": "code",
   "execution_count": 6,
   "metadata": {},
   "outputs": [
    {
     "data": {
      "text/plain": [
       "False"
      ]
     },
     "execution_count": 6,
     "metadata": {},
     "output_type": "execute_result"
    }
   ],
   "source": [
    "# not is used to change which way the true or false statement is going\n",
    "not True"
   ]
  },
  {
   "cell_type": "code",
   "execution_count": 8,
   "metadata": {},
   "outputs": [
    {
     "data": {
      "text/plain": [
       "True"
      ]
     },
     "execution_count": 8,
     "metadata": {},
     "output_type": "execute_result"
    }
   ],
   "source": [
    "# use not to find the opposite\n",
    "job_work_from_home = True\n",
    "job_health_insurance = True\n",
    "job_no_degree_mentioned = False\n",
    "\n",
    "job_work_from_home and job_health_insurance and not job_no_degree_mentioned"
   ]
  },
  {
   "cell_type": "code",
   "execution_count": 9,
   "metadata": {},
   "outputs": [
    {
     "name": "stdout",
     "output_type": "stream",
     "text": [
      "Conditions met\n"
     ]
    }
   ],
   "source": [
    "# using these operators to have a specific output using an if statement\n",
    "if job_work_from_home and job_health_insurance and not job_no_degree_mentioned:\n",
    "    print(\"Conditions met\")"
   ]
  },
  {
   "cell_type": "markdown",
   "metadata": {},
   "source": [
    "## 12.2 Membership operators in, not in"
   ]
  },
  {
   "cell_type": "markdown",
   "metadata": {},
   "source": [
    "checking if an object is inside another object or not.\n",
    "\n",
    "| Operator | Name            | Example   |\n",
    "|----------|-----------------|-----------|\n",
    "| in       | Membership      | x in y    |\n",
    "| not in   | Not membership  | x not in y|"
   ]
  },
  {
   "cell_type": "code",
   "execution_count": 11,
   "metadata": {},
   "outputs": [
    {
     "data": {
      "text/plain": [
       "True"
      ]
     },
     "execution_count": 11,
     "metadata": {},
     "output_type": "execute_result"
    }
   ],
   "source": [
    "# use it to find if within a another object. It is case sensitive. \n",
    "\"Data\" in \"Data Nerd\""
   ]
  },
  {
   "cell_type": "code",
   "execution_count": 14,
   "metadata": {},
   "outputs": [
    {
     "name": "stdout",
     "output_type": "stream",
     "text": [
      "True\n",
      "True\n"
     ]
    }
   ],
   "source": [
    "# use it to verify if within a list. Use not for the opposite\n",
    "job_skills = [\"Python\", \"r\", \"sql\"]\n",
    "print(\"Python\" in job_skills)\n",
    "print(\"Excel\" not in job_skills)"
   ]
  },
  {
   "cell_type": "markdown",
   "metadata": {},
   "source": [
    "## 12.3 Identity operators is, is not"
   ]
  },
  {
   "cell_type": "markdown",
   "metadata": {},
   "source": [
    "To see if an object is correlated to another. Commonly confused with comparison operators!!\n",
    "\n",
    "They are used to see if items are using the same memory location. If we have 2 diff variables with the same value, using is will return false!\n",
    "\n",
    "| Operator | Name               | Example   |\n",
    "|----------|--------------------|-----------|\n",
    "| is       | Identity           | x is y    |\n",
    "| is not   | Not identity       | x is not y|"
   ]
  },
  {
   "cell_type": "code",
   "execution_count": 15,
   "metadata": {},
   "outputs": [
    {
     "data": {
      "text/plain": [
       "False"
      ]
     },
     "execution_count": 15,
     "metadata": {},
     "output_type": "execute_result"
    }
   ],
   "source": [
    "# do not use is to compare if two variables are equal\n",
    "lukes_salary = 100_000\n",
    "kelly_salary = 100_000\n",
    "\n",
    "lukes_salary is kelly_salary"
   ]
  },
  {
   "cell_type": "code",
   "execution_count": 16,
   "metadata": {},
   "outputs": [
    {
     "name": "stdout",
     "output_type": "stream",
     "text": [
      "2356724865680\n",
      "2356724867184\n"
     ]
    }
   ],
   "source": [
    "# it is false because both ids are different\n",
    "print(id(lukes_salary))\n",
    "print(id(kelly_salary))"
   ]
  },
  {
   "cell_type": "markdown",
   "metadata": {},
   "source": [
    "We won't use this operator too often in data analytics\n",
    "\n",
    "A case is if we have e.g. a list of skills is the same item. (see below)"
   ]
  },
  {
   "cell_type": "code",
   "execution_count": 17,
   "metadata": {},
   "outputs": [
    {
     "name": "stdout",
     "output_type": "stream",
     "text": [
      "True\n"
     ]
    }
   ],
   "source": [
    "core_skills = [\"Python\", \"r\", \"sql\"]\n",
    "lukes_skills = core_skills\n",
    "print(lukes_skills is core_skills)"
   ]
  },
  {
   "cell_type": "markdown",
   "metadata": {},
   "source": [
    "## 12.4 Bitwise operators"
   ]
  },
  {
   "cell_type": "markdown",
   "metadata": {},
   "source": [
    "Use in conjunction with the binary function\n",
    "\n",
    "Beyond the scope of the course, but included here for completeness. \n",
    "\n",
    "| Operator | Name        | Example |\n",
    "|----------|-------------|---------|\n",
    "| &        | Bitwise AND | x & y   |\n",
    "| \\\\|       | Bitwise OR  | x \\\\| y  |\n",
    "| ^        | Bitwise XOR | x ^ y   |\n",
    "| ~        | Bitwise NOT | ~x      |\n",
    "| <<       | Left Shift  | x << y  |\n",
    "| >>       | Right Shift | x >> y  |\n",
    "\n",
    "\n",
    "we are including it here as the & (and), | (or) and the ~ (not) symbol will be used for Pandas"
   ]
  },
  {
   "cell_type": "markdown",
   "metadata": {},
   "source": [
    "## 12.7 Problems"
   ]
  },
  {
   "cell_type": "markdown",
   "metadata": {},
   "source": [
    "### 1.12.1"
   ]
  },
  {
   "cell_type": "markdown",
   "metadata": {},
   "source": [
    "Check if the job_title1 of 'Data Engineer' is not the same object as the job_title2 of 'Data Scientist' and print the result."
   ]
  },
  {
   "cell_type": "code",
   "execution_count": 19,
   "metadata": {},
   "outputs": [
    {
     "name": "stdout",
     "output_type": "stream",
     "text": [
      "True\n"
     ]
    }
   ],
   "source": [
    "job_title1 = \"Data Engineer\"\n",
    "job_title2 = \"Data Scientist\"\n",
    "print(job_title1 is not job_title2)"
   ]
  },
  {
   "cell_type": "markdown",
   "metadata": {},
   "source": [
    "### 1.12.2"
   ]
  },
  {
   "cell_type": "markdown",
   "metadata": {},
   "source": [
    "Determine if the job location 'New York' is in the list of job_locations ['New York', 'San Francisco', 'Austin'] and print the result."
   ]
  },
  {
   "cell_type": "code",
   "execution_count": 20,
   "metadata": {},
   "outputs": [
    {
     "name": "stdout",
     "output_type": "stream",
     "text": [
      "True\n"
     ]
    }
   ],
   "source": [
    "job_locations = [\"New York\", \"San Francisco\", \"Austin\"]\n",
    "print(\"New York\" in job_locations )"
   ]
  },
  {
   "cell_type": "markdown",
   "metadata": {},
   "source": [
    "### 1.12.3"
   ]
  },
  {
   "cell_type": "markdown",
   "metadata": {},
   "source": [
    "Check if the job_title 'Data Analyst' is not in the job_description string 'Data Scientist at Tech Corp' and print the result."
   ]
  },
  {
   "cell_type": "code",
   "execution_count": 22,
   "metadata": {},
   "outputs": [
    {
     "name": "stdout",
     "output_type": "stream",
     "text": [
      "True\n"
     ]
    }
   ],
   "source": [
    "job_title = \"Data Analyst\"\n",
    "job_description = \"Data Scientist at Tech Corp\"\n",
    "print(job_title not in job_description)"
   ]
  },
  {
   "cell_type": "markdown",
   "metadata": {},
   "source": [
    "### 1.12.4"
   ]
  },
  {
   "cell_type": "markdown",
   "metadata": {},
   "source": [
    "Check if both 'Data Scientist' and 'Machine Learning Engineer' are in the list of job titles ['Data Scientist', 'Data Analyst', 'Machine Learning Engineer'] and print the result."
   ]
  },
  {
   "cell_type": "code",
   "execution_count": 23,
   "metadata": {},
   "outputs": [
    {
     "name": "stdout",
     "output_type": "stream",
     "text": [
      "True\n"
     ]
    }
   ],
   "source": [
    "job_titles = [\"Data Scientist\", \"Data Analyst\", \"Machine Learning Engineer\"]\n",
    "print(\"Data Scientist\" and \"Machine Learning Engineer\" in job_titles)"
   ]
  },
  {
   "cell_type": "markdown",
   "metadata": {},
   "source": [
    "### 1.12.5"
   ]
  },
  {
   "cell_type": "markdown",
   "metadata": {},
   "source": [
    "Perform a bitwise OR operation on the binary representations of the salaries 100000 and 50000 and print the result. Named salary1 and salary2 respectively."
   ]
  },
  {
   "cell_type": "code",
   "execution_count": 24,
   "metadata": {},
   "outputs": [
    {
     "name": "stdout",
     "output_type": "stream",
     "text": [
      "116720\n"
     ]
    }
   ],
   "source": [
    "salary1 = 100_000\n",
    "salary2 = 50_000\n",
    "print(salary1 | salary2)"
   ]
  }
 ],
 "metadata": {
  "kernelspec": {
   "display_name": "Python 3",
   "language": "python",
   "name": "python3"
  },
  "language_info": {
   "codemirror_mode": {
    "name": "ipython",
    "version": 3
   },
   "file_extension": ".py",
   "mimetype": "text/x-python",
   "name": "python",
   "nbconvert_exporter": "python",
   "pygments_lexer": "ipython3",
   "version": "3.11.9"
  }
 },
 "nbformat": 4,
 "nbformat_minor": 2
}
